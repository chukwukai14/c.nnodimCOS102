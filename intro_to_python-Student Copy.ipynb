{
 "cells": [
  {
   "cell_type": "markdown",
   "metadata": {
    "id": "irgOWNuvFG6q"
   },
   "source": []
  },
  {
   "cell_type": "markdown",
   "metadata": {
    "id": "irgOWNuvFG6q"
   },
   "source": [
    "<a name='0'></a>\n",
    "\n",
    "# Basic of Python Programming\n",
    "\n",
    "\n",
    "This is a practical introduction to Python Programming Language. Python is an interpreted, high-level, and general purpose programming language that was designed for efficiency, readability, and simplicity. \n",
    "\n",
    "Python design philosophy emphasizes simplicity and code readability. There are about 19 Python design guiding principles, the top 8 being:\n",
    "\n",
    "* Beautiful is better than ugly. \n",
    "- Explicit is better than implicit\n",
    "* Simple is better than complex\n",
    "* Complex is better than complicated\n",
    "* Readability counts\n",
    "* Now is better than ever\n",
    "* If the implementation is hard to explain, it's a bad idea.\n",
    "* If the implementation is easy to explain, it may be a good idea.\n",
    "\n",
    "More design rules can be found in the [Zen of Python](https://en.wikipedia.org/wiki/Zen_of_Python). You can also display them by importing this(`import this`) in any Python interpreter. "
   ]
  },
  {
   "cell_type": "code",
   "execution_count": 9,
   "metadata": {
    "scrolled": true
   },
   "outputs": [
    {
     "name": "stdout",
     "output_type": "stream",
     "text": [
      "The Zen of Python, by Tim Peters\n",
      "\n",
      "Beautiful is better than ugly.\n",
      "Explicit is better than implicit.\n",
      "Simple is better than complex.\n",
      "Complex is better than complicated.\n",
      "Flat is better than nested.\n",
      "Sparse is better than dense.\n",
      "Readability counts.\n",
      "Special cases aren't special enough to break the rules.\n",
      "Although practicality beats purity.\n",
      "Errors should never pass silently.\n",
      "Unless explicitly silenced.\n",
      "In the face of ambiguity, refuse the temptation to guess.\n",
      "There should be one-- and preferably only one --obvious way to do it.\n",
      "Although that way may not be obvious at first unless you're Dutch.\n",
      "Now is better than never.\n",
      "Although never is often better than *right* now.\n",
      "If the implementation is hard to explain, it's a bad idea.\n",
      "If the implementation is easy to explain, it may be a good idea.\n",
      "Namespaces are one honking great idea -- let's do more of those!\n"
     ]
    }
   ],
   "source": [
    "import this"
   ]
  },
  {
   "cell_type": "markdown",
   "metadata": {},
   "source": [
    "# Why Python for Data Science?"
   ]
  },
  {
   "cell_type": "markdown",
   "metadata": {},
   "source": [
    "Python is a popular and go-to programming language in different tech communities, most notable in machine learning and data science. It is sometimes referred to as [“batteries included”](https://docs.python.org/3/tutorial/stdlib.html) due to its rich standard library. Below are more elaborated advantages of Python:\n",
    "\n",
    "* It is simple to read and write: Python syntaxes are very easy to write and easy to recall as well. \n",
    "* It has a beautiful design and built-in data types. \n",
    "* It has thousands of great libraries in many disciplines.\n",
    "* Supportive communities: Good documentation, courses, tutorials, social groups.\n",
    "* Easy to learn and use due to its simple syntaxes which feel like a natural language.\n",
    "\n",
    "**Note:**\n",
    "\n",
    "- Data Science is not about programming languages/tools such as Python, R, Excel, Jupyter Notebook, Google Colab, etc<br>\n",
    "- Data Science is about using the above tools and techniques, and, if required, inventing new tools and techniques, to solve a problem using “data” in a “scientific” way.<br><p>\n",
    "\n",
    "\n",
    "    \n",
    "**<u>This introduction will cover the following:</u>** \n",
    "\n",
    "\n",
    "* [1. Variables, Numbers and Strings](#1)\n",
    "    * [1.1 Variables](#1-1)\n",
    "    * [1.2 Numbers](#1-2)\n",
    "    * [1.3 Strings](#1-3)\n",
    "* [2. Data Structures](#2)\n",
    "    * [2.1 Lists](#2-1)\n",
    "    * [2.2 Dictionaries](#2-2)\n",
    "    * [2.3 Tuples](#2-3)\n",
    "    * [2.4 Sets](#2-4)\n",
    "* [3. Comparison and Logic Operators](#3)\n",
    "* [4. Control Flow](#4)\n",
    "    * [4.1 If Condition](#4-1)\n",
    "    * [4.2 For Loop](#4-2)\n",
    "    * [4.3 While Loop](#4-3)\n",
    "* [5. Functions](#5)\n",
    "* [6. Lambda Functions](#6)\n",
    "* [7. Built in functions](#7)\n",
    "    * [7.1 Map Function](#7-1)\n",
    "    * [7.2 Filter Function](#7-2)\n",
    "\n",
    "* [8. More Useful Python Stuff](#8)\n",
    "    * [8.1 List Comprehension](#8-1)\n",
    "    * [8.2 Enumerate Function](#8-2)\n",
    "    * [8.3 Zip Function](#8-3)"
   ]
  },
  {
   "cell_type": "markdown",
   "metadata": {
    "id": "LQkPE-1-f4_w"
   },
   "source": [
    "<a name='1'></a>\n",
    "\n",
    "## 1. Variables, Numbers, and Strings"
   ]
  },
  {
   "cell_type": "markdown",
   "metadata": {},
   "source": [
    "<a name='1-1'></a>\n",
    "\n",
    "\n",
    "### 1.1 Variables"
   ]
  },
  {
   "cell_type": "markdown",
   "metadata": {
    "id": "Ay7vWsxNgOvQ"
   },
   "source": [
    "Below are quick notes about Python variables and other most important things to know before writing actual Python code:\n",
    "\n",
    "* `A Variable` is a location in memory where we store the data. \n",
    "* `A variable` in Python can either be of 3 data types: `integer`, `float`, or a `string`.  Data type specifies the category of the variables.\n",
    "* We can use `type(variable_name)` to find the type of given `variable_name`.\n",
    "* In Python, we use `#` to add `comments`. Comments do not change anything and are not compiled.\n",
    "* If your comment is longer than one line, you can use triple quotes. The lines inside triple quotes are ignore during runtime.\n",
    "\n",
    "```\n",
    "\"\"\"\n",
    "In Python, there is no official way to write long comments, but you can use triple quotes.\n",
    "The sentence between triple quote are ignored at runtime. You can also use single quote('''....'''). Python treats single quote as double quotes in many scanerios such as strings representation.\n",
    "\n",
    "Guido also agreed it works: https://twitter.com/gvanrossum/status/112670605505077248 \n",
    "\"\"\"\n",
    "```\n",
    "\n",
    "* We also use `=` to assign a value to the name of variable. Example: `var_name = 1`. Note that it's different to comparison operator of equal to (`==`).\n",
    "* We can use `print()` to display the value of variable or the results of any expression.\n",
    "* Each line of the code start on the new line.\n",
    "* Be aware of indentations. Python is serious about them."
   ]
  },
  {
   "cell_type": "code",
   "execution_count": 11,
   "metadata": {
    "id": "rpDCNUAigQ7T"
   },
   "outputs": [],
   "source": [
    "# EXAMPLE OF CREATING A VARIABLE\n",
    "\n",
    "# We use # to add comment, it won’t run or affect the code\n",
    "# You use = to assign a value to the name of the variable. \n",
    "# Each code starts on the new line. No semicolon or {}\n",
    "# Python is awesome. You do not need to provide the data type of variable when creating it.\n",
    "\n",
    "int_var = 1\n",
    "str_var = 'Hundred'"
   ]
  },
  {
   "cell_type": "markdown",
   "metadata": {
    "id": "QKqOitvHiJGq"
   },
   "source": [
    "<a name='1-2'></a>\n",
    "\n",
    "### 1.2 Numbers\n",
    "\n",
    "Numbers in Python can either be integers `int` or floats `float`. Integer are real, finite, natural or whole numbers. Take an example: `1`,`2`,`3`,`4` are integers. Floats are numbers that have decimal points such as`4.6`, `6.0`, `7.7`. Note that `4.0` is considered as a float data type too. Recently, Karpathy, AI Director at Tesla posted that \n",
    "[floats are not real](https://twitter.com/karpathy/status/1475317897660612617).\n",
    "\n",
    "We can perform operations on numbers. The operations that we can perform include addition, multiplication, division, modular, etc..."
   ]
  },
  {
   "cell_type": "code",
   "execution_count": 1,
   "metadata": {
    "colab": {
     "base_uri": "https://localhost:8080/"
    },
    "id": "D4k_6MQvDGyw",
    "outputId": "22956e00-8d13-47a9-e8ec-92abcd562ea7"
   },
   "outputs": [
    {
     "data": {
      "text/plain": [
       "int"
      ]
     },
     "execution_count": 1,
     "metadata": {},
     "output_type": "execute_result"
    }
   ],
   "source": [
    "int_var = 10\n",
    "float_var = 12.8\n",
    "\n",
    "type(int_var)"
   ]
  },
  {
   "cell_type": "code",
   "execution_count": 3,
   "metadata": {
    "colab": {
     "base_uri": "https://localhost:8080/"
    },
    "id": "-Xux_M0IDSNd",
    "outputId": "de6cf2b9-e855-4376-be5e-e36a98ac95b3"
   },
   "outputs": [
    {
     "data": {
      "text/plain": [
       "float"
      ]
     },
     "execution_count": 3,
     "metadata": {},
     "output_type": "execute_result"
    }
   ],
   "source": [
    "type(float_var)"
   ]
  },
  {
   "cell_type": "code",
   "execution_count": 5,
   "metadata": {
    "colab": {
     "base_uri": "https://localhost:8080/"
    },
    "id": "ylRf_AakiOX5",
    "outputId": "af61036a-51e4-471a-fc9f-6bbb5ed2bb7e"
   },
   "outputs": [
    {
     "data": {
      "text/plain": [
       "101"
      ]
     },
     "execution_count": 5,
     "metadata": {},
     "output_type": "execute_result"
    }
   ],
   "source": [
    "# Numeric Operations \n",
    "\n",
    "# Addition\n",
    "\n",
    "1 + 100"
   ]
  },
  {
   "cell_type": "code",
   "execution_count": 7,
   "metadata": {},
   "outputs": [
    {
     "data": {
      "text/plain": [
       "2"
      ]
     },
     "execution_count": 7,
     "metadata": {},
     "output_type": "execute_result"
    }
   ],
   "source": [
    "# Subtraction\n",
    "\n",
    "5 - 3"
   ]
  },
  {
   "cell_type": "code",
   "execution_count": 1,
   "metadata": {
    "colab": {
     "base_uri": "https://localhost:8080/"
    },
    "id": "z8RlLLQRiclC",
    "outputId": "329c4f62-fb29-4cdb-f2a8-11bda7294f48"
   },
   "outputs": [
    {
     "data": {
      "text/plain": [
       "100"
      ]
     },
     "execution_count": 1,
     "metadata": {},
     "output_type": "execute_result"
    }
   ],
   "source": [
    "# Multiplication\n",
    "\n",
    "1 * 100"
   ]
  },
  {
   "cell_type": "code",
   "execution_count": 2,
   "metadata": {
    "colab": {
     "base_uri": "https://localhost:8080/"
    },
    "id": "j3Z7GFSjiuJ9",
    "outputId": "4b0715e2-c877-4927-87b0-16da07b7fe99"
   },
   "outputs": [
    {
     "data": {
      "text/plain": [
       "0.01"
      ]
     },
     "execution_count": 2,
     "metadata": {},
     "output_type": "execute_result"
    }
   ],
   "source": [
    "# Division\n",
    "\n",
    "1 / 100"
   ]
  },
  {
   "cell_type": "code",
   "execution_count": 3,
   "metadata": {},
   "outputs": [
    {
     "data": {
      "text/plain": [
       "3"
      ]
     },
     "execution_count": 3,
     "metadata": {},
     "output_type": "execute_result"
    }
   ],
   "source": [
    "# Floor division\n",
    "\n",
    "7 // 2"
   ]
  },
  {
   "cell_type": "code",
   "execution_count": 4,
   "metadata": {
    "colab": {
     "base_uri": "https://localhost:8080/"
    },
    "id": "2TC5FUgKizLU",
    "outputId": "cca0eb84-b6f0-4db1-e3b7-bba58d03ea66"
   },
   "outputs": [
    {
     "data": {
      "text/plain": [
       "0"
      ]
     },
     "execution_count": 4,
     "metadata": {},
     "output_type": "execute_result"
    }
   ],
   "source": [
    "# Modular (%)\n",
    "# This is the remainder or a value remaining after dividing two numbers\n",
    "# 100 / 1 = 100, remainder is 0\n",
    "\n",
    "100 % 1"
   ]
  },
  {
   "cell_type": "code",
   "execution_count": 5,
   "metadata": {},
   "outputs": [
    {
     "data": {
      "text/plain": [
       "1"
      ]
     },
     "execution_count": 5,
     "metadata": {},
     "output_type": "execute_result"
    }
   ],
   "source": [
    "7 % 2"
   ]
  },
  {
   "cell_type": "code",
   "execution_count": 6,
   "metadata": {},
   "outputs": [],
   "source": [
    "# This is because python will just return the answer as the numerator. (In cases where the numerator is smaller than the denominator."
   ]
  },
  {
   "cell_type": "code",
   "execution_count": 7,
   "metadata": {},
   "outputs": [
    {
     "data": {
      "text/plain": [
       "7"
      ]
     },
     "execution_count": 7,
     "metadata": {},
     "output_type": "execute_result"
    }
   ],
   "source": [
    "7 % 100"
   ]
  },
  {
   "cell_type": "code",
   "execution_count": 8,
   "metadata": {
    "colab": {
     "base_uri": "https://localhost:8080/"
    },
    "id": "0Z0LsbTZA2_x",
    "outputId": "984b21a1-d43e-4af9-c823-f459ce35c320"
   },
   "outputs": [
    {
     "data": {
      "text/plain": [
       "0"
      ]
     },
     "execution_count": 8,
     "metadata": {},
     "output_type": "execute_result"
    }
   ],
   "source": [
    "10 % 2"
   ]
  },
  {
   "cell_type": "code",
   "execution_count": 9,
   "metadata": {
    "colab": {
     "base_uri": "https://localhost:8080/"
    },
    "id": "LEXWCtDTAjxN",
    "outputId": "082a19fc-38ec-41dc-c6b1-a3085747fd52"
   },
   "outputs": [
    {
     "data": {
      "text/plain": [
       "1"
      ]
     },
     "execution_count": 9,
     "metadata": {},
     "output_type": "execute_result"
    }
   ],
   "source": [
    "# Powers\n",
    "# 1 power any number is 1 always\n",
    "\n",
    "1 ** 100"
   ]
  },
  {
   "cell_type": "code",
   "execution_count": 10,
   "metadata": {
    "colab": {
     "base_uri": "https://localhost:8080/"
    },
    "id": "aX6B6U7vBs0T",
    "outputId": "4cdc396a-50eb-4712-96f8-2212aa801da5"
   },
   "outputs": [
    {
     "data": {
      "text/plain": [
       "4"
      ]
     },
     "execution_count": 10,
     "metadata": {},
     "output_type": "execute_result"
    }
   ],
   "source": [
    "2 ** 2"
   ]
  },
  {
   "cell_type": "code",
   "execution_count": 11,
   "metadata": {
    "colab": {
     "base_uri": "https://localhost:8080/"
    },
    "id": "UfhAyildkFFn",
    "outputId": "65333e6c-fba8-4811-8279-f97a4182a8df"
   },
   "outputs": [
    {
     "name": "stdout",
     "output_type": "stream",
     "text": [
      "101\n"
     ]
    }
   ],
   "source": [
    "# We use print() to display the results of the operations or a variable\n",
    "\n",
    "print(1 + 100)"
   ]
  },
  {
   "cell_type": "markdown",
   "metadata": {
    "id": "eHvcuGQoBCTU"
   },
   "source": [
    "<a name='1-3'></a>\n",
    "\n",
    "### 1.3 Strings\n",
    "\n",
    "Python supports strings. String is a sequence of characters. \n",
    "\n",
    "Strings are one of the commonly used and important data types. Most problems involve working with strings. Thus, knowing how to work with strings is an incredible thing.\n",
    "\n",
    "Strings are expressed in either `\"...\"` or `'...'`.\n",
    "\n",
    "```\n",
    "\"text inside here will be a string\"\n",
    "'text inside here will also be a string'\n",
    "```\n",
    "\n",
    "We can manipulate strings in many ways. A simple example is to concat the strings. "
   ]
  },
  {
   "cell_type": "code",
   "execution_count": 4,
   "metadata": {
    "id": "VNjcQxVRj3qu"
   },
   "outputs": [
    {
     "data": {
      "text/plain": [
       "\"Sunday, you'll always be the 1st day of the week to me.\""
      ]
     },
     "execution_count": 4,
     "metadata": {},
     "output_type": "execute_result"
    }
   ],
   "source": [
    "position = 1\n",
    "week = \"Sunday\"\n",
    "week + \", you'll always be the \" + str(position)+ \"st day of the week to me.\""
   ]
  },
  {
   "cell_type": "code",
   "execution_count": 1,
   "metadata": {
    "colab": {
     "base_uri": "https://localhost:8080/",
     "height": 35
    },
    "id": "177djVcAj8oL",
    "outputId": "8534b840-a7e2-4a2c-bf26-d57ed25b8d42"
   },
   "outputs": [
    {
     "data": {
      "text/plain": [
       "\"Monday, you'll always be the 2nd day of the week to me.\""
      ]
     },
     "execution_count": 1,
     "metadata": {},
     "output_type": "execute_result"
    }
   ],
   "source": [
    "position = 2\n",
    "week = \"Monday\"\n",
    "week + \", you'll always be the \" + str(position) + \"nd day of the week to me.\"\n"
   ]
  },
  {
   "cell_type": "markdown",
   "metadata": {},
   "source": [
    "Python lets us concatenate strings with the `+` operator. However, if we want to throw in any non-string objects, we have to carefully call `str()` on them first."
   ]
  },
  {
   "cell_type": "code",
   "execution_count": null,
   "metadata": {},
   "outputs": [],
   "source": []
  },
  {
   "cell_type": "code",
   "execution_count": null,
   "metadata": {},
   "outputs": [],
   "source": []
  },
  {
   "cell_type": "code",
   "execution_count": null,
   "metadata": {},
   "outputs": [],
   "source": []
  },
  {
   "cell_type": "code",
   "execution_count": null,
   "metadata": {
    "colab": {
     "base_uri": "https://localhost:8080/"
    },
    "id": "jemHahb6GCyx",
    "outputId": "24754a7d-018d-4e6d-fa9d-16a0ef67f444"
   },
   "outputs": [],
   "source": [
    "# We can use print() to display a string\n",
    "\n"
   ]
  },
  {
   "cell_type": "code",
   "execution_count": 15,
   "metadata": {},
   "outputs": [
    {
     "name": "stdout",
     "output_type": "stream",
     "text": [
      "I am a dog\n"
     ]
    }
   ],
   "source": [
    "print(\"I am a dog\")"
   ]
  },
  {
   "cell_type": "markdown",
   "metadata": {},
   "source": [
    "---\n",
    "**NOTE**\n",
    "\n",
    "- Double quotes are convenient if your string contains a single quote character (e.g. representing an apostrophe).\n",
    "- Similarly, it's easy to create a string that contains double-quotes if you wrap it in single quotes:\n",
    "\n",
    "<b><u>Example</u></b>"
   ]
  },
  {
   "attachments": {
    "image.png": {
     "image/png": "[encoded data removed]"
    }
   },
   "cell_type": "markdown",
   "metadata": {},
   "source": [
    "If we try to put a single quote character inside a single-quoted string, Python gets confused: ![image.png](attachment:image.png)"
   ]
  },
  {
   "cell_type": "code",
   "execution_count": null,
   "metadata": {},
   "outputs": [],
   "source": []
  },
  {
   "cell_type": "markdown",
   "metadata": {},
   "source": [
    "We can fix this by \"escaping\" the single quote with a backslash."
   ]
  },
  {
   "cell_type": "code",
   "execution_count": null,
   "metadata": {},
   "outputs": [],
   "source": []
  },
  {
   "attachments": {
    "image.png": {
     "image/png": "[encoded data removed]"
    }
   },
   "cell_type": "markdown",
   "metadata": {},
   "source": [
    "The table below summarizes some important uses of the backslash character.\n",
    "\n",
    "![image.png](attachment:image.png)\n",
    "\n",
    "---"
   ]
  },
  {
   "cell_type": "code",
   "execution_count": null,
   "metadata": {},
   "outputs": [],
   "source": [
    "# We can also compare strings to check whether they are similar. \n",
    "# If they are similar, case by case, comparison operator returns true. Else false\n",
    "\n"
   ]
  },
  {
   "cell_type": "code",
   "execution_count": null,
   "metadata": {},
   "outputs": [],
   "source": []
  },
  {
   "cell_type": "code",
   "execution_count": null,
   "metadata": {},
   "outputs": [],
   "source": [
    "# Indexing\n",
    "\n"
   ]
  },
  {
   "cell_type": "code",
   "execution_count": null,
   "metadata": {},
   "outputs": [],
   "source": [
    "# Slicing\n",
    "\n"
   ]
  },
  {
   "cell_type": "code",
   "execution_count": null,
   "metadata": {},
   "outputs": [],
   "source": []
  },
  {
   "cell_type": "code",
   "execution_count": null,
   "metadata": {},
   "outputs": [],
   "source": [
    "# How long is this string?\n",
    "\n"
   ]
  },
  {
   "cell_type": "markdown",
   "metadata": {
    "id": "-8qJK4h8n8_P"
   },
   "source": [
    "#### Strings Methods\n",
    "\n",
    "Python provides many built-in methods for manipulating strings. As a programmer, knowing typical string methods and how to use them will give you a real leverage when working with strings.\n",
    "\n",
    "There are many string methods. You can find them [here](https://docs.python.org/2.5/lib/string-methods.html). Let's see some common methods."
   ]
  },
  {
   "cell_type": "code",
   "execution_count": null,
   "metadata": {},
   "outputs": [],
   "source": [
    "# Getting the index position of a letter in a string\n",
    "\n"
   ]
  },
  {
   "cell_type": "code",
   "execution_count": null,
   "metadata": {},
   "outputs": [],
   "source": []
  },
  {
   "cell_type": "code",
   "execution_count": null,
   "metadata": {},
   "outputs": [],
   "source": []
  },
  {
   "cell_type": "markdown",
   "metadata": {},
   "source": [
    "As you can see from the example above, if a letter appears more than once in a string, the index of the first occurence of that letter will be returned.\n",
    "\n",
    "---"
   ]
  },
  {
   "cell_type": "code",
   "execution_count": null,
   "metadata": {
    "id": "xF6Kk0Vco2Uh"
   },
   "outputs": [],
   "source": [
    "sentence = 'mY NAME is Ikechukwu'"
   ]
  },
  {
   "cell_type": "code",
   "execution_count": 19,
   "metadata": {
    "colab": {
     "base_uri": "https://localhost:8080/",
     "height": 35
    },
    "id": "xgYf8qO2o2Uj",
    "outputId": "b28989dc-b99e-4c6b-c5eb-9861902a314f"
   },
   "outputs": [
    {
     "data": {
      "text/plain": [
       "'My name is ikechukwu'"
      ]
     },
     "execution_count": 19,
     "metadata": {},
     "output_type": "execute_result"
    }
   ],
   "source": [
    "# Case capitalization \n",
    "# It return the string with first letter capitalized and the rest being lower cases. \n",
    "sentence = 'mY NAME is Ikechukwu'\n",
    "sentence.capitalize()"
   ]
  },
  {
   "cell_type": "code",
   "execution_count": 23,
   "metadata": {
    "colab": {
     "base_uri": "https://localhost:8080/",
     "height": 35
    },
    "id": "OqbKJIqjpFUv",
    "outputId": "6affdb88-344d-41f2-952f-55154a8f883c"
   },
   "outputs": [
    {
     "data": {
      "text/plain": [
       "'My Name Is Ikechukwu'"
      ]
     },
     "execution_count": 23,
     "metadata": {},
     "output_type": "execute_result"
    }
   ],
   "source": [
    "# Given a string, convert it into title (first letter in each word is capitalized)\n",
    "sentence = 'mY NAME is Ikechukwu'\n",
    "\n",
    "sentence.title()"
   ]
  },
  {
   "cell_type": "code",
   "execution_count": 25,
   "metadata": {
    "colab": {
     "base_uri": "https://localhost:8080/",
     "height": 35
    },
    "id": "vUvd51eGpFUw",
    "outputId": "1820345d-e13e-4539-e2c4-edde8a62105e"
   },
   "outputs": [
    {
     "data": {
      "text/plain": [
       "'MY NAME IS IKECHUKWU'"
      ]
     },
     "execution_count": 25,
     "metadata": {},
     "output_type": "execute_result"
    }
   ],
   "source": [
    "# Converting the string to upper case\n",
    "sentence = 'mY NAME is Ikechukwu'\n",
    "sentence.upper()\n"
   ]
  },
  {
   "cell_type": "code",
   "execution_count": 27,
   "metadata": {
    "colab": {
     "base_uri": "https://localhost:8080/",
     "height": 35
    },
    "id": "msoUtVcfpFUx",
    "outputId": "c4ba7416-6f2a-4d96-f428-d66495b17449"
   },
   "outputs": [
    {
     "data": {
      "text/plain": [
       "'my name is ikechukwu'"
      ]
     },
     "execution_count": 27,
     "metadata": {},
     "output_type": "execute_result"
    }
   ],
   "source": [
    "# Converting the string to lower case\n",
    "sentence = 'mY NAME is Ikechukwu'\n",
    "sentence.lower()\n"
   ]
  },
  {
   "cell_type": "code",
   "execution_count": 29,
   "metadata": {
    "colab": {
     "base_uri": "https://localhost:8080/"
    },
    "id": "lddBz3mFpFUx",
    "outputId": "d0a16ebc-5260-417f-ff97-00bfb902a4d9"
   },
   "outputs": [
    {
     "data": {
      "text/plain": [
       "['mY', 'NAME', 'is', 'Ikechukwu']"
      ]
     },
     "execution_count": 29,
     "metadata": {},
     "output_type": "execute_result"
    }
   ],
   "source": [
    "# Splitting the string\n",
    "sentence = 'mY NAME is Ikechukwu'\n",
    "sentence.split()\n"
   ]
  },
  {
   "cell_type": "markdown",
   "metadata": {},
   "source": [
    "Lastly, we can use `replace()` method to replace some characters in string with another characters. Replace method takes two inputs: characters to be replaced, and new characters to be inserted in string, `replace('characters to be replaced', 'new characters')`. \n",
    "\n",
    "Example, given the string `\"This movie was awesome\"`, replace the word `movie` with `project`. "
   ]
  },
  {
   "cell_type": "code",
   "execution_count": 31,
   "metadata": {},
   "outputs": [
    {
     "data": {
      "text/plain": [
       "'This project was awesome'"
      ]
     },
     "execution_count": 31,
     "metadata": {},
     "output_type": "execute_result"
    }
   ],
   "source": [
    "stri = \"This movie was awesome\"\n",
    "stri.replace('movie' , 'project')"
   ]
  },
  {
   "cell_type": "code",
   "execution_count": 33,
   "metadata": {},
   "outputs": [
    {
     "data": {
      "text/plain": [
       "'Theyessirfutureyessirisyessirgreat'"
      ]
     },
     "execution_count": 33,
     "metadata": {},
     "output_type": "execute_result"
    }
   ],
   "source": [
    "# In the following string, replace all spaces with '%20'\n",
    "stri_2 = \"The future is great\"\n",
    "stri_2.replace(' ' , 'yessir')\n"
   ]
  },
  {
   "cell_type": "code",
   "execution_count": 7,
   "metadata": {},
   "outputs": [
    {
     "data": {
      "text/plain": [
       "True"
      ]
     },
     "execution_count": 7,
     "metadata": {},
     "output_type": "execute_result"
    }
   ],
   "source": [
    "pdapc = \"A townhall different from balablu bulaba\"\n",
    "pdapc.startswith('A')"
   ]
  },
  {
   "cell_type": "code",
   "execution_count": 10,
   "metadata": {},
   "outputs": [
    {
     "data": {
      "text/plain": [
       "False"
      ]
     },
     "execution_count": 10,
     "metadata": {},
     "output_type": "execute_result"
    }
   ],
   "source": [
    "pdapc.startswith('townhall')"
   ]
  },
  {
   "cell_type": "code",
   "execution_count": 13,
   "metadata": {},
   "outputs": [
    {
     "data": {
      "text/plain": [
       "True"
      ]
     },
     "execution_count": 13,
     "metadata": {},
     "output_type": "execute_result"
    }
   ],
   "source": [
    "pdapc.endswith('bulaba')"
   ]
  },
  {
   "cell_type": "code",
   "execution_count": null,
   "metadata": {},
   "outputs": [],
   "source": []
  },
  {
   "cell_type": "code",
   "execution_count": 37,
   "metadata": {},
   "outputs": [
    {
     "data": {
      "text/plain": [
       "'I am learning PythOn'"
      ]
     },
     "execution_count": 37,
     "metadata": {},
     "output_type": "execute_result"
    }
   ],
   "source": [
    "# Format a string using the format method\n",
    "message = 'I am learning {}'\n",
    "message.format('PythOn')\n"
   ]
  },
  {
   "cell_type": "markdown",
   "metadata": {},
   "source": [
    "--- \n",
    "### String Formatting<br><p> \n",
    "\n",
    "- **`format()` - String Formating**"
   ]
  },
  {
   "cell_type": "code",
   "execution_count": null,
   "metadata": {},
   "outputs": [],
   "source": [
    "planet = 'Pluto'\n",
    "pluto_mass = 1.303 * 10 ** 22\n",
    "earth_mass = 5.9722 * 10 ** 24\n",
    "population = 52910390"
   ]
  },
  {
   "cell_type": "code",
   "execution_count": 39,
   "metadata": {},
   "outputs": [
    {
     "data": {
      "text/plain": [
       "\"Pluto weighs about 1.3e+22 kilograms (0.218% of Earth's mass). Its is home to 52,910,390 Plutonians.\""
      ]
     },
     "execution_count": 39,
     "metadata": {},
     "output_type": "execute_result"
    }
   ],
   "source": [
    "planet = 'Pluto'\n",
    "pluto_mass = 1.303 * 10 ** 22\n",
    "earth_mass = 5.9722 * 10 ** 24\n",
    "population = 52910390\n",
    "\"{} weighs about {:.2} kilograms ({:.3%} of Earth's mass). Its is home to {:,} Plutonians.\".format(planet, pluto_mass, pluto_mass / earth_mass,\n",
    "population)                                                                                                   "
   ]
  },
  {
   "cell_type": "markdown",
   "metadata": {},
   "source": [
    "- **{:.2}** ===> convert to 2 decimal points\n",
    "- **{:.3%}** ===> convert to 3 decimal points, format as percent\n",
    "- **{:,}** ===> separate with commas"
   ]
  },
  {
   "cell_type": "code",
   "execution_count": null,
   "metadata": {},
   "outputs": [],
   "source": [
    "name = 'Mercy'\n",
    "job = 'Data Scientist'\n",
    "state = \"Ibadan\"\n",
    "company = 'PiggyVest'"
   ]
  },
  {
   "cell_type": "code",
   "execution_count": 43,
   "metadata": {},
   "outputs": [
    {
     "name": "stdout",
     "output_type": "stream",
     "text": [
      "Hey, my name is Mercy, I'm from Ibadan. I work as a Data Scientist at PiggyVest.\n"
     ]
    }
   ],
   "source": [
    "name = 'Mercy'\n",
    "job = 'Data Scientist'\n",
    "state = \"Ibadan\"\n",
    "company = 'PiggyVest.'\n",
    "print(\"Hey, my name is {}, I'm from {}. I work as a {} at {}\".format(name, state, job, company))"
   ]
  },
  {
   "cell_type": "markdown",
   "metadata": {},
   "source": [
    "---\n",
    "- **`%s` - String Formating**"
   ]
  },
  {
   "cell_type": "code",
   "execution_count": 47,
   "metadata": {},
   "outputs": [
    {
     "name": "stdout",
     "output_type": "stream",
     "text": [
      "Hey, my name is Mercy, I'm from Ibadan. I work as a Data Scientist at Cowrywise\n"
     ]
    }
   ],
   "source": [
    "name = 'Mercy'\n",
    "job = 'Data Scientist'\n",
    "state = \"Ibadan\"\n",
    "company = 'PiggyVest.'\n",
    "print(\"Hey, my name is %s, I'm from %s. I work as a %s at %s\" %(name, state, job, 'Cowrywise'))\n"
   ]
  },
  {
   "cell_type": "markdown",
   "metadata": {},
   "source": [
    "---\n",
    "- **`f-string` - String Formating**"
   ]
  },
  {
   "cell_type": "code",
   "execution_count": 55,
   "metadata": {},
   "outputs": [
    {
     "name": "stdout",
     "output_type": "stream",
     "text": [
      "Hey, my name is Mercy, I'm from Ibadan. I work as a Data Scientist at FairMoney\n"
     ]
    }
   ],
   "source": [
    "name = 'Mercy'\n",
    "job = 'Data Scientist'\n",
    "state = \"Ibadan\"\n",
    "company = 'PiggyVest.'\n",
    "print (f\"Hey, my name is {name}, I'm from {state}. I work as a {job} at {'FairMoney'}\")"
   ]
  },
  {
   "cell_type": "code",
   "execution_count": 57,
   "metadata": {},
   "outputs": [
    {
     "name": "stdout",
     "output_type": "stream",
     "text": [
      "Things Fall Apart is a book by Chinua Achebe.\n"
     ]
    }
   ],
   "source": [
    "author = 'chinua achebe'\n",
    "print(f\"Things Fall Apart is a book by {author.title()}.\")"
   ]
  },
  {
   "cell_type": "markdown",
   "metadata": {},
   "source": [
    "---\n",
    "### String Relation To List\n",
    "\n",
    "Going between strings and lists using `.split()` and `.join()` \n",
    "\n",
    "- `str.split()` turns a string into a list of smaller strings, breaking on whitespace by default. This is super useful for taking you from one big string to a list of words.\n",
    "\n",
    "- `str.join()` takes us in the other direction, sewing a list of strings up into one long string, using the string it was called on as a separator.\n",
    "\n",
    "We will begin with creating a string from a list of strings. Assume we have the following list. To convert it to a proper sentence, we can use the `.join()` method."
   ]
  },
  {
   "cell_type": "code",
   "execution_count": 3,
   "metadata": {},
   "outputs": [
    {
     "name": "stdout",
     "output_type": "stream",
     "text": [
      "I Like To Study\n"
     ]
    }
   ],
   "source": [
    "l = ['I', 'Like', 'To', 'Study']\n",
    "s = ' '.join(l)\n",
    "print(s)"
   ]
  },
  {
   "cell_type": "code",
   "execution_count": 7,
   "metadata": {},
   "outputs": [
    {
     "data": {
      "text/plain": [
       "['I', 'Like', 'To', 'Study']"
      ]
     },
     "execution_count": 7,
     "metadata": {},
     "output_type": "execute_result"
    }
   ],
   "source": [
    "s.split()"
   ]
  },
  {
   "cell_type": "markdown",
   "metadata": {},
   "source": [
    "Occasionally you may want to split on something other than whitespace:"
   ]
  },
  {
   "cell_type": "code",
   "execution_count": 9,
   "metadata": {},
   "outputs": [
    {
     "data": {
      "text/plain": [
       "['1956', '01', '31']"
      ]
     },
     "execution_count": 9,
     "metadata": {},
     "output_type": "execute_result"
    }
   ],
   "source": [
    "datestr = '1956-01-31'\n",
    "datestr.split('-')"
   ]
  },
  {
   "cell_type": "code",
   "execution_count": null,
   "metadata": {},
   "outputs": [],
   "source": []
  },
  {
   "cell_type": "code",
   "execution_count": null,
   "metadata": {},
   "outputs": [],
   "source": [
    "# Joining a list of strings into one long string, using the string it was called on as a separator.\n",
    "\n"
   ]
  },
  {
   "cell_type": "code",
   "execution_count": 13,
   "metadata": {},
   "outputs": [
    {
     "data": {
      "text/plain": [
       "'31/01/1956'"
      ]
     },
     "execution_count": 13,
     "metadata": {},
     "output_type": "execute_result"
    }
   ],
   "source": [
    "day = '31'\n",
    "month = '01'\n",
    "year = '1956'\n",
    "'/'.join([day, month, year])  #result is '31/01/1956'"
   ]
  },
  {
   "cell_type": "code",
   "execution_count": 53,
   "metadata": {},
   "outputs": [
    {
     "data": {
      "text/plain": [
       "['Pluto', 'is', 'a', 'planet!']"
      ]
     },
     "execution_count": 53,
     "metadata": {},
     "output_type": "execute_result"
    }
   ],
   "source": [
    "claim = \"Pluto is a planet!\"\n",
    "tokens = claim.split()\n",
    "tokens"
   ]
  },
  {
   "cell_type": "code",
   "execution_count": 55,
   "metadata": {},
   "outputs": [
    {
     "data": {
      "text/plain": [
       "'Pluto 👏 is 👏 a 👏 planet!'"
      ]
     },
     "execution_count": 55,
     "metadata": {},
     "output_type": "execute_result"
    }
   ],
   "source": [
    "# Yes, we can put unicode characters right in our string literals :)\n",
    "\n",
    "\" 👏 \".join(tokens)"
   ]
  },
  {
   "cell_type": "code",
   "execution_count": 61,
   "metadata": {},
   "outputs": [
    {
     "data": {
      "text/plain": [
       "'PLUTO 👏 IS 👏 A 👏 PLANET!'"
      ]
     },
     "execution_count": 61,
     "metadata": {},
     "output_type": "execute_result"
    }
   ],
   "source": [
    "' 👏 '.join([t.upper() for t in tokens])"
   ]
  },
  {
   "cell_type": "code",
   "execution_count": 63,
   "metadata": {},
   "outputs": [
    {
     "data": {
      "text/plain": [
       "[2, 4, 10]"
      ]
     },
     "execution_count": 63,
     "metadata": {},
     "output_type": "execute_result"
    }
   ],
   "source": [
    "my_basket = [1, 2, 3, 4, 89, 43, 7, 10, 23, 11]\n",
    "[num for num in my_basket if num %2 == 0]"
   ]
  },
  {
   "cell_type": "markdown",
   "metadata": {},
   "source": [
    "#### String methods with DataFrames\n",
    "\n",
    "Knowledge of string methods is very handy because we can use them with DataFrames. More specifically, we can apply them to columns containing text data. Let's create a DataFrame using a custom dictionary.<br> "
   ]
  },
  {
   "cell_type": "code",
   "execution_count": 21,
   "metadata": {},
   "outputs": [
    {
     "data": {
      "text/html": [
       "<div>\n",
       "<style scoped>\n",
       "    .dataframe tbody tr th:only-of-type {\n",
       "        vertical-align: middle;\n",
       "    }\n",
       "\n",
       "    .dataframe tbody tr th {\n",
       "        vertical-align: top;\n",
       "    }\n",
       "\n",
       "    .dataframe thead th {\n",
       "        text-align: right;\n",
       "    }\n",
       "</style>\n",
       "<table border=\"1\" class=\"dataframe\">\n",
       "  <thead>\n",
       "    <tr style=\"text-align: right;\">\n",
       "      <th></th>\n",
       "      <th>name</th>\n",
       "      <th>age</th>\n",
       "    </tr>\n",
       "  </thead>\n",
       "  <tbody>\n",
       "    <tr>\n",
       "      <th>0</th>\n",
       "      <td>kenneth</td>\n",
       "      <td>35</td>\n",
       "    </tr>\n",
       "    <tr>\n",
       "      <th>1</th>\n",
       "      <td>amaka</td>\n",
       "      <td>29</td>\n",
       "    </tr>\n",
       "    <tr>\n",
       "      <th>2</th>\n",
       "      <td>abiodun</td>\n",
       "      <td>19</td>\n",
       "    </tr>\n",
       "    <tr>\n",
       "      <th>3</th>\n",
       "      <td>godwin</td>\n",
       "      <td>37</td>\n",
       "    </tr>\n",
       "  </tbody>\n",
       "</table>\n",
       "</div>"
      ],
      "text/plain": [
       "      name  age\n",
       "0  kenneth   35\n",
       "1    amaka   29\n",
       "2  abiodun   19\n",
       "3   godwin   37"
      ]
     },
     "execution_count": 21,
     "metadata": {},
     "output_type": "execute_result"
    }
   ],
   "source": [
    "import pandas as pd\n",
    "d = {'name': ['kenneth','amaka', 'abiodun', 'godwin'],'age': [35, 29, 19, 37]}\n",
    "D = pd.DataFrame(d)\n",
    "D\n"
   ]
  },
  {
   "cell_type": "markdown",
   "metadata": {},
   "source": [
    "As you can see from the above dataframe, the `name` column contains text data. However, the names are not capitalized. To change that, we need to modify the column of interest.\n",
    "- We start by accessing the column.\n",
    "- Then, we add an `str` specifier that gives us access to the string methods.\n",
    "- And finally, we call the `.capitalize()` method we already know."
   ]
  },
  {
   "cell_type": "code",
   "execution_count": 23,
   "metadata": {},
   "outputs": [
    {
     "data": {
      "text/plain": [
       "0    Kenneth\n",
       "1      Amaka\n",
       "2    Abiodun\n",
       "3     Godwin\n",
       "Name: name, dtype: object"
      ]
     },
     "execution_count": 23,
     "metadata": {},
     "output_type": "execute_result"
    }
   ],
   "source": [
    "D['name'].str.capitalize()"
   ]
  },
  {
   "cell_type": "code",
   "execution_count": 25,
   "metadata": {},
   "outputs": [
    {
     "data": {
      "text/html": [
       "<div>\n",
       "<style scoped>\n",
       "    .dataframe tbody tr th:only-of-type {\n",
       "        vertical-align: middle;\n",
       "    }\n",
       "\n",
       "    .dataframe tbody tr th {\n",
       "        vertical-align: top;\n",
       "    }\n",
       "\n",
       "    .dataframe thead th {\n",
       "        text-align: right;\n",
       "    }\n",
       "</style>\n",
       "<table border=\"1\" class=\"dataframe\">\n",
       "  <thead>\n",
       "    <tr style=\"text-align: right;\">\n",
       "      <th></th>\n",
       "      <th>name</th>\n",
       "      <th>age</th>\n",
       "    </tr>\n",
       "  </thead>\n",
       "  <tbody>\n",
       "    <tr>\n",
       "      <th>0</th>\n",
       "      <td>Kenneth</td>\n",
       "      <td>35</td>\n",
       "    </tr>\n",
       "    <tr>\n",
       "      <th>1</th>\n",
       "      <td>Amaka</td>\n",
       "      <td>29</td>\n",
       "    </tr>\n",
       "    <tr>\n",
       "      <th>2</th>\n",
       "      <td>Abiodun</td>\n",
       "      <td>19</td>\n",
       "    </tr>\n",
       "    <tr>\n",
       "      <th>3</th>\n",
       "      <td>Godwin</td>\n",
       "      <td>37</td>\n",
       "    </tr>\n",
       "  </tbody>\n",
       "</table>\n",
       "</div>"
      ],
      "text/plain": [
       "      name  age\n",
       "0  Kenneth   35\n",
       "1    Amaka   29\n",
       "2  Abiodun   19\n",
       "3   Godwin   37"
      ]
     },
     "execution_count": 25,
     "metadata": {},
     "output_type": "execute_result"
    }
   ],
   "source": [
    "D['name'] = D['name'].str.capitalize()\n",
    "D"
   ]
  },
  {
   "cell_type": "markdown",
   "metadata": {},
   "source": [
    "As you can see, strings methods are powerful and can save you time. Remember one of the Python philosophies that we saw in the beginning: `Simple is better than complex`. "
   ]
  },
  {
   "cell_type": "markdown",
   "metadata": {
    "id": "lG9ZQje1k92N"
   },
   "source": [
    "<a name='2'></a>\n",
    "## 2. Data Structures"
   ]
  },
  {
   "cell_type": "markdown",
   "metadata": {},
   "source": [
    "Data structures are used to organize and store the data. Algorithms supports operations on data.\n",
    "\n",
    "Python has 4 main data structures: `Lists`, `Dictionaries`, `Tuples` and `Sets`."
   ]
  },
  {
   "cell_type": "markdown",
   "metadata": {
    "id": "DH8pNlbTic4m"
   },
   "source": [
    "<a name='2-1'></a>\n",
    "\n",
    "### 2.1 List"
   ]
  },
  {
   "cell_type": "markdown",
   "metadata": {},
   "source": [
    "A list is a set of ordered values. Each value in a list is called an `element` or `item` and can be identified by an index. A list supports different data types, we can have a list of integers, strings, and floats. \n",
    "\n",
    "What we will see with Python lists:\n",
    "\n",
    "- Creating a list\n",
    "- Accessing elements in a list\n",
    "- Slicing a list\n",
    "- Changing elements in a list\n",
    "- Traversing a list\n",
    "- Operations on list\n",
    "- Nested lists\n",
    "- List methods\n",
    "- List and strings"
   ]
  },
  {
   "cell_type": "markdown",
   "metadata": {},
   "source": [
    "#### Creating a List\n",
    "\n",
    "A python list can be created by enclosing elements of similar or different data type in square brackets `[...]`, or with `range()` function."
   ]
  },
  {
   "cell_type": "code",
   "execution_count": 27,
   "metadata": {
    "id": "swPhe55olYIy"
   },
   "outputs": [
    {
     "name": "stdout",
     "output_type": "stream",
     "text": [
      "['Mon', 'Tue', 'Wed', 'Thur', 'Fri']\n"
     ]
    }
   ],
   "source": [
    "# Creating a list\n",
    "\n",
    "week_days = ['Mon', 'Tue', 'Wed', 'Thur', 'Fri']\n",
    "even_numbers = [2, 4, 6, 8, 10]\n",
    "mixed_list = ['Mon', 1, 'Tue', 2, 'Wed', 3]\n",
    "\n",
    "#Displaying elements of a list\n",
    "print(week_days)"
   ]
  },
  {
   "cell_type": "code",
   "execution_count": 29,
   "metadata": {},
   "outputs": [
    {
     "name": "stdout",
     "output_type": "stream",
     "text": [
      "0\n",
      "1\n",
      "2\n",
      "3\n",
      "4\n"
     ]
    }
   ],
   "source": [
    "# Creating a list with range()\n",
    "nums = range(5)\n",
    "\n",
    "for i in nums:\n",
    "    print(i)"
   ]
  },
  {
   "cell_type": "code",
   "execution_count": null,
   "metadata": {},
   "outputs": [],
   "source": []
  },
  {
   "cell_type": "markdown",
   "metadata": {},
   "source": [
    "#### Accessing the elements of the list"
   ]
  },
  {
   "cell_type": "markdown",
   "metadata": {},
   "source": [
    "We can access a given element of the list by providing the index of the element in a bracket. The index starts at 0 in Python."
   ]
  },
  {
   "cell_type": "code",
   "execution_count": 31,
   "metadata": {},
   "outputs": [
    {
     "data": {
      "text/plain": [
       "'Mon'"
      ]
     },
     "execution_count": 31,
     "metadata": {},
     "output_type": "execute_result"
    }
   ],
   "source": [
    "# Accessing the first elements of a list\n",
    "week_days[0]"
   ]
  },
  {
   "cell_type": "code",
   "execution_count": 33,
   "metadata": {},
   "outputs": [
    {
     "data": {
      "text/plain": [
       "6"
      ]
     },
     "execution_count": 33,
     "metadata": {},
     "output_type": "execute_result"
    }
   ],
   "source": [
    "even_numbers[2]"
   ]
  },
  {
   "cell_type": "code",
   "execution_count": 35,
   "metadata": {
    "colab": {
     "base_uri": "https://localhost:8080/"
    },
    "id": "D4ZyzdIqmJhp",
    "outputId": "bf0e2e13-9aa7-4dc8-b587-db9b7f9ad27a"
   },
   "outputs": [
    {
     "name": "stdout",
     "output_type": "stream",
     "text": [
      "10\n"
     ]
    }
   ],
   "source": [
    "#Getting the last element of the list\n",
    "\n",
    "print(even_numbers[-1])"
   ]
  },
  {
   "cell_type": "markdown",
   "metadata": {},
   "source": [
    "#### List unpacking"
   ]
  },
  {
   "cell_type": "markdown",
   "metadata": {},
   "source": [
    "- **Unpacking** — Assigning values from the list to many variables. This is also known as multiple assignment."
   ]
  },
  {
   "cell_type": "code",
   "execution_count": 37,
   "metadata": {},
   "outputs": [
    {
     "name": "stdout",
     "output_type": "stream",
     "text": [
      "1\n",
      "2\n",
      "3\n"
     ]
    }
   ],
   "source": [
    "a, b, c = [1, 2, 3]\n",
    "print(a)\n",
    "print(b)\n",
    "print(c)"
   ]
  },
  {
   "cell_type": "code",
   "execution_count": 39,
   "metadata": {},
   "outputs": [
    {
     "name": "stdout",
     "output_type": "stream",
     "text": [
      "1\n",
      "2\n",
      "3\n",
      "[4, 5, 6, 7, 8, 9]\n"
     ]
    }
   ],
   "source": [
    "# unpacking 1, 2, and 3.\n",
    "a, b, c, *others = [1, 2, 3, 4, 5, 6, 7, 8, 9]\n",
    "print(a)\n",
    "print(b)\n",
    "print(c)\n",
    "print(others)\n"
   ]
  },
  {
   "cell_type": "markdown",
   "metadata": {},
   "source": [
    "#### Slicing a list"
   ]
  },
  {
   "cell_type": "markdown",
   "metadata": {},
   "source": [
    "Given a list, we can slice it to get any parts or combination of its elements forming another list."
   ]
  },
  {
   "cell_type": "code",
   "execution_count": 41,
   "metadata": {
    "colab": {
     "base_uri": "https://localhost:8080/"
    },
    "id": "6vgpF3uumLSh",
    "outputId": "94668bd8-cc67-4662-8005-ad85d70c0415"
   },
   "outputs": [
    {
     "data": {
      "text/plain": [
       "['Mon', 'Tue']"
      ]
     },
     "execution_count": 41,
     "metadata": {},
     "output_type": "execute_result"
    }
   ],
   "source": [
    "# Get the elements from index 0 to 2. Index 2 is not included.\n",
    "\n",
    "week_days = ['Mon', 'Tue', 'Wed', 'Thur', 'Fri']\n",
    "week_days[0:2]"
   ]
  },
  {
   "cell_type": "code",
   "execution_count": 43,
   "metadata": {
    "colab": {
     "base_uri": "https://localhost:8080/"
    },
    "id": "rbz02O80mV1K",
    "outputId": "2ba533db-6467-4121-b964-ba9c1bf40a3b"
   },
   "outputs": [
    {
     "data": {
      "text/plain": [
       "['Tue', 'Wed', 'Thur', 'Fri']"
      ]
     },
     "execution_count": 43,
     "metadata": {},
     "output_type": "execute_result"
    }
   ],
   "source": [
    "# Get elements from the last fourth elements to the first\n",
    "# -1 starts at the last element 'Fri', -2 second last element 'Thur'... -4 to 'Tue'\n",
    "week_days[-4:]\n"
   ]
  },
  {
   "cell_type": "code",
   "execution_count": 45,
   "metadata": {},
   "outputs": [
    {
     "data": {
      "text/plain": [
       "['Mon', 'Tue', 'Wed', 'Thur']"
      ]
     },
     "execution_count": 45,
     "metadata": {},
     "output_type": "execute_result"
    }
   ],
   "source": [
    "# Get all elements up to the fourth index (fourth index not included)\n",
    "\n",
    "week_days[:4]"
   ]
  },
  {
   "cell_type": "code",
   "execution_count": 47,
   "metadata": {},
   "outputs": [
    {
     "data": {
      "text/plain": [
       "['Wed', 'Thur', 'Fri']"
      ]
     },
     "execution_count": 47,
     "metadata": {},
     "output_type": "execute_result"
    }
   ],
   "source": [
    "# Get all elements from the second to the last index\n",
    "week_days[2:]\n"
   ]
  },
  {
   "cell_type": "markdown",
   "metadata": {},
   "source": [
    "You can use `[:]` to copy the entire list. "
   ]
  },
  {
   "cell_type": "code",
   "execution_count": 49,
   "metadata": {},
   "outputs": [
    {
     "data": {
      "text/plain": [
       "['Mon', 'Tue', 'Wed', 'Thur', 'Fri']"
      ]
     },
     "execution_count": 49,
     "metadata": {},
     "output_type": "execute_result"
    }
   ],
   "source": [
    "week_days[:]"
   ]
  },
  {
   "cell_type": "markdown",
   "metadata": {},
   "source": [
    "#### Changing elements in a list\n",
    "\n",
    "Python lists are mutable. We can delete or change the elements of the list."
   ]
  },
  {
   "cell_type": "code",
   "execution_count": 51,
   "metadata": {},
   "outputs": [
    {
     "data": {
      "text/plain": [
       "['James', 'Jean', 'Sebastian', 'Prit']"
      ]
     },
     "execution_count": 51,
     "metadata": {},
     "output_type": "execute_result"
    }
   ],
   "source": [
    "names = ['James', 'Jean', 'Sebastian', 'Prit']\n",
    "names"
   ]
  },
  {
   "cell_type": "code",
   "execution_count": 53,
   "metadata": {},
   "outputs": [
    {
     "data": {
      "text/plain": [
       "['James', 'Nyandwi', 'Ras', 'Prit']"
      ]
     },
     "execution_count": 53,
     "metadata": {},
     "output_type": "execute_result"
    }
   ],
   "source": [
    "# Change 'Jean' to 'Nyandwi' and 'Sebastian' to 'Ras'\n",
    "names[1:3] = ['Nyandwi', 'Ras']\n",
    "names\n"
   ]
  },
  {
   "cell_type": "code",
   "execution_count": 55,
   "metadata": {},
   "outputs": [
    {
     "data": {
      "text/plain": [
       "['James', 'Nyandwi', 'Ras', 'Sun']"
      ]
     },
     "execution_count": 55,
     "metadata": {},
     "output_type": "execute_result"
    }
   ],
   "source": [
    "# Change 'Prit' to Sun\n",
    "\n",
    "names[-1] = 'Sun'\n",
    "names\n"
   ]
  },
  {
   "cell_type": "code",
   "execution_count": 57,
   "metadata": {},
   "outputs": [
    {
     "data": {
      "text/plain": [
       "['Francois', 'Nyandwi', 'Ras', 'Sun']"
      ]
     },
     "execution_count": 57,
     "metadata": {},
     "output_type": "execute_result"
    }
   ],
   "source": [
    "# Change `James` to ``Francois`\n",
    "\n",
    "names[0] = 'Francois'\n",
    "names"
   ]
  },
  {
   "cell_type": "markdown",
   "metadata": {},
   "source": [
    "In order to delete a given element in a list, we can empty slice it but the better way to delete element is to use `del` keyword."
   ]
  },
  {
   "cell_type": "code",
   "execution_count": 59,
   "metadata": {},
   "outputs": [
    {
     "data": {
      "text/plain": [
       "['Francois', 'Ras', 'Sun']"
      ]
     },
     "execution_count": 59,
     "metadata": {},
     "output_type": "execute_result"
    }
   ],
   "source": [
    "# Delete Nyandwi in names list\n",
    "\n",
    "del names[1]\n",
    "names\n",
    "\n",
    "\n"
   ]
  },
  {
   "cell_type": "markdown",
   "metadata": {},
   "source": [
    "If you know the index of the element you want to remove, you can use `pop()`. If you don't provide the index in pop(), the last element will be deleted."
   ]
  },
  {
   "cell_type": "code",
   "execution_count": 61,
   "metadata": {},
   "outputs": [
    {
     "data": {
      "text/plain": [
       "['James', 'Jean', 'Prit']"
      ]
     },
     "execution_count": 61,
     "metadata": {},
     "output_type": "execute_result"
    }
   ],
   "source": [
    "names = ['James', 'Jean', 'Sebastian', 'Prit']\n",
    "names.pop(2)\n",
    "names"
   ]
  },
  {
   "cell_type": "markdown",
   "metadata": {},
   "source": [
    "Also, we can use `remove()` to delete the element provided inside the remove() method."
   ]
  },
  {
   "cell_type": "code",
   "execution_count": 63,
   "metadata": {},
   "outputs": [
    {
     "data": {
      "text/plain": [
       "['Jean', 'Sebastian', 'Prit']"
      ]
     },
     "execution_count": 63,
     "metadata": {},
     "output_type": "execute_result"
    }
   ],
   "source": [
    "names = ['James', 'Jean', 'Sebastian', 'Prit']\n",
    "names.remove('James')\n",
    "names"
   ]
  },
  {
   "cell_type": "markdown",
   "metadata": {},
   "source": [
    "We can also use `append()` to add element to the list."
   ]
  },
  {
   "cell_type": "code",
   "execution_count": 65,
   "metadata": {
    "colab": {
     "base_uri": "https://localhost:8080/"
    },
    "id": "4IQ2eSWKnUUe",
    "outputId": "b9a4bb0a-7e58-4c65-e2f6-0e6bc7e26cc1"
   },
   "outputs": [
    {
     "data": {
      "text/plain": [
       "['James', 'Jean', 'Sebastian', 'Prit', 'Jac', 'Jess']"
      ]
     },
     "execution_count": 65,
     "metadata": {},
     "output_type": "execute_result"
    }
   ],
   "source": [
    "# Adding the new elements in list\n",
    "# The drawback of append is that you cannot add to characters at once. \n",
    "\n",
    "names = ['James', 'Jean', 'Sebastian', 'Prit']\n",
    "names.append('Jac')\n",
    "names.append('Jess')\n",
    "names\n",
    "\n"
   ]
  },
  {
   "cell_type": "markdown",
   "metadata": {},
   "source": [
    "We can also use `extend()` to add more than one element to our list at the same time"
   ]
  },
  {
   "cell_type": "code",
   "execution_count": 67,
   "metadata": {},
   "outputs": [
    {
     "data": {
      "text/plain": [
       "['James', 'Jean', 'Sebastian', 'Prit', 'Jac', 'Jess', 'AB', 'Eneh', 'Mercy']"
      ]
     },
     "execution_count": 67,
     "metadata": {},
     "output_type": "execute_result"
    }
   ],
   "source": [
    "#Unlike append, extend can be used to add two or more elements to our list at the same time.\n",
    "\n",
    "names.extend(['AB','Eneh', 'Mercy'])\n",
    "names"
   ]
  },
  {
   "cell_type": "markdown",
   "metadata": {},
   "source": [
    "#### Traversing a list"
   ]
  },
  {
   "cell_type": "markdown",
   "metadata": {},
   "source": [
    "There are times that we may need to go over the list to read the elements of the list or perform iterative operations. We can use `for loop` to traverse through the list."
   ]
  },
  {
   "cell_type": "code",
   "execution_count": 69,
   "metadata": {},
   "outputs": [
    {
     "name": "stdout",
     "output_type": "stream",
     "text": [
      "James\n",
      "Jean\n",
      "Sebastian\n",
      "Prit\n"
     ]
    }
   ],
   "source": [
    "# Given a list names, use for loop to display its elements\n",
    "\n",
    "names = ['James', 'Jean', 'Sebastian', 'Prit']\n",
    "\n",
    "for name in names:\n",
    "    print(name)"
   ]
  },
  {
   "cell_type": "code",
   "execution_count": 77,
   "metadata": {},
   "outputs": [
    {
     "data": {
      "text/plain": [
       "[2, 4, 6, 10]"
      ]
     },
     "execution_count": 77,
     "metadata": {},
     "output_type": "execute_result"
    }
   ],
   "source": [
    "# Given a list called nums, add 1 to the first element, 2 to the second, 3 to 3rd element, 4 to 4th element\n",
    "# Example: nums = [1,2,3,6] will be nums_new = [2,4,6,10]\n",
    "nums = [1, 2, 3, 6]\n",
    "nums_new = []\n",
    "for i in range(len(nums)): #len(nums) gives the length of the list\n",
    "    num = nums[i] + i + 1\n",
    "    nums_new.append(num)\n",
    "nums_new\n"
   ]
  },
  {
   "cell_type": "code",
   "execution_count": 81,
   "metadata": {},
   "outputs": [
    {
     "data": {
      "text/plain": [
       "[2, 4, 6, 10]"
      ]
     },
     "execution_count": 81,
     "metadata": {},
     "output_type": "execute_result"
    }
   ],
   "source": [
    "given_list = [1, 2, 3, 6]\n",
    "to_add = [1,2,3,4]\n",
    "new_list = []\n",
    "\n",
    "for i in range(len(given_list)):\n",
    "    answer = given_list[i] + to_add[i]\n",
    "    new_list.append(answer)\n",
    "\n",
    "new_list"
   ]
  },
  {
   "cell_type": "markdown",
   "metadata": {},
   "source": [
    "#### Operations on list"
   ]
  },
  {
   "cell_type": "code",
   "execution_count": 83,
   "metadata": {
    "colab": {
     "base_uri": "https://localhost:8080/"
    },
    "id": "eAFvBTBwnwE6",
    "outputId": "b38e412a-9839-454c-b8b2-5594174225e2"
   },
   "outputs": [
    {
     "data": {
      "text/plain": [
       "[1, 2, 3, 4, 5, 6]"
      ]
     },
     "execution_count": 83,
     "metadata": {},
     "output_type": "execute_result"
    }
   ],
   "source": [
    "# Concatenating two lists\n",
    "a = [1, 2, 3]\n",
    "b = [4, 5, 6]\n",
    "\n",
    "c = a + b\n",
    "\n",
    "c"
   ]
  },
  {
   "cell_type": "code",
   "execution_count": 85,
   "metadata": {},
   "outputs": [
    {
     "data": {
      "text/plain": [
       "[None, None, None, None, None]"
      ]
     },
     "execution_count": 85,
     "metadata": {},
     "output_type": "execute_result"
    }
   ],
   "source": [
    "# We can also use * operator to repeat a list a number of times\n",
    "\n",
    "[None] * 5"
   ]
  },
  {
   "cell_type": "code",
   "execution_count": 87,
   "metadata": {},
   "outputs": [
    {
     "data": {
      "text/plain": [
       "[True, True, True, True]"
      ]
     },
     "execution_count": 87,
     "metadata": {},
     "output_type": "execute_result"
    }
   ],
   "source": [
    "[True] * 4"
   ]
  },
  {
   "cell_type": "code",
   "execution_count": 89,
   "metadata": {},
   "outputs": [
    {
     "data": {
      "text/plain": [
       "[1, 2, 4, 5, 1, 2, 4, 5]"
      ]
     },
     "execution_count": 89,
     "metadata": {},
     "output_type": "execute_result"
    }
   ],
   "source": [
    "[1, 2, 4, 5] * 2"
   ]
  },
  {
   "cell_type": "markdown",
   "metadata": {},
   "source": [
    "#### Nested lists"
   ]
  },
  {
   "cell_type": "code",
   "execution_count": 91,
   "metadata": {
    "colab": {
     "base_uri": "https://localhost:8080/"
    },
    "id": "YfuV7azQoAfP",
    "outputId": "8d5fe027-3b49-482b-af56-4eaf0713169b"
   },
   "outputs": [
    {
     "data": {
      "text/plain": [
       "['a', 'b', 'c']"
      ]
     },
     "execution_count": 91,
     "metadata": {},
     "output_type": "execute_result"
    }
   ],
   "source": [
    "# Creating a list in other list\n",
    "\n",
    "nested_list = [1, 2, 3, ['a', 'b', 'c']]\n",
    "\n",
    "# Get the ['a', 'b', 'c'] from the nested_list\n",
    "\n",
    "nested_list[3]\n"
   ]
  },
  {
   "cell_type": "code",
   "execution_count": 93,
   "metadata": {},
   "outputs": [
    {
     "data": {
      "text/plain": [
       "'b'"
      ]
     },
     "execution_count": 93,
     "metadata": {},
     "output_type": "execute_result"
    }
   ],
   "source": [
    "nested_list[3][1]"
   ]
  },
  {
   "cell_type": "code",
   "execution_count": 95,
   "metadata": {},
   "outputs": [
    {
     "data": {
      "text/plain": [
       "2"
      ]
     },
     "execution_count": 95,
     "metadata": {},
     "output_type": "execute_result"
    }
   ],
   "source": [
    "# Indexing and slicing a nested list is quite similar to normal list\n",
    "nested_list[1]\n"
   ]
  },
  {
   "cell_type": "markdown",
   "metadata": {
    "id": "-06aEzRYpQuv"
   },
   "source": [
    "#### List Methods\n",
    "\n",
    "Python also offers methods which make it easy to work with lists. We already have been using some list methods such as `pop()` and `append()` but let's review more other methods."
   ]
  },
  {
   "cell_type": "code",
   "execution_count": 97,
   "metadata": {
    "colab": {
     "base_uri": "https://localhost:8080/"
    },
    "id": "J9mdh2H7pQuw",
    "outputId": "5ae746d6-e318-438d-cfef-88548b052299"
   },
   "outputs": [
    {
     "data": {
      "text/plain": [
       "[2, 8, 10, 12, 14, 16, 20]"
      ]
     },
     "execution_count": 97,
     "metadata": {},
     "output_type": "execute_result"
    }
   ],
   "source": [
    "# Sorting a list with sort()\n",
    "even_numbers = [2, 14, 16, 12, 20, 8, 10]\n",
    "even_numbers.sort()\n",
    "even_numbers\n"
   ]
  },
  {
   "cell_type": "code",
   "execution_count": 99,
   "metadata": {
    "colab": {
     "base_uri": "https://localhost:8080/"
    },
    "id": "rIkRCqJFpQuw",
    "outputId": "7a1c9c79-4c4c-4c7e-b740-83b78636d4dc"
   },
   "outputs": [
    {
     "data": {
      "text/plain": [
       "[20, 16, 14, 12, 10, 8, 2]"
      ]
     },
     "execution_count": 99,
     "metadata": {},
     "output_type": "execute_result"
    }
   ],
   "source": [
    "# Reversing a string with reverse() \n",
    "#This does not neccessarily sorts elements in the list in descending order but reverses the elements in the list!\n",
    "\n",
    "even_numbers.reverse()\n",
    "even_numbers"
   ]
  },
  {
   "cell_type": "code",
   "execution_count": 101,
   "metadata": {
    "colab": {
     "base_uri": "https://localhost:8080/"
    },
    "id": "XkPIhdgspQux",
    "outputId": "dbc9490d-f065-4ae0-a760-2411d620f499"
   },
   "outputs": [
    {
     "data": {
      "text/plain": [
       "[2, 14, 16, 12, 20, 8, 10, 40]"
      ]
     },
     "execution_count": 101,
     "metadata": {},
     "output_type": "execute_result"
    }
   ],
   "source": [
    "# Adding other elements to a list with append()\n",
    "\n",
    "even_numbers = [2, 14, 16, 12, 20, 8, 10]\n",
    "\n",
    "even_numbers.append(40)\n",
    "even_numbers"
   ]
  },
  {
   "cell_type": "raw",
   "metadata": {},
   "source": []
  },
  {
   "cell_type": "code",
   "execution_count": 103,
   "metadata": {
    "colab": {
     "base_uri": "https://localhost:8080/"
    },
    "id": "ar0cycDrpQux",
    "outputId": "fa83b714-1d63-4b14-f4d6-a5d0ac6cd3dc"
   },
   "outputs": [
    {
     "data": {
      "text/plain": [
       "[14, 16, 12, 20, 8, 10, 40]"
      ]
     },
     "execution_count": 103,
     "metadata": {},
     "output_type": "execute_result"
    }
   ],
   "source": [
    "# Removing the first element of a list\n",
    "even_numbers.remove(2)\n",
    "even_numbers"
   ]
  },
  {
   "cell_type": "code",
   "execution_count": 105,
   "metadata": {
    "colab": {
     "base_uri": "https://localhost:8080/"
    },
    "id": "cEaIcsmepQux",
    "outputId": "626ea699-cdf2-454b-958e-8fba665495dd"
   },
   "outputs": [
    {
     "data": {
      "text/plain": [
       "14"
      ]
     },
     "execution_count": 105,
     "metadata": {},
     "output_type": "execute_result"
    }
   ],
   "source": [
    "## Return the element of the list at index x\n",
    "\n",
    "even_numbers = [2, 14, 16, 12, 20, 8, 10]\n",
    "\n",
    "## Return the item at the 1st index\n",
    "\n",
    "even_numbers.pop(1)\n"
   ]
  },
  {
   "cell_type": "code",
   "execution_count": 113,
   "metadata": {},
   "outputs": [
    {
     "data": {
      "text/plain": [
       "[2, 16, 12, 20, 8, 10]"
      ]
     },
     "execution_count": 113,
     "metadata": {},
     "output_type": "execute_result"
    }
   ],
   "source": [
    "even_numbers #Since we've poppped 14, it's no longer in the list\n"
   ]
  },
  {
   "cell_type": "code",
   "execution_count": 115,
   "metadata": {
    "colab": {
     "base_uri": "https://localhost:8080/"
    },
    "id": "F1VVBhZOpQuy",
    "outputId": "f77f0562-e653-4d83-eefb-b8346470b9d9"
   },
   "outputs": [
    {
     "data": {
      "text/plain": [
       "10"
      ]
     },
     "execution_count": 115,
     "metadata": {},
     "output_type": "execute_result"
    }
   ],
   "source": [
    "# pop() without index specified will return the last element of the list\n",
    "\n",
    "even_numbers = [2, 14, 16, 12, 20, 8, 10]\n",
    "even_numbers.pop()"
   ]
  },
  {
   "cell_type": "code",
   "execution_count": 117,
   "metadata": {
    "colab": {
     "base_uri": "https://localhost:8080/"
    },
    "id": "X19sfgRHpQuy",
    "outputId": "2334f253-bc52-4314-9dc6-26914a3d7d51"
   },
   "outputs": [
    {
     "data": {
      "text/plain": [
       "3"
      ]
     },
     "execution_count": 117,
     "metadata": {},
     "output_type": "execute_result"
    }
   ],
   "source": [
    "# Count a number of times an element appear in a list\n",
    "\n",
    "even_numbers = [2,2,4,6,8,2]\n",
    "even_numbers.count(2)"
   ]
  },
  {
   "cell_type": "markdown",
   "metadata": {},
   "source": [
    "#### List and strings"
   ]
  },
  {
   "cell_type": "markdown",
   "metadata": {},
   "source": [
    "We previously have learned about strings. Strings are sequence of characters. List is a sequence of values. "
   ]
  },
  {
   "cell_type": "code",
   "execution_count": 120,
   "metadata": {},
   "outputs": [
    {
     "data": {
      "text/plain": [
       "['A', 'p', 'p', 'l', 'e']"
      ]
     },
     "execution_count": 120,
     "metadata": {},
     "output_type": "execute_result"
    }
   ],
   "source": [
    "# We can convert a string to a list\n",
    "\n",
    "stri = 'Apple'\n",
    "\n",
    "list(stri)"
   ]
  },
  {
   "cell_type": "code",
   "execution_count": 122,
   "metadata": {},
   "outputs": [
    {
     "data": {
      "text/plain": [
       "['List', 'and', 'Strings']"
      ]
     },
     "execution_count": 122,
     "metadata": {},
     "output_type": "execute_result"
    }
   ],
   "source": [
    "# Splitting a string produces a list of individual words.\n",
    "\n",
    "stri_2 = 'List and Strings'\n",
    "stri_2.split()"
   ]
  },
  {
   "cell_type": "markdown",
   "metadata": {},
   "source": [
    "The split() string method allows to specify the character to use as a boundary while splitting the string. It's called delimiter."
   ]
  },
  {
   "cell_type": "code",
   "execution_count": 124,
   "metadata": {},
   "outputs": [
    {
     "data": {
      "text/plain": [
       "['state', 'of', 'the', 'art']"
      ]
     },
     "execution_count": 124,
     "metadata": {},
     "output_type": "execute_result"
    }
   ],
   "source": [
    "stri_3 = \"state-of-the-art\"\n",
    "stri_3.split(\"-\")"
   ]
  },
  {
   "cell_type": "markdown",
   "metadata": {
    "id": "0LH13FnDwfJq"
   },
   "source": [
    "<a name='2-3'></a>\n",
    "\n",
    "### 2.2 Tuples\n",
    "\n",
    "Tuple is an immutable sequence of items. Here, immutable means that we cannot modify it. There are two ways to create a tuple: Either by using round brackets or by writing comma-separated values.\n",
    "\n",
    "Tuple is similar to list but the difference is that you can't change the values once it is defined (termed as `immutability`). Due to this property it can be used to keep things that you do not want to change in your program. Example can be a country codes, zipcodes, etc..."
   ]
  },
  {
   "cell_type": "code",
   "execution_count": 5,
   "metadata": {
    "id": "mXy3mtYWxeNC"
   },
   "outputs": [],
   "source": [
    "tup = (1,4,5,6,7,8)"
   ]
  },
  {
   "cell_type": "code",
   "execution_count": 7,
   "metadata": {
    "colab": {
     "base_uri": "https://localhost:8080/"
    },
    "id": "WDn6FBozxpn8",
    "outputId": "3bffe88b-ce26-4eea-ae57-b9b9d15481de"
   },
   "outputs": [
    {
     "data": {
      "text/plain": [
       "7"
      ]
     },
     "execution_count": 7,
     "metadata": {},
     "output_type": "execute_result"
    }
   ],
   "source": [
    "# Indexing\n",
    "!\n",
    "tup[4]"
   ]
  },
  {
   "cell_type": "code",
   "execution_count": 9,
   "metadata": {
    "id": "n4i9sYcVxtTu"
   },
   "outputs": [
    {
     "ename": "TypeError",
     "evalue": "'tuple' object does not support item assignment",
     "output_type": "error",
     "traceback": [
      "\u001b[1;31m---------------------------------------------------------------------------\u001b[0m",
      "\u001b[1;31mTypeError\u001b[0m                                 Traceback (most recent call last)",
      "Cell \u001b[1;32mIn[9], line 3\u001b[0m\n\u001b[0;32m      1\u001b[0m \u001b[38;5;66;03m## Tuples are not changeable. Running below code will cause an error\u001b[39;00m\n\u001b[1;32m----> 3\u001b[0m tup[\u001b[38;5;241m2\u001b[39m] \u001b[38;5;241m=\u001b[39m \u001b[38;5;241m10\u001b[39m\n",
      "\u001b[1;31mTypeError\u001b[0m: 'tuple' object does not support item assignment"
     ]
    }
   ],
   "source": [
    "## Tuples are not changeable. Running below code will cause an error\n",
    "\n",
    "tup[2] = 10\n"
   ]
  },
  {
   "cell_type": "code",
   "execution_count": 11,
   "metadata": {
    "id": "DiuL_4xrx8t-"
   },
   "outputs": [
    {
     "ename": "AttributeError",
     "evalue": "'tuple' object has no attribute 'append'",
     "output_type": "error",
     "traceback": [
      "\u001b[1;31m---------------------------------------------------------------------------\u001b[0m",
      "\u001b[1;31mAttributeError\u001b[0m                            Traceback (most recent call last)",
      "Cell \u001b[1;32mIn[11], line 2\u001b[0m\n\u001b[0;32m      1\u001b[0m \u001b[38;5;66;03m# You can not also add other values to the tuple. This will throw an error\u001b[39;00m\n\u001b[1;32m----> 2\u001b[0m tup\u001b[38;5;241m.\u001b[39mappend[\u001b[38;5;241m3\u001b[39m]\n",
      "\u001b[1;31mAttributeError\u001b[0m: 'tuple' object has no attribute 'append'"
     ]
    }
   ],
   "source": [
    "# You can not also add other values to the tuple. This will throw an error\n",
    "tup.append[3]"
   ]
  },
  {
   "cell_type": "markdown",
   "metadata": {},
   "source": [
    "**Tuples Unpacking**\n",
    "\n",
    "Tuple unpacking, also sometimes called tuple expansion, allows us to assign the elements of a tuple to named variables for later use"
   ]
  },
  {
   "cell_type": "code",
   "execution_count": 17,
   "metadata": {},
   "outputs": [],
   "source": [
    "x = [(1,2), (3,4), (5,6)] #<-- List of tuples"
   ]
  },
  {
   "cell_type": "code",
   "execution_count": 19,
   "metadata": {},
   "outputs": [
    {
     "data": {
      "text/plain": [
       "(1, 2)"
      ]
     },
     "execution_count": 19,
     "metadata": {},
     "output_type": "execute_result"
    }
   ],
   "source": [
    "x[0] #<-- Getting the first element in the list"
   ]
  },
  {
   "cell_type": "code",
   "execution_count": 21,
   "metadata": {},
   "outputs": [
    {
     "name": "stdout",
     "output_type": "stream",
     "text": [
      "1\n",
      "3\n",
      "5\n"
     ]
    }
   ],
   "source": [
    "# Tuple Unpacking\n",
    "for (a,b) in x:\n",
    "    print(a)\n"
   ]
  },
  {
   "cell_type": "code",
   "execution_count": 23,
   "metadata": {},
   "outputs": [
    {
     "name": "stdout",
     "output_type": "stream",
     "text": [
      "2\n",
      "4\n",
      "6\n"
     ]
    }
   ],
   "source": [
    "# Tuple Unpacking\n",
    "\n",
    "for (a,b) in x:\n",
    "    print(b)"
   ]
  },
  {
   "cell_type": "markdown",
   "metadata": {},
   "source": [
    "**Be Careful When Making Tuples**\n",
    "\n",
    "\n",
    "When we are creating tuples, we can make them with `zip` or `enumerate` or use `()` i.e parentheses as shown below."
   ]
  },
  {
   "cell_type": "code",
   "execution_count": 25,
   "metadata": {},
   "outputs": [
    {
     "name": "stdout",
     "output_type": "stream",
     "text": [
      "('Vanila', 'Chocolate')\n"
     ]
    }
   ],
   "source": [
    "item = ('Vanila', 'Chocolate')\n",
    "print(item)"
   ]
  },
  {
   "cell_type": "markdown",
   "metadata": {},
   "source": [
    "However the real magic for creating a tuple in Python is the comma, if we accidentally end a line with a comma, we can create a tuple! This can have some very undesirable side affect further down in our code. Keep this in mind if you get a tuple where you don't expect it."
   ]
  },
  {
   "cell_type": "code",
   "execution_count": 29,
   "metadata": {},
   "outputs": [
    {
     "name": "stdout",
     "output_type": "stream",
     "text": [
      "('butter',)\n"
     ]
    }
   ],
   "source": [
    "item2 = 'butter',\n",
    "print(item2)"
   ]
  },
  {
   "cell_type": "markdown",
   "metadata": {
    "id": "IELzAECOycaI"
   },
   "source": [
    "<a name='2-4'></a>\n",
    "\n",
    "## 2.3 Sets"
   ]
  },
  {
   "cell_type": "markdown",
   "metadata": {
    "id": "Ul5m3MjMzTih"
   },
   "source": [
    "Sets are used to store the unique elements. They are not ordered like list. "
   ]
  },
  {
   "cell_type": "code",
   "execution_count": 31,
   "metadata": {
    "colab": {
     "base_uri": "https://localhost:8080/"
    },
    "id": "aJUhhYUBzdXy",
    "outputId": "51daa7c3-4157-4f00-acba-7e2752e054ec"
   },
   "outputs": [
    {
     "data": {
      "text/plain": [
       "{1, 2, 3, 4, 5, 6, 7, 8}"
      ]
     },
     "execution_count": 31,
     "metadata": {},
     "output_type": "execute_result"
    }
   ],
   "source": [
    "set_1 = {1,2,3,4,5,6,7,8,}\n",
    "\n",
    "set_1"
   ]
  },
  {
   "cell_type": "code",
   "execution_count": 33,
   "metadata": {
    "colab": {
     "base_uri": "https://localhost:8080/"
    },
    "id": "s5vrQMXvzrrn",
    "outputId": "3666c04f-d689-4987-fa24-048a06d0400b"
   },
   "outputs": [
    {
     "data": {
      "text/plain": [
       "{1, 2, 3, 4, 5, 7, 8}"
      ]
     },
     "execution_count": 33,
     "metadata": {},
     "output_type": "execute_result"
    }
   ],
   "source": [
    "set_2 = {1,1,2,3,5,3,2,2,4,5,7,8,8,5}\n",
    "set_2"
   ]
  },
  {
   "cell_type": "code",
   "execution_count": 35,
   "metadata": {},
   "outputs": [
    {
     "data": {
      "text/plain": [
       "{'AB', 'Ebuka', 'Mercy', 'Victor'}"
      ]
     },
     "execution_count": 35,
     "metadata": {},
     "output_type": "execute_result"
    }
   ],
   "source": [
    "set_3 = {'AB', 'AB', 'Mercy', 'Mercy', 'Victor','Ebuka', 'Ebuka', 'AB'}\n",
    "set_3"
   ]
  },
  {
   "cell_type": "markdown",
   "metadata": {
    "id": "1n9h4Q_Vz_Li"
   },
   "source": [
    "As you can see, set only keep unique values. There can't be a repetition of values. "
   ]
  },
  {
   "cell_type": "markdown",
   "metadata": {},
   "source": [
    "You can also use `set()` which is a built-in function to create a set"
   ]
  },
  {
   "cell_type": "code",
   "execution_count": 37,
   "metadata": {},
   "outputs": [
    {
     "data": {
      "text/plain": [
       "{'Beans', 'Breadfruit', 'Rice', 'Yam'}"
      ]
     },
     "execution_count": 37,
     "metadata": {},
     "output_type": "execute_result"
    }
   ],
   "source": [
    "foods = ['Beans', 'Rice', 'Yam', 'Rice', 'Breadfruit', 'Rice', 'Beans']\n",
    "foods_eaten = set(foods)\n",
    "foods_eaten                 "
   ]
  },
  {
   "cell_type": "markdown",
   "metadata": {},
   "source": [
    "## Set Methods\n",
    "\n",
    "Sets have some useful methods like: \n",
    "\n",
    "- `add()`: inserts a new item to a set. \n",
    "- `union()`: returns a new set with items from both sets.\n",
    "- `intersection()`: returns a new set with only common items.\n",
    "- `difference()`: returns a new set with items present in one set but not in another. etc\n",
    "\n",
    "---\n",
    "\n",
    "### Modifying Set\n",
    "\n",
    "When working with a set we will use the:\n",
    "- `add()` method to add single elements (it will only add the element if it's unique)\n",
    "- `update()` method to merge into another set or list"
   ]
  },
  {
   "cell_type": "code",
   "execution_count": 41,
   "metadata": {},
   "outputs": [
    {
     "data": {
      "text/plain": [
       "{'Beans', 'Bread', 'Breadfruit', 'Indomie', 'Rice', 'Yam'}"
      ]
     },
     "execution_count": 41,
     "metadata": {},
     "output_type": "execute_result"
    }
   ],
   "source": [
    "foods_eaten.add('Indomie')\n",
    "foods_eaten.add('Bread')\n",
    "\n",
    "foods_eaten"
   ]
  },
  {
   "cell_type": "code",
   "execution_count": 43,
   "metadata": {},
   "outputs": [
    {
     "data": {
      "text/plain": [
       "{'Anza',\n",
       " 'Beans',\n",
       " 'Bread',\n",
       " 'Breadfruit',\n",
       " 'Doughnut',\n",
       " 'Eggroll',\n",
       " 'Indomie',\n",
       " 'Peanut Burger',\n",
       " 'Rice',\n",
       " 'Yam'}"
      ]
     },
     "execution_count": 43,
     "metadata": {},
     "output_type": "execute_result"
    }
   ],
   "source": [
    "# Updating a set\n",
    "\n",
    "snacks = ['Doughnut', 'Peanut Burger', 'Eggroll', 'Anza']\n",
    "foods_eaten.update(snacks)\n",
    "foods_eaten"
   ]
  },
  {
   "cell_type": "markdown",
   "metadata": {},
   "source": [
    "---\n",
    "### Removing data from a set\n",
    "\n",
    "we could use the:\n",
    "- `discard()` to remove safetly removes an element from a set by value (no error will be thrown if the element isn't found in the set)\n",
    "- `pop()` to remove and return the arbitrarily element from the set (throws KeyError when empty)\n",
    "- `remove()` to remove an item in a set"
   ]
  },
  {
   "cell_type": "code",
   "execution_count": 45,
   "metadata": {},
   "outputs": [
    {
     "data": {
      "text/plain": [
       "'Breadfruit'"
      ]
     },
     "execution_count": 45,
     "metadata": {},
     "output_type": "execute_result"
    }
   ],
   "source": [
    "foods_eaten.pop()"
   ]
  },
  {
   "cell_type": "code",
   "execution_count": 55,
   "metadata": {},
   "outputs": [
    {
     "data": {
      "text/plain": [
       "{'Beans', 'Doughnut', 'Eggroll', 'Peanut Burger', 'Rice', 'Yam'}"
      ]
     },
     "execution_count": 55,
     "metadata": {},
     "output_type": "execute_result"
    }
   ],
   "source": [
    "foods_eaten.discard('Anza') #<-- removing Anza from the set\n",
    "foods_eaten"
   ]
  },
  {
   "cell_type": "code",
   "execution_count": 49,
   "metadata": {},
   "outputs": [
    {
     "data": {
      "text/plain": [
       "'Indomie'"
      ]
     },
     "execution_count": 49,
     "metadata": {},
     "output_type": "execute_result"
    }
   ],
   "source": [
    "foods_eaten.pop()"
   ]
  },
  {
   "cell_type": "code",
   "execution_count": 51,
   "metadata": {},
   "outputs": [
    {
     "data": {
      "text/plain": [
       "{'Beans', 'Bread', 'Doughnut', 'Eggroll', 'Peanut Burger', 'Rice', 'Yam'}"
      ]
     },
     "execution_count": 51,
     "metadata": {},
     "output_type": "execute_result"
    }
   ],
   "source": [
    "foods_eaten"
   ]
  },
  {
   "cell_type": "code",
   "execution_count": 53,
   "metadata": {},
   "outputs": [
    {
     "data": {
      "text/plain": [
       "{'Beans', 'Doughnut', 'Eggroll', 'Peanut Burger', 'Rice', 'Yam'}"
      ]
     },
     "execution_count": 53,
     "metadata": {},
     "output_type": "execute_result"
    }
   ],
   "source": [
    "foods_eaten.discard('Bread') #<-- removing Bread from the set\n",
    "foods_eaten"
   ]
  },
  {
   "cell_type": "code",
   "execution_count": 57,
   "metadata": {},
   "outputs": [
    {
     "data": {
      "text/plain": [
       "{'Beans',\n",
       " 'Bread',\n",
       " 'Breadfruit',\n",
       " 'Doughnut',\n",
       " 'Eggroll',\n",
       " 'Indomie',\n",
       " 'Peanut Burger',\n",
       " 'Rice',\n",
       " 'Yam'}"
      ]
     },
     "execution_count": 57,
     "metadata": {},
     "output_type": "execute_result"
    }
   ],
   "source": [
    "snacks2 = ['Bread', 'Breadfruit', 'Indomie']\n",
    "foods_eaten.update(snacks2)\n",
    "foods_eaten"
   ]
  },
  {
   "cell_type": "code",
   "execution_count": 59,
   "metadata": {},
   "outputs": [],
   "source": [
    "# Set Similarity Operations\n",
    "\n",
    "foods_eaten_by_ebuka = set(['Okpa', 'Abacha', 'Achicha', 'Cake'])\n",
    "\n",
    "foods_eaten_by_tunde = set(['Amala', 'Cake', 'Peppersoup', 'Pepper Stew'])\n"
   ]
  },
  {
   "cell_type": "code",
   "execution_count": 61,
   "metadata": {},
   "outputs": [
    {
     "data": {
      "text/plain": [
       "{'Abacha', 'Achicha', 'Amala', 'Cake', 'Okpa', 'Pepper Stew', 'Peppersoup'}"
      ]
     },
     "execution_count": 61,
     "metadata": {},
     "output_type": "execute_result"
    }
   ],
   "source": [
    "foods_eaten_by_ebuka.union(foods_eaten_by_tunde) #<-- UNION (returns a set of all elements)"
   ]
  },
  {
   "cell_type": "code",
   "execution_count": 63,
   "metadata": {},
   "outputs": [
    {
     "data": {
      "text/plain": [
       "{'Cake'}"
      ]
     },
     "execution_count": 63,
     "metadata": {},
     "output_type": "execute_result"
    }
   ],
   "source": [
    "foods_eaten_by_ebuka.intersection(foods_eaten_by_tunde) #<-- INTERSECTION (Identifies overlaping)"
   ]
  },
  {
   "cell_type": "markdown",
   "metadata": {},
   "source": [
    "We can use the difference method, which accepts a set, to find elements in one set that are not present in another set. "
   ]
  },
  {
   "cell_type": "code",
   "execution_count": 65,
   "metadata": {},
   "outputs": [
    {
     "data": {
      "text/plain": [
       "{'Abacha', 'Achicha', 'Okpa'}"
      ]
     },
     "execution_count": 65,
     "metadata": {},
     "output_type": "execute_result"
    }
   ],
   "source": [
    "foods_eaten_by_ebuka.difference(foods_eaten_by_tunde)"
   ]
  },
  {
   "cell_type": "markdown",
   "metadata": {},
   "source": [
    "### List Vs. Set"
   ]
  },
  {
   "cell_type": "code",
   "execution_count": 71,
   "metadata": {
    "colab": {
     "base_uri": "https://localhost:8080/"
    },
    "id": "lsKLPvIp0Mc3",
    "outputId": "5291d7fa-103e-48bb-aece-e9210cc0099c"
   },
   "outputs": [
    {
     "name": "stdout",
     "output_type": "stream",
     "text": [
      "List: [1, 1, 3, 7, 9, 3, 5, 7, 9, 9]\n",
      "__________________________________________\n",
      "Set: {1, 3, 5, 7, 9}\n"
     ]
    }
   ],
   "source": [
    "# List Vs Set\n",
    "\n",
    "odd_numbers = [1,1,3,7,9,3,5,7,9,9]\n",
    "\n",
    "print(\"List: {}\".format(odd_numbers))\n",
    "\n",
    "print(\"___\" * 14)\n",
    "\n",
    "set_odd_numbers = {1,1,3,7,9,3,5,7,9,9}\n",
    "\n",
    "print(\"Set: {}\".format(set_odd_numbers))"
   ]
  },
  {
   "cell_type": "markdown",
   "metadata": {
    "id": "qXcv4KtLq2RJ"
   },
   "source": [
    "<a name='2-2'></a>\n",
    "\n",
    "### 2.4 Dictionary"
   ]
  },
  {
   "cell_type": "markdown",
   "metadata": {},
   "source": [
    "Dictionary is a collection of `key-value` pairs where keys are unique and immutable. A key has a unique correspondence to its value but not vice versa.\n",
    "\n",
    "There are several ways to create a dictionary. For example, using curly brackets `{}` and specifying each key-value pair with a colon or using the `dict()` constructor together with a list of tuples.\n",
    "\n",
    "Dictionaries are powerful Python builtin data structure that are used to store data of key and values. A dictionary is like a list but rather than using integers as indices, indices in dictionary can be any data type. Also, unlike lists, dictionary are unordered. Dictionaries dont guarrantee keeping the order of the data.\n",
    "\n",
    "Generally, a dictionary is a collection of key and values. A dictionary stores a mapping of keys and values. A key is what we can refer to index.\n",
    "\n",
    "What we will see:\n",
    "\n",
    "- Creating a dictionary\n",
    "- Accessing values and keys in dictionary\n",
    "- Solving counting problems with dictionary\n",
    "- Traversing a dictionary\n",
    "- The setdefault() method"
   ]
  },
  {
   "cell_type": "markdown",
   "metadata": {},
   "source": [
    "#### Creating a dictionary"
   ]
  },
  {
   "cell_type": "markdown",
   "metadata": {},
   "source": [
    "We can create with a `dict()` function and add items later, or insert keys and values right away in the curly brackets { }."
   ]
  },
  {
   "cell_type": "code",
   "execution_count": 75,
   "metadata": {},
   "outputs": [
    {
     "data": {
      "text/plain": [
       "{'names': 'Annabel', 'ages': 30}"
      ]
     },
     "execution_count": 75,
     "metadata": {},
     "output_type": "execute_result"
    }
   ],
   "source": [
    "dict_1 = {'names': 'Annabel', 'ages' : 30}  #<-- using curly bracket to create a dictionary\n",
    "dict_1"
   ]
  },
  {
   "cell_type": "code",
   "execution_count": 77,
   "metadata": {},
   "outputs": [
    {
     "data": {
      "text/plain": [
       "{'names': 'Stella', 'ages': 29}"
      ]
     },
     "execution_count": 77,
     "metadata": {},
     "output_type": "execute_result"
    }
   ],
   "source": [
    "dict_2 = dict(names = 'Stella', ages = 29)  #<-- In-built function called dict() to create a dictionary\n",
    "dict_2"
   ]
  },
  {
   "cell_type": "markdown",
   "metadata": {},
   "source": [
    "---\n",
    "Let's use the `dict()` function to create an empty dictionary."
   ]
  },
  {
   "cell_type": "code",
   "execution_count": 5,
   "metadata": {
    "scrolled": true
   },
   "outputs": [
    {
     "name": "stdout",
     "output_type": "stream",
     "text": [
      "{}\n"
     ]
    }
   ],
   "source": [
    "# Creating a dictionary\n",
    "\n",
    "countries_code = dict()\n",
    "print(countries_code)"
   ]
  },
  {
   "cell_type": "markdown",
   "metadata": {},
   "source": [
    "You can verify it's a dictionary by passing it through `type()`."
   ]
  },
  {
   "cell_type": "code",
   "execution_count": 7,
   "metadata": {},
   "outputs": [
    {
     "data": {
      "text/plain": [
       "dict"
      ]
     },
     "execution_count": 7,
     "metadata": {},
     "output_type": "execute_result"
    }
   ],
   "source": [
    "type(countries_code)"
   ]
  },
  {
   "cell_type": "markdown",
   "metadata": {},
   "source": [
    "Let's add items to the empty dictionary that we just created."
   ]
  },
  {
   "cell_type": "code",
   "execution_count": 85,
   "metadata": {
    "id": "ehjyFwirq7A0"
   },
   "outputs": [],
   "source": [
    "# Adding items to the empty dictionary.\n",
    "\n",
    "countries_code[\"United States\"] = 1"
   ]
  },
  {
   "cell_type": "code",
   "execution_count": 87,
   "metadata": {},
   "outputs": [
    {
     "data": {
      "text/plain": [
       "{'United States': 1}"
      ]
     },
     "execution_count": 87,
     "metadata": {},
     "output_type": "execute_result"
    }
   ],
   "source": [
    "countries_code"
   ]
  },
  {
   "cell_type": "markdown",
   "metadata": {},
   "source": [
    "Let's create a dictionary with {}. It's the common way to create a dictionary."
   ]
  },
  {
   "cell_type": "code",
   "execution_count": 89,
   "metadata": {
    "colab": {
     "base_uri": "https://localhost:8080/"
    },
    "id": "R1miLn1BuN9J",
    "outputId": "3eda6a2d-d452-4272-80af-2f1d45dd525b"
   },
   "outputs": [
    {
     "data": {
      "text/plain": [
       "{'United States': 1, 'China': 86, 'Rwanda': 250, 'Germany': 49, 'India': 91}"
      ]
     },
     "execution_count": 89,
     "metadata": {},
     "output_type": "execute_result"
    }
   ],
   "source": [
    "countries_code = {\n",
    "    \"United States\": 1,\n",
    "    \"China\": 86,\n",
    "    \"Rwanda\": 250,\n",
    "    \"Germany\": 49,\n",
    "    \"India\": 91\n",
    "}\n",
    "countries_code\n",
    "    "
   ]
  },
  {
   "cell_type": "markdown",
   "metadata": {},
   "source": [
    "To add key and values to a dictionary, we just add the new key to [ ] and set its new value. See below for example..."
   ]
  },
  {
   "cell_type": "code",
   "execution_count": 91,
   "metadata": {},
   "outputs": [
    {
     "data": {
      "text/plain": [
       "{'United States': 1,\n",
       " 'China': 86,\n",
       " 'Rwanda': 250,\n",
       " 'Germany': 49,\n",
       " 'India': 91,\n",
       " 'Australia': 61}"
      ]
     },
     "execution_count": 91,
     "metadata": {},
     "output_type": "execute_result"
    }
   ],
   "source": [
    "countries_code[\"Australia\"] = 61\n",
    "countries_code"
   ]
  },
  {
   "cell_type": "code",
   "execution_count": 93,
   "metadata": {},
   "outputs": [
    {
     "data": {
      "text/plain": [
       "{'United States': 1,\n",
       " 'China': 86,\n",
       " 'Rwanda': 250,\n",
       " 'Germany': 49,\n",
       " 'India': 91,\n",
       " 'Australia': 61,\n",
       " 'Nigeria': 234}"
      ]
     },
     "execution_count": 93,
     "metadata": {},
     "output_type": "execute_result"
    }
   ],
   "source": [
    "countries_code[\"Nigeria\"] = 234\n",
    "countries_code"
   ]
  },
  {
   "cell_type": "markdown",
   "metadata": {},
   "source": [
    "#### Accessing the values and keys in a dictionary"
   ]
  },
  {
   "cell_type": "markdown",
   "metadata": {},
   "source": [
    "\n",
    "Just like how we get values in a list by using their indices, in dictionary, we can use a key to get its corresponding value."
   ]
  },
  {
   "cell_type": "code",
   "execution_count": 95,
   "metadata": {},
   "outputs": [
    {
     "data": {
      "text/plain": [
       "250"
      ]
     },
     "execution_count": 95,
     "metadata": {},
     "output_type": "execute_result"
    }
   ],
   "source": [
    "# Getting the code of Rwanda\n",
    "\n",
    "countries_code[\"Rwanda\"]"
   ]
  },
  {
   "cell_type": "markdown",
   "metadata": {},
   "source": [
    "We can also check if a key exists in a dictionary by using a classic `in` operator."
   ]
  },
  {
   "cell_type": "code",
   "execution_count": 97,
   "metadata": {},
   "outputs": [
    {
     "data": {
      "text/plain": [
       "True"
      ]
     },
     "execution_count": 97,
     "metadata": {},
     "output_type": "execute_result"
    }
   ],
   "source": [
    "\"India\" in countries_code"
   ]
  },
  {
   "cell_type": "code",
   "execution_count": 99,
   "metadata": {},
   "outputs": [
    {
     "data": {
      "text/plain": [
       "False"
      ]
     },
     "execution_count": 99,
     "metadata": {},
     "output_type": "execute_result"
    }
   ],
   "source": [
    "# Should be False\n",
    "\n",
    "\"Singapore\" in countries_code"
   ]
  },
  {
   "cell_type": "markdown",
   "metadata": {},
   "source": [
    "---\n",
    "### Dictionary Methods\n",
    "\n",
    "Dictionaries have some useful methods like:\n",
    "\n",
    "- `items()` returns the stored key-value pairs.\n",
    "- `keys()` returns the keys in a dictionary\n",
    "- `values()` returns the values in a dictionary\n",
    "- `get()` returns a value if key isn't found in a dictionary but doesn't store the value in a dictionary\n",
    "- `setdefault()` stores and returns a value to a dictionary if key doesn't exist\n",
    "- `popitem()` removes the last inserted key-value pair in a dictionary. This method also returns the associated value.\n",
    "- `update()` inserts the specified items to the dictionary. The specified items can be a dictionary, or an iterable object with key value pairs"
   ]
  },
  {
   "cell_type": "markdown",
   "metadata": {},
   "source": [
    "To get all the keys, value, and items of the dictionary, we can use `keys()`, `values()`, and `items()` methods respectively."
   ]
  },
  {
   "cell_type": "code",
   "execution_count": 101,
   "metadata": {},
   "outputs": [
    {
     "name": "stdout",
     "output_type": "stream",
     "text": [
      "dict_keys(['name', 'state', 'age'])\n",
      "\n",
      "dict_values([['AB', 'Akin', 'Kadiri'], ['Ogun', 'Ondo', 'Ogun'], [105, 34, 18]])\n",
      "\n",
      "dict_items([('name', ['AB', 'Akin', 'Kadiri']), ('state', ['Ogun', 'Ondo', 'Ogun']), ('age', [105, 34, 18])])\n"
     ]
    }
   ],
   "source": [
    "univelcity = {'name' : ['AB', 'Akin', 'Kadiri'],\n",
    "              'state': ['Ogun', 'Ondo', 'Ogun'],\n",
    "              'age' : [105, 34, 18]\n",
    "             }\n",
    "print(univelcity.keys())\n",
    "print('')\n",
    "print(univelcity.values())\n",
    "print('')\n",
    "print(univelcity.items())"
   ]
  },
  {
   "cell_type": "code",
   "execution_count": 21,
   "metadata": {},
   "outputs": [
    {
     "name": "stdout",
     "output_type": "stream",
     "text": [
      "Dict Keys: dict_keys(['United States', 'China', 'Rwanda', 'Germany', 'India', 'Australia', 'Nigeria']) \n",
      "Dict Values: dict_values([1, 86, 250, 49, 91, 61, 234]) \n",
      "Dict Items : dict_items([('United States', 1), ('China', 86), ('Rwanda', 250), ('Germany', 49), ('India', 91), ('Australia', 61), ('Nigeria', 234)])\n"
     ]
    }
   ],
   "source": [
    "# Getting the keys and the values and items of the dictionary\n",
    "\n",
    "dict_keys = countries_code.keys()\n",
    "dict_values = countries_code.values()\n",
    "dict_items = countries_code.items()\n",
    "\n",
    "\n",
    "print(f'Dict Keys: {dict_keys} \\nDict Values: {dict_values} \\nDict Items : {dict_items}')"
   ]
  },
  {
   "cell_type": "code",
   "execution_count": 23,
   "metadata": {},
   "outputs": [
    {
     "name": "stdout",
     "output_type": "stream",
     "text": [
      "Dict Keys: dict_keys(['United States', 'China', 'Rwanda', 'Germany', 'India', 'Australia', 'Nigeria']) \n",
      "Dict Values: dict_values([1, 86, 250, 49, 91, 61, 234]) \n",
      "dict Items: dict_items([('United States', 1), ('China', 86), ('Rwanda', 250), ('Germany', 49), ('India', 91), ('Australia', 61), ('Nigeria', 234)])\n"
     ]
    }
   ],
   "source": [
    "print('Dict Keys: {} \\nDict Values: {} \\ndict Items: {}'.format(dict_keys, dict_values, dict_items ))"
   ]
  },
  {
   "cell_type": "markdown",
   "metadata": {},
   "source": [
    "Lastly, we can use `get()` method to return the value of a specified key. Get method allows to also provide a value that will be returned in case the key doesn't exists. This is a cool feature!!"
   ]
  },
  {
   "cell_type": "code",
   "execution_count": 25,
   "metadata": {},
   "outputs": [
    {
     "data": {
      "text/plain": [
       "61"
      ]
     },
     "execution_count": 25,
     "metadata": {},
     "output_type": "execute_result"
    }
   ],
   "source": [
    "countries_code.get('Australia')"
   ]
  },
  {
   "cell_type": "code",
   "execution_count": 27,
   "metadata": {},
   "outputs": [
    {
     "data": {
      "text/plain": [
       "41"
      ]
     },
     "execution_count": 27,
     "metadata": {},
     "output_type": "execute_result"
    }
   ],
   "source": [
    "# In case a provided key is absent....\n",
    "\n",
    "countries_code.get('UK', 41) #<-- This doesn't add the key \"UK\" to our dictionary"
   ]
  },
  {
   "cell_type": "markdown",
   "metadata": {},
   "source": [
    "--- \n",
    "**Using Update() Method On A Dictionary**<br><p>\n",
    "<br>\n",
    "1. Modifying the value of the dictionary key"
   ]
  },
  {
   "cell_type": "code",
   "execution_count": 103,
   "metadata": {},
   "outputs": [
    {
     "name": "stdout",
     "output_type": "stream",
     "text": [
      "USA\n"
     ]
    }
   ],
   "source": [
    "person = {\"name\": \"Ayomide\", \"Country\": \"Nigeria\"}\n",
    "\n",
    "person.update({\"country\": \"USA\"})  #<-- updating the country name using update method\n",
    "\n",
    "print(person['country'])           #<-- print the updated country\n",
    "           "
   ]
  },
  {
   "cell_type": "markdown",
   "metadata": {},
   "source": [
    "2. Joining two dictionaries together "
   ]
  },
  {
   "cell_type": "code",
   "execution_count": 105,
   "metadata": {},
   "outputs": [
    {
     "name": "stdout",
     "output_type": "stream",
     "text": [
      "{'Jessa': 70, 'Arul': 80, 'Emma': 55, 'Kelly': 68, 'Harry': 50, 'Olivia': 66}\n"
     ]
    }
   ],
   "source": [
    "dict1 = {'Jessa': 70, 'Arul': 80, 'Emma': 55}\n",
    "dict2 = {'Kelly': 68, 'Harry': 50, 'Olivia': 66}\n",
    "\n",
    "dict1.update(dict2)   #<-- copy second dictionary into first dictionary\n",
    "print(dict1)"
   ]
  },
  {
   "cell_type": "markdown",
   "metadata": {},
   "source": [
    "--- \n",
    "## Dictionariception  (Dictionary of dictionaries)"
   ]
  },
  {
   "cell_type": "markdown",
   "metadata": {},
   "source": [
    "Remember lists in Python? They could contain anything, even other lists (nested list). Well, for dictionaries the same holds. Dictionaries can contain <kbd>key:value</kbd> pairs where the values are again dictionaries.\n",
    "\n",
    "As an example, have a look at the script where `europe` - the dictionary is coded. The keys are country names, but the values are dictionaries that contain more information than just the capital."
   ]
  },
  {
   "cell_type": "code",
   "execution_count": 4,
   "metadata": {},
   "outputs": [],
   "source": [
    "# Dictionary of dictionaries\n",
    "\n",
    "europe = { 'spain': { 'capital' :'madrid', 'population': 46.77},\n",
    "          'france': { 'capital' :'paris', 'population': 66.03},\n",
    "          'germany': { 'capital' :'berlin', 'population':80.62},\n",
    "          'norway': { 'capital' :'oslo', 'population':5.084}\n",
    "}"
   ]
  },
  {
   "cell_type": "markdown",
   "metadata": {},
   "source": [
    "It's perfectly possible to chain square brackets to select elements. To fetch the population for Spain from europe, for example, you need:"
   ]
  },
  {
   "cell_type": "code",
   "execution_count": 6,
   "metadata": {},
   "outputs": [
    {
     "data": {
      "text/plain": [
       "{'capital': 'madrid', 'population': 46.77}"
      ]
     },
     "execution_count": 6,
     "metadata": {},
     "output_type": "execute_result"
    }
   ],
   "source": [
    "europe['spain']"
   ]
  },
  {
   "cell_type": "code",
   "execution_count": 8,
   "metadata": {},
   "outputs": [
    {
     "data": {
      "text/plain": [
       "46.77"
      ]
     },
     "execution_count": 8,
     "metadata": {},
     "output_type": "execute_result"
    }
   ],
   "source": [
    "europe['spain']['population']"
   ]
  },
  {
   "cell_type": "code",
   "execution_count": 10,
   "metadata": {},
   "outputs": [
    {
     "data": {
      "text/plain": [
       "'paris'"
      ]
     },
     "execution_count": 10,
     "metadata": {},
     "output_type": "execute_result"
    }
   ],
   "source": [
    "# Print out the capital of France\n",
    "\n",
    "europe['france']['capital']"
   ]
  },
  {
   "cell_type": "code",
   "execution_count": 16,
   "metadata": {},
   "outputs": [],
   "source": [
    "# Create a sub-dictionary data\n",
    "\n",
    "data = {'capital': 'rome','population': 59.83}\n",
    "\n",
    "#Add data to europe under key 'italy'\n",
    "europe['italy'] = data"
   ]
  },
  {
   "cell_type": "code",
   "execution_count": 20,
   "metadata": {},
   "outputs": [
    {
     "data": {
      "text/plain": [
       "{'spain': {'capital': 'madrid', 'population': 46.77},\n",
       " 'france': {'capital': 'paris', 'population': 66.03},\n",
       " 'germany': {'capital': 'berlin', 'population': 80.62},\n",
       " 'norway': {'capital': 'oslo', 'population': 5.084},\n",
       " 'italy': {'capital': 'rome', 'population': 59.83}}"
      ]
     },
     "execution_count": 20,
     "metadata": {},
     "output_type": "execute_result"
    }
   ],
   "source": [
    "europe"
   ]
  },
  {
   "cell_type": "code",
   "execution_count": 65,
   "metadata": {},
   "outputs": [
    {
     "name": "stdout",
     "output_type": "stream",
     "text": [
      "person: {'name': 'Jessa', 'company': 'Google', 'address': {'state': 'Lagos', 'city': 'Yaba'}}\n",
      " \n",
      "City: Yaba\n"
     ]
    }
   ],
   "source": [
    "my_address = {\"state\": \"Lagos\", \"city\": \"Yaba\"}\n",
    "\n",
    "# Dictionary to store person details with address as a nested dictionary\n",
    "person_info = {'name': 'Jessa', 'company': 'Google', 'address' : my_address}\n",
    "\n",
    "print(\"person:\", person_info)\n",
    "print(\" \")\n",
    "print(\"City:\",person_info['address']['city']) #<-- Get nested dictionary key 'city'"
   ]
  },
  {
   "cell_type": "code",
   "execution_count": 67,
   "metadata": {},
   "outputs": [
    {
     "name": "stdout",
     "output_type": "stream",
     "text": [
      "Person details\n",
      "name : Jessa\n",
      "company : Google\n",
      " \n",
      "Person Address\n",
      "state : Lagos\n",
      "city : Yaba\n"
     ]
    }
   ],
   "source": [
    "print(\"Person details\")\n",
    "for key, value in person_info.items():                        #<--Iterating outer dictionary\n",
    "    if key == 'address':\n",
    "        print(' ')\n",
    "        print(\"Person Address\")\n",
    "        for nested_key, nested_value in value.items():        #<-- iterating through nested dictionary\n",
    "            print(nested_key, ':', nested_value)\n",
    "    else:\n",
    "        print(key, ':', value)\n",
    "    "
   ]
  },
  {
   "cell_type": "markdown",
   "metadata": {},
   "source": [
    "--- \n",
    "#### Solving Counting Problems With Dictionary"
   ]
  },
  {
   "cell_type": "markdown",
   "metadata": {},
   "source": [
    "When solving real world problems, or perhaps doing interviews, most problems involve counting certain elements. Let's take a simple example: Given a string, write an algorithm that can count the occurence of each character. \n",
    "\n",
    "**Solution:**\n",
    "\n",
    "Using dictionary, we would not have to worry about the size of the string or the nmber of characters to keep beforehand. We would just create a dictionary whose keys are characters and values are counts of corresponding characters. See character for the first time, add it to the dictionary with value of 1 since it's the first count, and then increment it if the character exists in dictionary\n",
    "\n",
    "The code would like like this...."
   ]
  },
  {
   "cell_type": "code",
   "execution_count": 69,
   "metadata": {},
   "outputs": [
    {
     "name": "stdout",
     "output_type": "stream",
     "text": [
      "{'b': 1, 'a': 3, 'n': 2}\n"
     ]
    }
   ],
   "source": [
    "# The solution..\n",
    "\n",
    "fruit = \"banana\"\n",
    "\n",
    "my_dict = {}\n",
    "\n",
    "for letter in fruit:\n",
    "    if letter not in my_dict:\n",
    "        my_dict[letter] = 1\n",
    "    else:\n",
    "        my_dict[letter] +=1\n",
    "\n",
    "print(my_dict)"
   ]
  },
  {
   "cell_type": "code",
   "execution_count": 71,
   "metadata": {},
   "outputs": [
    {
     "data": {
      "text/plain": [
       "{'M': 1, 'o': 2, 'b': 1, 'l': 1, 'a': 1, 'j': 1, 'i': 1}"
      ]
     },
     "execution_count": 71,
     "metadata": {},
     "output_type": "execute_result"
    }
   ],
   "source": [
    "record = {}\n",
    "my_name = 'Mobolaji'\n",
    "\n",
    "for letter in my_name:             \n",
    "                                \n",
    "    if letter not in record:    #<--- Check if the letter doesn't exist yet in records, if yes,\n",
    "        record[letter] = 1      #<--- add the letter to record and make the value to be 1\n",
    "    else:\n",
    "        # increase the value of that letter that already exist in record by 1\n",
    "        record[letter] += 1     #<--- Aliter: record[letter] = record(letter] + 1\n",
    "\n",
    "record"
   ]
  },
  {
   "cell_type": "markdown",
   "metadata": {},
   "source": [
    "Also, we can use `get()` method that we saw above to simplify our solution. To make it a bit fancier, let's also assume that the string will be provided by the user at the beginning of the program."
   ]
  },
  {
   "cell_type": "code",
   "execution_count": 73,
   "metadata": {},
   "outputs": [
    {
     "name": "stdout",
     "output_type": "stream",
     "text": [
      "Please Enter A Name:  Emeka\n"
     ]
    },
    {
     "name": "stdout",
     "output_type": "stream",
     "text": [
      "{'e': 2, 'm': 1, 'k': 1, 'a': 1}\n"
     ]
    }
   ],
   "source": [
    "input_string = input('Please Enter A Name: ')  # Input must be a string\n",
    "\n",
    "char_count = {}\n",
    "for c in input_string.lower():\n",
    "    char_count[c] = char_count.get(c, 0) + 1\n",
    "print(char_count)"
   ]
  },
  {
   "cell_type": "markdown",
   "metadata": {},
   "source": [
    "#### Traversing a dictionary\n",
    "\n",
    "We previously used for loop in dictionary to iterate through the values. Let's review it again."
   ]
  },
  {
   "cell_type": "code",
   "execution_count": 9,
   "metadata": {},
   "outputs": [
    {
     "data": {
      "text/plain": [
       "{}"
      ]
     },
     "execution_count": 9,
     "metadata": {},
     "output_type": "execute_result"
    }
   ],
   "source": [
    "countries_code"
   ]
  },
  {
   "cell_type": "code",
   "execution_count": 28,
   "metadata": {},
   "outputs": [
    {
     "name": "stdout",
     "output_type": "stream",
     "text": [
      "United States ---> 1\n",
      "China ---> 86\n",
      "Rwanda ---> 250\n",
      "Germany ---> 49\n",
      "India ---> 91\n",
      "Nigeria ---> 234\n",
      "Australia ---> 61\n"
     ]
    }
   ],
   "source": [
    "for country, code in countries_code.items():\n",
    "    print(country, '--->', code)"
   ]
  },
  {
   "cell_type": "markdown",
   "metadata": {},
   "source": [
    "We can also iterate through the items(key, values) of the dictionary."
   ]
  },
  {
   "cell_type": "code",
   "execution_count": null,
   "metadata": {},
   "outputs": [],
   "source": []
  },
  {
   "cell_type": "markdown",
   "metadata": {},
   "source": [
    "#### The setdefault() Method\n",
    "\n",
    "The setdefault() method allows you to set a value of a given key that does not already have a key. This can be helpful when you want to update the dictionary with a new value in case the key you are looking for does not exist."
   ]
  },
  {
   "cell_type": "code",
   "execution_count": 11,
   "metadata": {},
   "outputs": [
    {
     "data": {
      "text/plain": [
       "41"
      ]
     },
     "execution_count": 11,
     "metadata": {},
     "output_type": "execute_result"
    }
   ],
   "source": [
    "countries_code.setdefault(\"UK\", 41)"
   ]
  },
  {
   "cell_type": "code",
   "execution_count": 36,
   "metadata": {},
   "outputs": [
    {
     "data": {
      "text/plain": [
       "234"
      ]
     },
     "execution_count": 36,
     "metadata": {},
     "output_type": "execute_result"
    }
   ],
   "source": [
    "countries_code.setdefault(\"Nigeria\", 41)"
   ]
  },
  {
   "cell_type": "code",
   "execution_count": 38,
   "metadata": {},
   "outputs": [
    {
     "data": {
      "text/plain": [
       "{'United States': 1,\n",
       " 'China': 86,\n",
       " 'Rwanda': 250,\n",
       " 'Germany': 49,\n",
       " 'India': 91,\n",
       " 'Nigeria': 234,\n",
       " 'Australia': 61,\n",
       " 'UK': 41}"
      ]
     },
     "execution_count": 38,
     "metadata": {},
     "output_type": "execute_result"
    }
   ],
   "source": [
    "countries_code"
   ]
  },
  {
   "cell_type": "markdown",
   "metadata": {},
   "source": [
    "Cool! The UK value is added to the dictionary because it was not in the dictionary before. The `setdefault()` method and `get()` method are different.\n",
    "\n",
    "We can also use the `setdefault()` in the count program we wrote above."
   ]
  },
  {
   "cell_type": "code",
   "execution_count": 13,
   "metadata": {},
   "outputs": [
    {
     "name": "stdout",
     "output_type": "stream",
     "text": [
      "<class 'str'> banana\n"
     ]
    },
    {
     "name": "stdout",
     "output_type": "stream",
     "text": [
      "{'b': 1, 'a': 3, 'n': 2}\n"
     ]
    }
   ],
   "source": [
    "stri = input(str)  #Input must be a string\n",
    "\n",
    "char_count = {}\n",
    "\n",
    "for c in stri:\n",
    "    char_count.setdefault(c, 0) #if character doesn't exist as a key in char_count, add it and set the value to 0\n",
    "    char_count[c] += 1\n",
    "\n",
    "print (char_count)"
   ]
  },
  {
   "cell_type": "markdown",
   "metadata": {
    "id": "Lep0FmTjvTct"
   },
   "source": [
    "***Summarizing dictionary***\n",
    "\n",
    "* Dictionaries are not ordered and they can not be sorted - list are ordered (and unordered) and can be sorted.\n",
    "\n",
    "* Dictionary can store data of different types: floats, integers and strings and can also store lists. "
   ]
  },
  {
   "cell_type": "markdown",
   "metadata": {
    "id": "TSqms6Vk2OKk"
   },
   "source": [
    "<a name='3'></a>\n",
    "\n",
    "## 3. Comparison and Logic operators\n",
    "\n",
    "`Comparison` operators are used to compare values. It will either return true or false. "
   ]
  },
  {
   "cell_type": "code",
   "execution_count": 15,
   "metadata": {
    "colab": {
     "base_uri": "https://localhost:8080/"
    },
    "id": "E0byfFXV2eNO",
    "outputId": "692ed6e7-1e26-404d-c47f-9ed3fafeb780"
   },
   "outputs": [
    {
     "data": {
      "text/plain": [
       "True"
      ]
     },
     "execution_count": 15,
     "metadata": {},
     "output_type": "execute_result"
    }
   ],
   "source": [
    "## Greater than\n",
    "100 > 1"
   ]
  },
  {
   "cell_type": "code",
   "execution_count": 17,
   "metadata": {
    "colab": {
     "base_uri": "https://localhost:8080/"
    },
    "id": "fzUdnfqh2gnd",
    "outputId": "f11ecacc-652b-437d-ac2d-eaa96d7007c8"
   },
   "outputs": [
    {
     "data": {
      "text/plain": [
       "False"
      ]
     },
     "execution_count": 17,
     "metadata": {},
     "output_type": "execute_result"
    }
   ],
   "source": [
    "## Equal to\n",
    "100 == 1"
   ]
  },
  {
   "cell_type": "code",
   "execution_count": 19,
   "metadata": {},
   "outputs": [
    {
     "data": {
      "text/plain": [
       "True"
      ]
     },
     "execution_count": 19,
     "metadata": {},
     "output_type": "execute_result"
    }
   ],
   "source": [
    "## Not Equal to\n",
    "\n",
    "100 != 1"
   ]
  },
  {
   "cell_type": "code",
   "execution_count": 21,
   "metadata": {
    "colab": {
     "base_uri": "https://localhost:8080/"
    },
    "id": "sW39wpYQ2lBN",
    "outputId": "ce77eb3f-04b1-4223-ca2a-a56736baa944"
   },
   "outputs": [
    {
     "data": {
      "text/plain": [
       "False"
      ]
     },
     "execution_count": 21,
     "metadata": {},
     "output_type": "execute_result"
    }
   ],
   "source": [
    "## Less than\n",
    "\n",
    "100 < 1"
   ]
  },
  {
   "cell_type": "code",
   "execution_count": 23,
   "metadata": {
    "colab": {
     "base_uri": "https://localhost:8080/"
    },
    "id": "pmj9bZsy2qH4",
    "outputId": "25968aca-2a82-46fd-f89d-9f6a44c23b90"
   },
   "outputs": [
    {
     "data": {
      "text/plain": [
       "True"
      ]
     },
     "execution_count": 23,
     "metadata": {},
     "output_type": "execute_result"
    }
   ],
   "source": [
    "## Greater or equal to\n",
    "\n",
    "100 >= 1"
   ]
  },
  {
   "cell_type": "code",
   "execution_count": 25,
   "metadata": {
    "colab": {
     "base_uri": "https://localhost:8080/"
    },
    "id": "2GQMkYjn3DpW",
    "outputId": "06843fd0-bbc8-42ce-a18e-51ecf1361dfd"
   },
   "outputs": [
    {
     "data": {
      "text/plain": [
       "False"
      ]
     },
     "execution_count": 25,
     "metadata": {},
     "output_type": "execute_result"
    }
   ],
   "source": [
    "## Less or equal to\n",
    "\n",
    "100 <= 1"
   ]
  },
  {
   "cell_type": "code",
   "execution_count": 27,
   "metadata": {
    "colab": {
     "base_uri": "https://localhost:8080/"
    },
    "id": "utLU3_7y3KEJ",
    "outputId": "65271608-58ac-4e9a-c110-4a3776ce4c76"
   },
   "outputs": [
    {
     "data": {
      "text/plain": [
       "False"
      ]
     },
     "execution_count": 27,
     "metadata": {},
     "output_type": "execute_result"
    }
   ],
   "source": [
    "'Intro to Python' == 'intro to python'"
   ]
  },
  {
   "cell_type": "code",
   "execution_count": 29,
   "metadata": {
    "colab": {
     "base_uri": "https://localhost:8080/"
    },
    "id": "68QTmaFd3YpI",
    "outputId": "8983e42c-c607-4770-ae95-63d36dbc90a0"
   },
   "outputs": [
    {
     "data": {
      "text/plain": [
       "True"
      ]
     },
     "execution_count": 29,
     "metadata": {},
     "output_type": "execute_result"
    }
   ],
   "source": [
    "'Intro to Python' == 'Intro to Python'"
   ]
  },
  {
   "cell_type": "markdown",
   "metadata": {
    "id": "I00qTqfM3d5R"
   },
   "source": [
    "`Logic` operators are used to compare two expressions made by comparison operators. \n",
    "\n",
    "* Logic `and` returns true only when both expressions are true, otherwise false. \n",
    "\n",
    "* Logic `or` returns true when either any of both expressions is true. Only false if both expressions are false.\n",
    "\n",
    "* Logic `not` as you can guess, it will return false when given expression is true, vice versa. "
   ]
  },
  {
   "cell_type": "code",
   "execution_count": 31,
   "metadata": {
    "colab": {
     "base_uri": "https://localhost:8080/"
    },
    "id": "dlNW3zaW3tHj",
    "outputId": "7ae4a248-3ac9-48a6-827e-ccd5fe532879"
   },
   "outputs": [
    {
     "data": {
      "text/plain": [
       "True"
      ]
     },
     "execution_count": 31,
     "metadata": {},
     "output_type": "execute_result"
    }
   ],
   "source": [
    "100 == 100 and 100 == 100"
   ]
  },
  {
   "cell_type": "code",
   "execution_count": 33,
   "metadata": {
    "colab": {
     "base_uri": "https://localhost:8080/"
    },
    "id": "sJ77YW6D5zpq",
    "outputId": "7037d1a0-1641-4294-c01b-f6f21120dc7e"
   },
   "outputs": [
    {
     "data": {
      "text/plain": [
       "True"
      ]
     },
     "execution_count": 33,
     "metadata": {},
     "output_type": "execute_result"
    }
   ],
   "source": [
    "100 <= 100 and 100 == 100"
   ]
  },
  {
   "cell_type": "code",
   "execution_count": 35,
   "metadata": {
    "colab": {
     "base_uri": "https://localhost:8080/"
    },
    "id": "W51xeGzr552j",
    "outputId": "493b4a66-30e4-47b5-cf15-4ed46ca62931"
   },
   "outputs": [
    {
     "data": {
      "text/plain": [
       "True"
      ]
     },
     "execution_count": 35,
     "metadata": {},
     "output_type": "execute_result"
    }
   ],
   "source": [
    "100 == 10 or 100 == 100"
   ]
  },
  {
   "cell_type": "code",
   "execution_count": 37,
   "metadata": {
    "colab": {
     "base_uri": "https://localhost:8080/"
    },
    "id": "SAN6F8xj59iG",
    "outputId": "10e31953-d7f8-49f4-bfef-95b4ba118ce4"
   },
   "outputs": [
    {
     "data": {
      "text/plain": [
       "False"
      ]
     },
     "execution_count": 37,
     "metadata": {},
     "output_type": "execute_result"
    }
   ],
   "source": [
    "100 == 10 or 100 == 10"
   ]
  },
  {
   "cell_type": "code",
   "execution_count": 39,
   "metadata": {
    "colab": {
     "base_uri": "https://localhost:8080/"
    },
    "id": "9MOShqdV6DrH",
    "outputId": "f99699af-e8ec-49c7-d331-ffb6f2c79d9b"
   },
   "outputs": [
    {
     "data": {
      "text/plain": [
       "True"
      ]
     },
     "execution_count": 39,
     "metadata": {},
     "output_type": "execute_result"
    }
   ],
   "source": [
    "not 1 == 2"
   ]
  },
  {
   "cell_type": "code",
   "execution_count": null,
   "metadata": {
    "colab": {
     "base_uri": "https://localhost:8080/"
    },
    "id": "3YYMcUeA6H3c",
    "outputId": "f68b4aed-e0a0-486a-b192-50a829315b63"
   },
   "outputs": [],
   "source": []
  },
  {
   "cell_type": "markdown",
   "metadata": {
    "id": "3LFYoIiX_IdG"
   },
   "source": [
    "<a name='4'></a>\n",
    "## 4. Control Flow\n",
    "As an engineer, you will need to make decisions depending on the particular situation. You will also need to control the flow of the program and this is where `Control Flow` comes in. \n",
    "\n",
    "We will cover:\n",
    "\n",
    "* If statement\n",
    "* For loop\n",
    "* While loop"
   ]
  },
  {
   "cell_type": "markdown",
   "metadata": {
    "id": "dECd-PX0i4L0"
   },
   "source": [
    "<a name='4-1'></a>\n",
    "\n",
    "### 4.1 If, Elif, Else"
   ]
  },
  {
   "cell_type": "markdown",
   "metadata": {
    "id": "PNm5yBHvFFZs"
   },
   "source": [
    "Structure of If condition:\n",
    "\n",
    "```py\n",
    "if condition:\n",
    "  do something\n",
    "\n",
    "else:\n",
    "  do this\n",
    "```"
   ]
  },
  {
   "cell_type": "code",
   "execution_count": 43,
   "metadata": {
    "id": "kliJhGlkA-dM"
   },
   "outputs": [],
   "source": [
    "if 100 < 2:\n",
    "    print(\"As expected, nothing will be displayed\")"
   ]
  },
  {
   "cell_type": "code",
   "execution_count": 47,
   "metadata": {
    "colab": {
     "base_uri": "https://localhost:8080/"
    },
    "id": "DA6VkMFABLOE",
    "outputId": "12823390-a9ec-4aaa-9af2-e215c4700f87"
   },
   "outputs": [
    {
     "name": "stdout",
     "output_type": "stream",
     "text": [
      "As expected, something will be displayed\n"
     ]
    }
   ],
   "source": [
    "if 100 > 2:\n",
    "    print(\"As expected, something will be displayed\")"
   ]
  },
  {
   "cell_type": "code",
   "execution_count": 51,
   "metadata": {
    "colab": {
     "base_uri": "https://localhost:8080/"
    },
    "id": "tB42MrxeBP9e",
    "outputId": "f13618dc-53c7-4754-b695-a2761c2f49a3"
   },
   "outputs": [
    {
     "name": "stdout",
     "output_type": "stream",
     "text": [
      "Printed\n"
     ]
    }
   ],
   "source": [
    "if 100 < 2:\n",
    "    print(\"As expected, nothing will be displayed\")\n",
    "\n",
    "else:\n",
    "    print('Printed')"
   ]
  },
  {
   "cell_type": "code",
   "execution_count": 1,
   "metadata": {
    "colab": {
     "base_uri": "https://localhost:8080/"
    },
    "id": "pJ8gAIF9B147",
    "outputId": "72970118-476a-4412-f72a-a9b38a652a35"
   },
   "outputs": [
    {
     "name": "stdout",
     "output_type": "stream",
     "text": [
      "John is older than Luck\n"
     ]
    }
   ],
   "source": [
    "# Let's assign a number to a variable name 'john_age' and 'luck_age'\n",
    "\n",
    "john_age = 30\n",
    "luck_age = 20\n",
    "\n",
    "if john_age > luck_age:\n",
    "    print(\"John is older than Luck\")\n",
    "\n",
    "else:\n",
    "    print(\"John is younger than Luck\")"
   ]
  },
  {
   "cell_type": "code",
   "execution_count": 3,
   "metadata": {
    "colab": {
     "base_uri": "https://localhost:8080/"
    },
    "id": "Zl-eiwRICAZg",
    "outputId": "fdbf8cf0-5aa6-4416-9006-6309df3fc3ef"
   },
   "outputs": [
    {
     "name": "stdout",
     "output_type": "stream",
     "text": [
      "John's Age is same as Yan\n"
     ]
    }
   ],
   "source": [
    "# Let's use multiple conditions\n",
    "\n",
    "john_age = 30\n",
    "luck_age = 20\n",
    "yan_age = 30\n",
    "\n",
    "if john_age < luck_age:\n",
    "    print(\"John is older than Luck\")\n",
    "\n",
    "elif yan_age == luck_age:\n",
    "    print(\"Yan's Age is same as Luck\")\n",
    "\n",
    "elif luck_age > john_age:\n",
    "    print(\"Luck is older than John\")\n",
    "\n",
    "else:\n",
    "    print(\"John's Age is same as Yan\")"
   ]
  },
  {
   "cell_type": "markdown",
   "metadata": {
    "id": "D_mbbtQMRjcA"
   },
   "source": [
    "We can also put if condition into one line of code. This can be useful when you want to make a quick decision between few choices. \n",
    "\n",
    "Here is the structure:\n",
    "\n",
    "`'value_to_return_if_true' if condition else 'value_to_return_if_false'`\n",
    "\n",
    "Let's take some examples..."
   ]
  },
  {
   "cell_type": "code",
   "execution_count": 5,
   "metadata": {
    "colab": {
     "base_uri": "https://localhost:8080/",
     "height": 35
    },
    "id": "Yca_thlBSTp1",
    "outputId": "fe1ddd46-ebf6-4ebf-c088-da387fcaa46b"
   },
   "outputs": [
    {
     "data": {
      "text/plain": [
       "'Odd'"
      ]
     },
     "execution_count": 5,
     "metadata": {},
     "output_type": "execute_result"
    }
   ],
   "source": [
    "# Example 1: Return 'Even' if below num is 'Even' and 'Odd' if not.\n",
    "\n",
    "num = 45\n",
    "\n",
    "'Even' if num % 2 == 0 else 'Odd'"
   ]
  },
  {
   "cell_type": "code",
   "execution_count": 11,
   "metadata": {
    "colab": {
     "base_uri": "https://localhost:8080/"
    },
    "id": "aDxiANsSS-sd",
    "outputId": "48cd7c6d-a835-4ce5-c907-fcc22e2736b5"
   },
   "outputs": [
    {
     "data": {
      "text/plain": [
       "True"
      ]
     },
     "execution_count": 11,
     "metadata": {},
     "output_type": "execute_result"
    }
   ],
   "source": [
    "# Example 2: Return True if a given element is in a list and False if not\n",
    "\n",
    "nums = [1,2,3,4,5,6]\n",
    "\n",
    "True if 7 in nums else False"
   ]
  },
  {
   "cell_type": "code",
   "execution_count": 19,
   "metadata": {},
   "outputs": [
    {
     "name": "stdout",
     "output_type": "stream",
     "text": [
      "Please enter Student's name:   Emeka\n",
      "Please enter Emeka's scores:   78\n"
     ]
    },
    {
     "name": "stdout",
     "output_type": "stream",
     "text": [
      "Emeka You had a grade A\n"
     ]
    }
   ],
   "source": [
    "# Example 3\n",
    "\n",
    "name = input(\"Please enter Student's name:  \")\n",
    "scores = int(input(f\"Please enter {name}'s scores:  \"))\n",
    "if (scores >=70) and (scores <= 100):\n",
    "    print(name, \"You had a grade A\")\n",
    "\n",
    "elif (scores >=60) and (scores <= 69):\n",
    "     print(name, \"You had a grade B\")\n",
    "\n",
    "else:\n",
    "    print(name, \"You had a low a grade\")"
   ]
  },
  {
   "cell_type": "markdown",
   "metadata": {},
   "source": [
    "**Class Work**"
   ]
  },
  {
   "cell_type": "markdown",
   "metadata": {},
   "source": [
    "Presumming you want to grade the person that scored below 70 (i.e B-grade; 60-69 scores), write an else if statement to perform this task. Extend the code above to include C, D, E, and F grades."
   ]
  },
  {
   "cell_type": "code",
   "execution_count": 21,
   "metadata": {},
   "outputs": [
    {
     "name": "stdout",
     "output_type": "stream",
     "text": [
      "Please enter Student's name:   Matthew\n",
      "Please enter (name)'s scores:   50\n"
     ]
    },
    {
     "name": "stdout",
     "output_type": "stream",
     "text": [
      "Matthew You had a grade C\n"
     ]
    }
   ],
   "source": [
    "name = input(\"Please enter Student's name:  \")\n",
    "scores = int(input(f\"Please enter (name)'s scores:  \"))\n",
    "if (scores >=70) and (scores <= 100):\n",
    "    print(name, \"You had a grade A\")\n",
    "\n",
    "elif (scores >=60) and (scores <= 69):\n",
    "     print(name, \"You had a grade B\")\n",
    "elif (scores >=50) and (scores <= 59):\n",
    "     print(name, \"You had a grade C\")\n",
    "elif (scores >=40) and (scores <= 49):\n",
    "     print(name, \"You had a grade D\")\n",
    "\n",
    "else:\n",
    "    print(name, \"Failed\")"
   ]
  },
  {
   "cell_type": "markdown",
   "metadata": {},
   "source": [
    "---\n",
    "**Nested If Statement**"
   ]
  },
  {
   "cell_type": "code",
   "execution_count": 25,
   "metadata": {},
   "outputs": [
    {
     "name": "stdout",
     "output_type": "stream",
     "text": [
      "Please Enter A Number:  10\n"
     ]
    },
    {
     "name": "stdout",
     "output_type": "stream",
     "text": [
      "Number is positive\n"
     ]
    }
   ],
   "source": [
    "number = int(input('Please Enter A Number: '))\n",
    "\n",
    "if number >= 0:                             #<-- outer if statement\n",
    "    \n",
    "    if number == 0:                         #<-- inner if statement\n",
    "         print('Number is 0')\n",
    "\n",
    "    else:                                   #<-- inner else statement\n",
    "         print('Number is positive')\n",
    "\n",
    "else:                                       #<-- outer else statement\n",
    "    print('Number is negative')"
   ]
  },
  {
   "cell_type": "markdown",
   "metadata": {
    "id": "DR82CZXPi97L"
   },
   "source": [
    "<a name='4-2'></a>\n",
    "### 4.2 For Loop"
   ]
  },
  {
   "cell_type": "markdown",
   "metadata": {
    "id": "4nNM1F9zEPIU"
   },
   "source": [
    "For loop is used to iterate over list, string, tuples, or dictionary. \n",
    "\n",
    "Structure of for loop:\n",
    "\n",
    "```\n",
    "for item in items:\n",
    "  do something\n",
    "```\n",
    "\n"
   ]
  },
  {
   "cell_type": "code",
   "execution_count": 54,
   "metadata": {
    "colab": {
     "base_uri": "https://localhost:8080/"
    },
    "id": "lv8sBhK5EStD",
    "outputId": "20f7abc8-b48b-4adc-d21c-06c36ec5a31f"
   },
   "outputs": [
    {
     "name": "stdout",
     "output_type": "stream",
     "text": [
      "2\n",
      "4\n",
      "6\n",
      "8\n",
      "10\n"
     ]
    }
   ],
   "source": [
    "even_nums = [2,4,6,8,10]\n",
    "\n",
    "for num in even_nums:\n",
    "    print(num)"
   ]
  },
  {
   "cell_type": "markdown",
   "metadata": {
    "id": "BlKSXtqtJsCn"
   },
   "source": [
    "For loop can also be used to iterate over an sequence of numbers. `Range` is used to generate the sequence of numbers. \n",
    "\n",
    "\n",
    "\n",
    "```\n",
    "for number in range: \n",
    "  do something\n",
    "```"
   ]
  },
  {
   "cell_type": "code",
   "execution_count": 56,
   "metadata": {
    "colab": {
     "base_uri": "https://localhost:8080/"
    },
    "id": "9JtM6IVQKEOr",
    "outputId": "4d995ca0-dda8-470a-aeaa-2b5964e33cb0"
   },
   "outputs": [
    {
     "name": "stdout",
     "output_type": "stream",
     "text": [
      "0\n",
      "1\n",
      "2\n",
      "3\n",
      "4\n",
      "5\n",
      "6\n",
      "7\n",
      "8\n",
      "9\n"
     ]
    }
   ],
   "source": [
    "for number in range(10):\n",
    "    print(number)"
   ]
  },
  {
   "cell_type": "code",
   "execution_count": 58,
   "metadata": {
    "colab": {
     "base_uri": "https://localhost:8080/"
    },
    "id": "Rrd4cXk5KYCq",
    "outputId": "4ca9aed3-2e87-4d30-f574-a4ddf2abe87c",
    "scrolled": true
   },
   "outputs": [
    {
     "name": "stdout",
     "output_type": "stream",
     "text": [
      "10\n",
      "11\n",
      "12\n",
      "13\n",
      "14\n",
      "15\n",
      "16\n",
      "17\n",
      "18\n",
      "19\n",
      "20\n"
     ]
    }
   ],
   "source": [
    "for number in range(10, 21):\n",
    "    print(number)"
   ]
  },
  {
   "cell_type": "code",
   "execution_count": 60,
   "metadata": {
    "colab": {
     "base_uri": "https://localhost:8080/"
    },
    "id": "BhUn214hEbul",
    "outputId": "e5ef21eb-2b58-4d0d-a26e-8cf3e66e42c8"
   },
   "outputs": [
    {
     "name": "stdout",
     "output_type": "stream",
     "text": [
      "Mon\n",
      "Tue\n",
      "Wed\n",
      "Thur\n",
      "Fri\n"
     ]
    }
   ],
   "source": [
    "week_days = ['Mon', 'Tue', 'Wed', 'Thur', 'Fri']\n",
    "\n",
    "for day in week_days:\n",
    "    print(day)"
   ]
  },
  {
   "cell_type": "code",
   "execution_count": 62,
   "metadata": {
    "colab": {
     "base_uri": "https://localhost:8080/"
    },
    "id": "IDhmxmTGF3ui",
    "outputId": "bfe3c5c6-a913-4d75-e5cd-983de528e8e6"
   },
   "outputs": [
    {
     "name": "stdout",
     "output_type": "stream",
     "text": [
      "I\n",
      "t\n",
      "'\n",
      "s\n",
      " \n",
      "b\n",
      "e\n",
      "e\n",
      "n\n",
      " \n",
      "a\n",
      " \n",
      "l\n",
      "o\n",
      "n\n",
      "g\n",
      " \n",
      "t\n",
      "i\n",
      "m\n",
      "e\n",
      " \n",
      "l\n",
      "e\n",
      "a\n",
      "r\n",
      "n\n",
      "i\n",
      "n\n",
      "g\n",
      " \n",
      "P\n",
      "y\n",
      "t\n",
      "h\n",
      "o\n",
      "n\n",
      ".\n",
      " \n",
      "I\n",
      " \n",
      "a\n",
      "m\n",
      " \n",
      "r\n",
      "e\n",
      "v\n",
      "i\n",
      "s\n",
      "i\n",
      "t\n",
      "i\n",
      "n\n",
      "g\n",
      " \n",
      "t\n",
      "h\n",
      "e\n",
      " \n",
      "b\n",
      "a\n",
      "s\n",
      "i\n",
      "c\n",
      "s\n",
      "!\n",
      "!\n"
     ]
    }
   ],
   "source": [
    "sentence = \"It's been a long time learning Python. I am revisiting the basics!!\"\n",
    "\n",
    "for letter in sentence:\n",
    "    print(letter)"
   ]
  },
  {
   "cell_type": "code",
   "execution_count": 64,
   "metadata": {
    "colab": {
     "base_uri": "https://localhost:8080/"
    },
    "id": "WJvsmovUGLMf",
    "outputId": "25a9c7cf-1644-41e6-808f-bfa4ab7daf1d"
   },
   "outputs": [
    {
     "name": "stdout",
     "output_type": "stream",
     "text": [
      "It's\n",
      "been\n",
      "a\n",
      "long\n",
      "time\n",
      "learning\n",
      "Python.\n",
      "I\n",
      "am\n",
      "revisiting\n",
      "the\n",
      "basics!!\n"
     ]
    }
   ],
   "source": [
    "sentence = \"It's been a long time learning Python. I am revisiting the basics!!\"\n",
    "\n",
    "# split is a string method to split the words making the string\n",
    "\n",
    "for letter in sentence.split():\n",
    "    print(letter)"
   ]
  },
  {
   "cell_type": "markdown",
   "metadata": {},
   "source": [
    "---\n",
    "**If-else in for loop**"
   ]
  },
  {
   "cell_type": "code",
   "execution_count": 66,
   "metadata": {},
   "outputs": [
    {
     "name": "stdout",
     "output_type": "stream",
     "text": [
      "Odd Number:  1\n",
      "Even Number:  2\n",
      "Odd Number:  3\n",
      "Even Number:  4\n",
      "Odd Number:  5\n",
      "Even Number:  6\n",
      "Odd Number:  7\n",
      "Even Number:  8\n",
      "Odd Number:  9\n",
      "Even Number:  10\n"
     ]
    }
   ],
   "source": [
    "for i in range(1,11):\n",
    "    if i % 2 == 0:\n",
    "        #print('Even Number: ', i)\n",
    "        print('Even Number: ', i)\n",
    "    else :\n",
    "        print('Odd Number: ', i)"
   ]
  },
  {
   "cell_type": "markdown",
   "metadata": {},
   "source": [
    "---\n",
    "**Break for loop**"
   ]
  },
  {
   "cell_type": "markdown",
   "metadata": {},
   "source": [
    "The break statement is used to terminate the loop. You can use the break statement whenever you want to stop the loop. You just need to type the break inside the loop after the statement, after which you want to break the loop.\n",
    "\n",
    "When the break statement is encountered, Python stops the current loop, and the control flow is transferred to the following line of code immediately following the loop.<br><p>\n",
    "<br>\n",
    "    \n",
    "**Example: break the loop if number a number is greater than 15**\n",
    "\n",
    "- In this program, for loop iterates over each number from a list.\n",
    "- Next, the if statement checks if the current is greater than 15. If yes, then break the loop else print the current number"
   ]
  },
  {
   "cell_type": "code",
   "execution_count": 68,
   "metadata": {},
   "outputs": [
    {
     "name": "stdout",
     "output_type": "stream",
     "text": [
      "1\n",
      "4\n",
      "7\n",
      "8\n",
      "15\n"
     ]
    }
   ],
   "source": [
    "numbers = [1,4,7,8,15,20,10,35,45,55,100]\n",
    "for i in numbers:\n",
    "    if i > 15:\n",
    "        # break the loop\n",
    "        break\n",
    "    else:\n",
    "        print(i)"
   ]
  },
  {
   "cell_type": "markdown",
   "metadata": {},
   "source": [
    "--- \n",
    "**Continue Statement in for loop**"
   ]
  },
  {
   "cell_type": "markdown",
   "metadata": {},
   "source": [
    "The continue statement skips the current iteration of a loop and immediately jumps to the next iteration.\n",
    "\n",
    "when the interpreter found the continue statement inside the loop, it skips the remaining code and moves to the next iteration.\n",
    "\n",
    "The continue statement skips a block of code in the loop for the current iteration only. It doesn’t terminate the loop but continues in the next iteration ignoring the specified block of code. \n",
    "\n",
    "Let us see the usage of the continue statement with an example.<br><p>\n",
    "<br>\n",
    "**Example: Count the total number of ‘m’ in a given string.**"
   ]
  },
  {
   "cell_type": "code",
   "execution_count": 70,
   "metadata": {},
   "outputs": [
    {
     "name": "stdout",
     "output_type": "stream",
     "text": [
      "Total number of m is:  1\n"
     ]
    }
   ],
   "source": [
    "name = \"Shuaib Amusa\"\n",
    "count = 0\n",
    "for char in name:\n",
    "    if char != 'm':\n",
    "        continue\n",
    "    else:\n",
    "        count = count + 1\n",
    "\n",
    "print ('Total number of m is: ', count)"
   ]
  },
  {
   "cell_type": "markdown",
   "metadata": {},
   "source": [
    "--- \n",
    "**Pass Statement in for loop**\n",
    "\n",
    "The pass statement is a null statement, i.e., nothing happens when the statement is executed. Primarily it is used in empty functions or classes. When the interpreter finds a pass statement in the program, it returns no operation.\n",
    "\n",
    "Sometimes there is a situation in programming where we need to define a syntactically empty block. We can define that block with the pass keyword.\n",
    "\n",
    "Let us see the usage of the pass statement with an example."
   ]
  },
  {
   "cell_type": "code",
   "execution_count": null,
   "metadata": {},
   "outputs": [],
   "source": [
    "num = [1,4,5,3,7,8]\n",
    "for i in num:\n",
    "    # calculate multiplication in future if required. It is a null statement\n",
    "    pass"
   ]
  },
  {
   "cell_type": "markdown",
   "metadata": {},
   "source": [
    "--- \n",
    "## Difference between continue and pass in a for loop\n",
    "\n",
    "There is a difference between `continue` statement and `pass` statement.\n",
    "- **continue**: skips the loop's current iteration and executes the next iteration.\n",
    "- **pass**: does nothing. It’s an empty statement placeholder.\n",
    "\n",
    "I would rather give you an example, which will clarify this more better."
   ]
  },
  {
   "cell_type": "code",
   "execution_count": 76,
   "metadata": {},
   "outputs": [
    {
     "name": "stdout",
     "output_type": "stream",
     "text": [
      "4\n",
      "Pass executed\n",
      "2\n",
      "5\n",
      "6\n"
     ]
    }
   ],
   "source": [
    "my_list = [0,1,2]\n",
    "\n",
    "for element in my_list:\n",
    "    if element == 1:\n",
    "        print(\"Pass executed\")\n",
    "        pass\n",
    "        print(element * 2)\n",
    "    print(element + 4)"
   ]
  },
  {
   "cell_type": "code",
   "execution_count": 78,
   "metadata": {},
   "outputs": [
    {
     "name": "stdout",
     "output_type": "stream",
     "text": [
      "4\n",
      "Pass executed\n",
      "6\n"
     ]
    }
   ],
   "source": [
    "my_list = [0,1,2]\n",
    "\n",
    "for element in my_list:\n",
    "    if element == 1:\n",
    "        print(\"Pass executed\")\n",
    "        continue\n",
    "        \n",
    "        print(element * 2)\n",
    "    print(element + 4)"
   ]
  },
  {
   "cell_type": "markdown",
   "metadata": {},
   "source": [
    "--- \n",
    "## Exercise"
   ]
  },
  {
   "cell_type": "markdown",
   "metadata": {},
   "source": [
    "Check for duplicates in a list below using for loop and print the name(s) of the duplicates in the list.\n",
    "\n",
    "NOTE\n",
    "\n",
    "- You're not allowed to use set\n",
    "- The final list should only contain names of fruits that are duplicated in the `fruit_list` without repetition."
   ]
  },
  {
   "cell_type": "code",
   "execution_count": 34,
   "metadata": {},
   "outputs": [],
   "source": [
    "fruit_list = ['apple', 'banana', 'apple', 'lemon', 'orange', 'mango', 'apple', 'mango', 'lemon']"
   ]
  },
  {
   "cell_type": "markdown",
   "metadata": {},
   "source": [
    "---\n",
    "## <u>Solution</u>"
   ]
  },
  {
   "cell_type": "code",
   "execution_count": 36,
   "metadata": {},
   "outputs": [
    {
     "name": "stdout",
     "output_type": "stream",
     "text": [
      "['apple', 'lemon', 'mango']\n"
     ]
    }
   ],
   "source": [
    "# Algorithm\n",
    "# 1) loop over the fruit_list list\n",
    "# 2) Does the fruit in a particular iteration appear more than once in fruit_list?\n",
    "#   a) if yes, append it in a new_list,\n",
    "#     i) check if the new_list already contain the fruit\n",
    "#     ii) If yes, skip\n",
    "#     iii) if no, append it\n",
    "\n",
    "#  b) if No, do nothing, go to the next iteration\n",
    "\n",
    "\n",
    "my_fruit_list = []\n",
    "\n",
    "for fruit in fruit_list:                  #<-- loop through the fruit_list\n",
    "    if fruit_list.count(fruit) > 1:       #<-- check if a fruit appeared more than once in fruit_list, if yes\n",
    "        if fruit not in my_fruit_list:    #<-- check if the fruit is not already in my_fruit_list, if it's not there\n",
    "            my_fruit_list.append(fruit)   #<-- add that fruit to my_fruit_list\n",
    "\n",
    "print(my_fruit_list)"
   ]
  },
  {
   "cell_type": "markdown",
   "metadata": {},
   "source": [
    "---"
   ]
  },
  {
   "cell_type": "code",
   "execution_count": 48,
   "metadata": {
    "colab": {
     "base_uri": "https://localhost:8080/"
    },
    "id": "iPMw20rMGfiP",
    "outputId": "735e5a51-1013-40ec-ab2a-83cd1f6aeee7"
   },
   "outputs": [
    {
     "name": "stdout",
     "output_type": "stream",
     "text": [
      "United States\n",
      "India\n",
      "Germany\n",
      "China\n",
      "Rwanda\n"
     ]
    }
   ],
   "source": [
    "# for loop in dictionary\n",
    "\n",
    "countries_code = {\"United States\": 1,\n",
    "                  \"India\" : 91,\n",
    "                  \"Germany\": 40,\n",
    "                  \"China\": 86,\n",
    "                   \"Rwanda\": 250\n",
    "}\n",
    "\n",
    "for country in countries_code:\n",
    "    print(country)"
   ]
  },
  {
   "cell_type": "code",
   "execution_count": 67,
   "metadata": {
    "colab": {
     "base_uri": "https://localhost:8080/"
    },
    "id": "wsxejcLhGuhR",
    "outputId": "f9e78e4d-4a1f-489d-d92f-95de770f18bd"
   },
   "outputs": [
    {
     "name": "stdout",
     "output_type": "stream",
     "text": [
      "1\n",
      "91\n",
      "40\n",
      "86\n",
      "250\n"
     ]
    }
   ],
   "source": [
    "for code in countries_code.values():\n",
    "    print(code)"
   ]
  },
  {
   "cell_type": "markdown",
   "metadata": {
    "id": "N9liuYozLIKp"
   },
   "source": [
    "One last thing about `for loop` is that we can use it to make a list. This is called list comprehension."
   ]
  },
  {
   "cell_type": "code",
   "execution_count": 44,
   "metadata": {
    "colab": {
     "base_uri": "https://localhost:8080/"
    },
    "id": "4-N327iaLZQP",
    "outputId": "584dfca6-d844-45c8-c556-553e1587e33d"
   },
   "outputs": [
    {
     "data": {
      "text/plain": [
       "['M', 'a', 'c', 'h', 'i', 'n', 'e', 'L', 'e', 'a', 'r', 'n', 'i', 'n', 'g']"
      ]
     },
     "execution_count": 44,
     "metadata": {},
     "output_type": "execute_result"
    }
   ],
   "source": [
    "letters = []\n",
    "\n",
    "for letter in 'MachineLearning':\n",
    "    letters.append(letter)\n",
    "\n",
    "letters\n"
   ]
  },
  {
   "cell_type": "markdown",
   "metadata": {
    "id": "VkOTDujzL7re"
   },
   "source": [
    "The above code can be simplified to the following code:"
   ]
  },
  {
   "cell_type": "code",
   "execution_count": 46,
   "metadata": {
    "colab": {
     "base_uri": "https://localhost:8080/"
    },
    "id": "XKPCOnUJMBlu",
    "outputId": "420eac32-2e40-4893-a9bc-160c29139059"
   },
   "outputs": [
    {
     "data": {
      "text/plain": [
       "['M', 'a', 'c', 'h', 'i', 'n', 'e', 'L', 'e', 'a', 'r', 'n', 'i', 'n', 'g']"
      ]
     },
     "execution_count": 46,
     "metadata": {},
     "output_type": "execute_result"
    }
   ],
   "source": [
    "letters = [letter for letter in 'MachineLearning']\n",
    "\n",
    "letters"
   ]
  },
  {
   "cell_type": "markdown",
   "metadata": {},
   "source": [
    "### Creating A Multiplication Table in Python using For Loop"
   ]
  },
  {
   "cell_type": "code",
   "execution_count": 52,
   "metadata": {},
   "outputs": [
    {
     "name": "stdout",
     "output_type": "stream",
     "text": [
      "2 x 1 = 2 \n",
      "\n",
      "2 x 2 = 4 \n",
      "\n",
      "2 x 3 = 6 \n",
      "\n",
      "2 x 4 = 8 \n",
      "\n",
      "2 x 5 = 10 \n",
      "\n",
      "2 x 6 = 12 \n",
      "\n",
      "2 x 7 = 14 \n",
      "\n",
      "2 x 8 = 16 \n",
      "\n",
      "2 x 9 = 18 \n",
      "\n",
      "2 x 10 = 20 \n",
      "\n",
      "2 x 11 = 22 \n",
      "\n",
      "2 x 12 = 24 \n",
      "\n"
     ]
    }
   ],
   "source": [
    "for i in range(1,13):\n",
    "    print(\"2 x\", i, \"=\", 2 * i, \"\\n\")"
   ]
  },
  {
   "cell_type": "markdown",
   "metadata": {},
   "source": [
    "**Assignment**"
   ]
  },
  {
   "cell_type": "markdown",
   "metadata": {},
   "source": [
    "1. Write a code to display of 5-times table from 1 to 20. <br><p>\n",
    "    \n",
    "2. Write a program to check if the lenght of the string `'Univelcity'` is greater than 5.\n",
    "    - if yes, print \"The Lenght of the string is greater than 5\"\n",
    "    - otherwise, print \"The length of the string is not greater than 5\"<br><p>"
   ]
  },
  {
   "cell_type": "code",
   "execution_count": null,
   "metadata": {},
   "outputs": [],
   "source": []
  },
  {
   "cell_type": "markdown",
   "metadata": {
    "id": "UNgH0qhbHWEm"
   },
   "source": [
    "<a name='4-3'></a>\n",
    "\n",
    "### 4.3 While loop\n",
    "\n",
    "While loop will execute the statement(s) as long as the condition is true.\n",
    "\n",
    "Structure of while loop\n",
    "\n",
    "\n",
    "\n",
    "```\n",
    "while condition:\n",
    "  statement(s)\n",
    "```\n",
    "\n"
   ]
  },
  {
   "cell_type": "code",
   "execution_count": 56,
   "metadata": {
    "colab": {
     "base_uri": "https://localhost:8080/"
    },
    "id": "STL6xiWTHp3w",
    "outputId": "c29cccc6-3e0a-4c2b-e625-ffd4d4a1b9a7"
   },
   "outputs": [
    {
     "name": "stdout",
     "output_type": "stream",
     "text": [
      "a is: 10\n",
      "a is: 11\n",
      "a is: 12\n",
      "a is: 13\n",
      "a is: 14\n",
      "a is: 15\n",
      "a is: 16\n",
      "a is: 17\n",
      "a is: 18\n",
      "a is: 19\n"
     ]
    }
   ],
   "source": [
    "a = 10\n",
    "while a < 20:\n",
    "     print('a is: {}'.format(a))\n",
    "     a += 1"
   ]
  },
  {
   "cell_type": "code",
   "execution_count": 65,
   "metadata": {},
   "outputs": [
    {
     "name": "stdout",
     "output_type": "stream",
     "text": [
      "1\n",
      "2\n",
      "3\n",
      "4\n"
     ]
    }
   ],
   "source": [
    "i = 1\n",
    "while i < 6:\n",
    "    print(i)\n",
    "    if i == 4:\n",
    "        break\n",
    "    i+=1"
   ]
  },
  {
   "cell_type": "code",
   "execution_count": 69,
   "metadata": {},
   "outputs": [
    {
     "name": "stdout",
     "output_type": "stream",
     "text": [
      "6 x 1 = 6\n",
      "6 x 2 = 12\n",
      "6 x 3 = 18\n",
      "6 x 4 = 24\n",
      "6 x 5 = 30\n"
     ]
    }
   ],
   "source": [
    "# program to find first 5 multiples of 6\n",
    "\n",
    "i = 1\n",
    "\n",
    "while (i <= 10):\n",
    "    print('6 x', i, '=', 6 * i)\n",
    "\n",
    "    if i >= 5:\n",
    "        break\n",
    "\n",
    "    i = i + 1"
   ]
  },
  {
   "cell_type": "code",
   "execution_count": 71,
   "metadata": {},
   "outputs": [
    {
     "name": "stdout",
     "output_type": "stream",
     "text": [
      "You have passed level 0\n",
      "You have passed level 1\n",
      "You have passed level 2\n",
      "You have passed level 3\n",
      "You have passed level 4\n",
      "You have passed level 5\n",
      "Level Ends\n"
     ]
    }
   ],
   "source": [
    "current_level = 0\n",
    "final_level = 5\n",
    "\n",
    "game_completed = True\n",
    "\n",
    "while current_level <= final_level:\n",
    "    if game_completed:\n",
    "        print('You have passed level', current_level)\n",
    "        current_level += 1\n",
    "\n",
    "print('Level Ends')"
   ]
  },
  {
   "cell_type": "code",
   "execution_count": 73,
   "metadata": {},
   "outputs": [
    {
     "name": "stdout",
     "output_type": "stream",
     "text": [
      "J e s a a "
     ]
    }
   ],
   "source": [
    "name = 'Jesaa29roy'\n",
    "size =  len(name)\n",
    "i = 0\n",
    "# iterate loop till the last character\n",
    "while i < size:\n",
    "\n",
    "    # break loop if current character is number\n",
    "    if name[i].isdecimal():\n",
    "        break\n",
    "\n",
    "    # print current character\n",
    "    print(name[i], end=' ')\n",
    "    i = i + 1"
   ]
  },
  {
   "cell_type": "markdown",
   "metadata": {},
   "source": [
    "**Note** \n",
    "\n",
    "`.isdecimal()` method returns `True` if the character is a decimal character, and `False` if otherwise.\n",
    "\n",
    "- Decimal characters are those that can be used to form numbers in base 10."
   ]
  },
  {
   "cell_type": "markdown",
   "metadata": {},
   "source": [
    "### Exercise 1\n",
    "\n",
    "Not until this year, you have written jamb 4 times but you've still not been able to hit the cut-off mark to study your desired course in school. Write a while loop program that'll mirror the statement given below.\n",
    "\n",
    "**STATEMENT:** while I do not reach the cutt off mark to study medicine, I will keep writing jamb\n",
    "\n",
    "- Assume jamb's cut off mark for medicine is 250\n",
    "- The Jamb scores you've had = [102, 180, 165, 208, 310]\n",
    "\n",
    "---\n",
    "\n",
    "#### SOLUTION"
   ]
  },
  {
   "cell_type": "code",
   "execution_count": 83,
   "metadata": {},
   "outputs": [
    {
     "name": "stdout",
     "output_type": "stream",
     "text": [
      "Enter your preferred course of study:  Medicine\n"
     ]
    },
    {
     "name": "stdout",
     "output_type": "stream",
     "text": [
      " \n",
      "Your score is 102/400, cutoff: 250\n",
      "Your JAMB score didn't reach the cutoff mark to study medicine \n",
      "Try again next year\n",
      "----------------------------------- \n",
      "\n",
      "Your score is 180/400, cutoff: 250\n",
      "Your JAMB score didn't reach the cutoff mark to study medicine \n",
      "Try again next year\n",
      "----------------------------------- \n",
      "\n",
      "Your score is 165/400, cutoff: 250\n",
      "Your JAMB score didn't reach the cutoff mark to study medicine \n",
      "Try again next year\n",
      "----------------------------------- \n",
      "\n",
      "Your score is 208/400, cutoff: 250\n",
      "Your JAMB score didn't reach the cutoff mark to study medicine \n",
      "Try again next year\n",
      "----------------------------------- \n",
      "\n",
      "Finally, I have reached the cutoff score to study medicine in Unilag after 5 attempts!!\n"
     ]
    }
   ],
   "source": [
    "cutoff_mark = 250\n",
    "jamb_scores = [102, 180, 165, 208, 310]\n",
    "year = 0\n",
    "\n",
    "course = input('Enter your preferred course of study: ')\n",
    "print(' ')\n",
    "\n",
    "while jamb_scores[year] < cutoff_mark:\n",
    "    print(f'Your score is {jamb_scores[year]}/400, cutoff: {cutoff_mark}')\n",
    "    print(f\"Your JAMB score didn't reach the cutoff mark to study {course.lower()}\", '\\nTry again next year')\n",
    "    print('-'*35, '\\n')\n",
    "    year += 1\n",
    "else:\n",
    "    print(f'Finally, I have reached the cutoff score to study {course.lower()} in Unilag after {year + 1} attempts!!')\n",
    "    "
   ]
  },
  {
   "attachments": {
    "image-2.png": {
     "image/png": "[encoded data removed]"
    }
   },
   "cell_type": "markdown",
   "metadata": {
    "id": "i_kah8CoLNf1"
   },
   "source": [
    "# <a name='5'></a>\n",
    "\n",
    "---\n",
    "\n",
    "# 5. Functions\n",
    "\n",
    "In Python, a function is an organized block of reusable code. We use functions whenever we need to perform the same task multiple times without having to write the same code again. It can take arguments and returns the value.\n",
    "\n",
    "Python has a **DRY** principle like other programming languages. DRY stands for **Don’t Repeat Yourself**. Consider a scenario where we need to do some action/task many times. We can define that action only once using a function and call that function whenever required to do the same activity.\n",
    "\n",
    "In essence, functions are used to write codes or statements that can be used multiple times with different parameters.<br><p>\n",
    "\n",
    "<br>\n",
    "    \n",
    "## Types of Functions In Python\n",
    "\n",
    "\n",
    "There are two main types of function in Python programming:\n",
    "\n",
    "![image-2.png](attachment:image-2.png)\n",
    "\n",
    "- <b>Built-In / Standard Library Functions</b> - These are built-in functions in Python that are available to use.<br><p>\n",
    "- <b>User-Defined Functions</b> - This is the type of functions we can create by ourself based on our requirements."
   ]
  },
  {
   "cell_type": "markdown",
   "metadata": {},
   "source": [
    "---\n",
    "## 5.1 User-Defined Functions<br>\n",
    "\n",
    "One fundamental rule in programming is \"DRY\" or Do not Repeat Yourself. Functions will help to not repeat yourself. \n",
    "\n",
    "This is how you define a function in Python:\n",
    "\n",
    "```py\n",
    "def function_name(parameters):\n",
    "\n",
    "  \"\"\"\n",
    "  This is a Doc String\n",
    "  You can use it to write notes about the functions\n",
    "  \"\"\"\n",
    "  statements \n",
    "\n",
    "  return results\n",
    "```\n",
    "* `function_name` is the name of the function. It must not be similar to any built in functions. We will see built in functions later. \n",
    "* `parameters` are the values that are passed to the function.\n",
    "* `Doc String` is used to add notes about the function. It is not a must to use it but it is a `good practice`. \n",
    "\n",
    "* `return` specify something or value that you want to return everytime you call or run your function. \n",
    "\n"
   ]
  },
  {
   "cell_type": "markdown",
   "metadata": {},
   "source": [
    "### A) Non-Parameterized Function\n",
    "\n",
    "Now, Let’s see examples of a simple function that prints a welcome message."
   ]
  },
  {
   "cell_type": "code",
   "execution_count": 85,
   "metadata": {},
   "outputs": [],
   "source": [
    "def say_hello():\n",
    "    print('Helooooooo')"
   ]
  },
  {
   "cell_type": "code",
   "execution_count": 87,
   "metadata": {},
   "outputs": [
    {
     "name": "stdout",
     "output_type": "stream",
     "text": [
      "Helooooooo\n"
     ]
    }
   ],
   "source": [
    "say_hello()"
   ]
  },
  {
   "cell_type": "code",
   "execution_count": 3,
   "metadata": {},
   "outputs": [],
   "source": [
    "def say_welcome():\n",
    "    print(\"WELCOME TO TODAY's CLASS\")"
   ]
  },
  {
   "cell_type": "code",
   "execution_count": 5,
   "metadata": {},
   "outputs": [
    {
     "name": "stdout",
     "output_type": "stream",
     "text": [
      "WELCOME TO TODAY's CLASS\n"
     ]
    }
   ],
   "source": [
    "say_welcome()"
   ]
  },
  {
   "cell_type": "code",
   "execution_count": 7,
   "metadata": {},
   "outputs": [
    {
     "name": "stdout",
     "output_type": "stream",
     "text": [
      "Welcome to Univelcity Data Science Class\n"
     ]
    }
   ],
   "source": [
    "# function\n",
    "def message():\n",
    "    print('Welcome to Univelcity Data Science Class')\n",
    "\n",
    "# call function using its name\n",
    "message()"
   ]
  },
  {
   "cell_type": "code",
   "execution_count": 9,
   "metadata": {},
   "outputs": [
    {
     "name": "stdout",
     "output_type": "stream",
     "text": [
      "Please, remember to register your attendance\n"
     ]
    }
   ],
   "source": [
    "def attend_register():\n",
    "    print('Please, remember to register your attendance')\n",
    "\n",
    "attend_register()"
   ]
  },
  {
   "cell_type": "markdown",
   "metadata": {},
   "source": [
    "### B) Parameterized Function"
   ]
  },
  {
   "cell_type": "code",
   "execution_count": 27,
   "metadata": {
    "id": "PaLZl1rAMKFP"
   },
   "outputs": [],
   "source": [
    "# Function to add two numbers and return a sum\n",
    "\n",
    "def add_nums(a,b):\n",
    "\n",
    "    \"\"\"\n",
    "    Function to add two numbers given as inputs\n",
    "    It will return a sum of these two numbers\n",
    "    \"\"\"\n",
    "\n",
    "    summation = a + b\n",
    "\n",
    "    return summation"
   ]
  },
  {
   "cell_type": "code",
   "execution_count": 97,
   "metadata": {
    "colab": {
     "base_uri": "https://localhost:8080/"
    },
    "id": "2ZC1shNkMXiW",
    "outputId": "21911973-ef53-4c0f-d9b6-d7c5ae93d270"
   },
   "outputs": [
    {
     "data": {
      "text/plain": [
       "4"
      ]
     },
     "execution_count": 97,
     "metadata": {},
     "output_type": "execute_result"
    }
   ],
   "source": [
    "add_nums(a = 0, b = 4)"
   ]
  },
  {
   "cell_type": "code",
   "execution_count": 99,
   "metadata": {
    "colab": {
     "base_uri": "https://localhost:8080/"
    },
    "id": "7b5NRnJknUoM",
    "outputId": "43375893-6316-45cb-9e3c-23119adc159f"
   },
   "outputs": [
    {
     "data": {
      "text/plain": [
       "9"
      ]
     },
     "execution_count": 99,
     "metadata": {},
     "output_type": "execute_result"
    }
   ],
   "source": [
    "add_nums(4,5)"
   ]
  },
  {
   "cell_type": "code",
   "execution_count": 23,
   "metadata": {},
   "outputs": [
    {
     "data": {
      "text/plain": [
       "16"
      ]
     },
     "execution_count": 23,
     "metadata": {},
     "output_type": "execute_result"
    }
   ],
   "source": [
    "def numbs(x,y):\n",
    "    \n",
    "    plus = x + y\n",
    "\n",
    "    return plus\n",
    "\n",
    "numbs(x = 7,y = 9)"
   ]
  },
  {
   "cell_type": "code",
   "execution_count": 103,
   "metadata": {
    "colab": {
     "base_uri": "https://localhost:8080/"
    },
    "id": "q6ZlApF1uOQa",
    "outputId": "aa353c28-19b5-4327-c845-2e187452ee83"
   },
   "outputs": [
    {
     "name": "stdout",
     "output_type": "stream",
     "text": [
      "\n",
      "    Function to add two numbers given as inputs\n",
      "    It will return a sum of these two numbers\n",
      "    \n"
     ]
    }
   ],
   "source": [
    "# Displaying the doc string noted early\n",
    "\n",
    "print(add_nums.__doc__)"
   ]
  },
  {
   "cell_type": "code",
   "execution_count": 37,
   "metadata": {},
   "outputs": [],
   "source": [
    "def even_odd(n):\n",
    "    # check if number is even or odd\n",
    "    if n % 2 == 0:\n",
    "        print('Even number')\n",
    "    else:\n",
    "        print('Odd Number')"
   ]
  },
  {
   "cell_type": "code",
   "execution_count": 43,
   "metadata": {},
   "outputs": [
    {
     "name": "stdout",
     "output_type": "stream",
     "text": [
      "Odd Number\n"
     ]
    }
   ],
   "source": [
    "even_odd(19)"
   ]
  },
  {
   "cell_type": "code",
   "execution_count": 111,
   "metadata": {
    "id": "cS9vtHboMjDM"
   },
   "outputs": [],
   "source": [
    "def activity(name_1, name_2):\n",
    "\n",
    "    print(\"{} and {} are playing basketball!\".format(name_1, name_2))"
   ]
  },
  {
   "cell_type": "code",
   "execution_count": 113,
   "metadata": {
    "colab": {
     "base_uri": "https://localhost:8080/"
    },
    "id": "PwWx1JKInAy9",
    "outputId": "9f01176f-57ad-4cac-d39a-6e46528c8a98"
   },
   "outputs": [
    {
     "name": "stdout",
     "output_type": "stream",
     "text": [
      "Chris and Francois are playing basketball!\n"
     ]
    }
   ],
   "source": [
    "activity(\"Chris\", \"Francois\")"
   ]
  },
  {
   "cell_type": "code",
   "execution_count": 115,
   "metadata": {
    "colab": {
     "base_uri": "https://localhost:8080/"
    },
    "id": "LzIRq3C_nPsk",
    "outputId": "1365d31e-0603-4747-d17d-2935ea9aaead"
   },
   "outputs": [
    {
     "name": "stdout",
     "output_type": "stream",
     "text": [
      "Kennedy and Kleber are playing basketball!\n"
     ]
    }
   ],
   "source": [
    "activity(\"Kennedy\", \"Kleber\")"
   ]
  },
  {
   "cell_type": "code",
   "execution_count": 45,
   "metadata": {},
   "outputs": [],
   "source": [
    "def learning(name_3, name_4):\n",
    "    print(\"{} and {} are learning Python programming!!\".format(name_3, name_4))"
   ]
  },
  {
   "cell_type": "code",
   "execution_count": 47,
   "metadata": {},
   "outputs": [
    {
     "name": "stdout",
     "output_type": "stream",
     "text": [
      "Seun and Anthony are learning Python programming!!\n"
     ]
    }
   ],
   "source": [
    "learning(\"Seun\", \"Anthony\")"
   ]
  },
  {
   "cell_type": "markdown",
   "metadata": {
    "id": "ljGxEw6onphY"
   },
   "source": [
    "As you can see, functions do not need to always have `return`. When you only want to display the customized message (not involving expression), `print()` will be enough. "
   ]
  },
  {
   "cell_type": "markdown",
   "metadata": {
    "id": "uyY1LsFnoZdF"
   },
   "source": [
    "\n",
    "## <a name='7'></a>\n",
    "---\n",
    "## 5.2 Built In Functions\n",
    "\n",
    "Built-in functions are already defined in python. All a user needs to do is to remember the name and parameters of a particular function; and since these functions are pre-defined, there is no need to define them again.\n",
    "\n",
    "Here is a full preview on all [Python Built in functions](https://docs.python.org/3/library/functions.html).\n",
    "\n",
    "Some of the widely used built-in functions are given below:\n",
    "\n",
    "### A) Len Function\n",
    "\n",
    "An example of built in functions we used is `len()` which gives the length of the string or the list give as the input to it. \n"
   ]
  },
  {
   "cell_type": "code",
   "execution_count": 43,
   "metadata": {
    "colab": {
     "base_uri": "https://localhost:8080/"
    },
    "id": "z9jRgZSSoiNv",
    "outputId": "73f486fe-5917-4b5e-b31b-59db44852609"
   },
   "outputs": [
    {
     "data": {
      "text/plain": [
       "15"
      ]
     },
     "execution_count": 43,
     "metadata": {},
     "output_type": "execute_result"
    }
   ],
   "source": [
    "# using Len() to count the length of the string\n",
    "\n",
    "message = 'Do not give up!'\n",
    "len(message)"
   ]
  },
  {
   "cell_type": "code",
   "execution_count": 49,
   "metadata": {},
   "outputs": [
    {
     "data": {
      "text/plain": [
       "38"
      ]
     },
     "execution_count": 49,
     "metadata": {},
     "output_type": "execute_result"
    }
   ],
   "source": [
    "sent = \"Implementing the next generation of IT\"\n",
    "len(sent)"
   ]
  },
  {
   "cell_type": "code",
   "execution_count": 45,
   "metadata": {
    "colab": {
     "base_uri": "https://localhost:8080/"
    },
    "id": "DgJ5lG1Vp84a",
    "outputId": "54354bcf-80a1-4cbd-a59e-59790c4b210c"
   },
   "outputs": [
    {
     "data": {
      "text/plain": [
       "4"
      ]
     },
     "execution_count": 45,
     "metadata": {},
     "output_type": "execute_result"
    }
   ],
   "source": [
    "odd_numbers = [1,3,5,7]\n",
    "len(odd_numbers)"
   ]
  },
  {
   "cell_type": "code",
   "execution_count": 53,
   "metadata": {},
   "outputs": [
    {
     "data": {
      "text/plain": [
       "6"
      ]
     },
     "execution_count": 53,
     "metadata": {},
     "output_type": "execute_result"
    }
   ],
   "source": [
    "even_numbers = [2,4,6,8,10,12]\n",
    "len(even_numbers)"
   ]
  },
  {
   "cell_type": "code",
   "execution_count": 55,
   "metadata": {},
   "outputs": [
    {
     "name": "stdout",
     "output_type": "stream",
     "text": [
      "Length of string is 5\n",
      "Maximum number in list is 43\n",
      "Type is <class 'list'>\n"
     ]
    }
   ],
   "source": [
    "my_list = [2, 5, 19, 7, 43]\n",
    "\n",
    "print(\"Length of string is\", len(my_list))\n",
    "\n",
    "print(f\"Maximum number in list is {max(my_list)}\")\n",
    "\n",
    "print(\"Type is {}\".format(type(my_list)))"
   ]
  },
  {
   "cell_type": "markdown",
   "metadata": {},
   "source": [
    "### B) Min, Max, and Sorted Function"
   ]
  },
  {
   "cell_type": "code",
   "execution_count": 3,
   "metadata": {
    "colab": {
     "base_uri": "https://localhost:8080/"
    },
    "id": "ak5Xm5vhqGAL",
    "outputId": "eb679a70-e8f3-40e0-daab-ac03f1722e97"
   },
   "outputs": [
    {
     "data": {
      "text/plain": [
       "7"
      ]
     },
     "execution_count": 3,
     "metadata": {},
     "output_type": "execute_result"
    }
   ],
   "source": [
    "# Using max() to find the maximum number in a list\n",
    "\n",
    "odd_numbers = [1,3,5,7]\n",
    "max(odd_numbers)"
   ]
  },
  {
   "cell_type": "code",
   "execution_count": 5,
   "metadata": {
    "colab": {
     "base_uri": "https://localhost:8080/"
    },
    "id": "4_nIijESsGYj",
    "outputId": "8d176183-a12f-4897-ef41-59834acd237e"
   },
   "outputs": [
    {
     "data": {
      "text/plain": [
       "1"
      ]
     },
     "execution_count": 5,
     "metadata": {},
     "output_type": "execute_result"
    }
   ],
   "source": [
    "# using min() to find the minimum number in a list\n",
    "\n",
    "min(odd_numbers)"
   ]
  },
  {
   "cell_type": "code",
   "execution_count": 9,
   "metadata": {
    "colab": {
     "base_uri": "https://localhost:8080/"
    },
    "id": "rayIhzYzsNe_",
    "outputId": "c0780c20-7d6e-48ee-9f23-bf1052a1ac4a"
   },
   "outputs": [
    {
     "data": {
      "text/plain": [
       "[1, 3, 5, 7, 9, 11, 15]"
      ]
     },
     "execution_count": 9,
     "metadata": {},
     "output_type": "execute_result"
    }
   ],
   "source": [
    "# Sorting the list with sorted()\n",
    "\n",
    "odd_numbers = [9,7,3,5,11,15,1]\n",
    "\n",
    "sorted(odd_numbers)"
   ]
  },
  {
   "cell_type": "markdown",
   "metadata": {},
   "source": [
    "### C) Library (sub-module) Function\n",
    "\n",
    "We can take advantage of the built-in module and use the functions defined in it. For example, Python has a random module that is used for generating random numbers and data. It has various functions to create different types of random data.\n",
    "\n",
    "Let’s see how to use functions defined in any module.\n",
    "\n",
    "- First, we need to use the import statement to import a specific function from a module.\n",
    "- Next, we can call that function by its name."
   ]
  },
  {
   "cell_type": "code",
   "execution_count": 11,
   "metadata": {},
   "outputs": [
    {
     "name": "stdout",
     "output_type": "stream",
     "text": [
      "13\n"
     ]
    }
   ],
   "source": [
    "# Import randint function\n",
    "\n",
    "from random import randint\n",
    "\n",
    "print(randint(10, 20)) #<-- call randint function to get random number"
   ]
  },
  {
   "cell_type": "markdown",
   "metadata": {},
   "source": [
    "Alternatively, you can also use the library function like this"
   ]
  },
  {
   "cell_type": "code",
   "execution_count": 13,
   "metadata": {},
   "outputs": [
    {
     "name": "stdout",
     "output_type": "stream",
     "text": [
      "14\n"
     ]
    }
   ],
   "source": [
    "import random\n",
    "\n",
    "print(random.randint(10, 20))  #<-- generate a random number between 10 and 20"
   ]
  },
  {
   "cell_type": "code",
   "execution_count": 17,
   "metadata": {},
   "outputs": [
    {
     "name": "stdout",
     "output_type": "stream",
     "text": [
      "Square Root of 4 is 2.0\n"
     ]
    }
   ],
   "source": [
    "import math\n",
    "\n",
    "# sqrt computes the square root\n",
    "square_root = math.sqrt(4)\n",
    "\n",
    "print(\"Square Root of 4 is\", square_root)"
   ]
  },
  {
   "cell_type": "code",
   "execution_count": 27,
   "metadata": {},
   "outputs": [
    {
     "data": {
      "text/plain": [
       "Counter({'D': 3, 'A': 2, 'B': 1, 'C': 1})"
      ]
     },
     "execution_count": 27,
     "metadata": {},
     "output_type": "execute_result"
    }
   ],
   "source": [
    "from collections import Counter, defaultdict\n",
    "\n",
    "my_list = ['A', 'B', 'C', 'A', 'D', 'D', 'D']\n",
    "my_sentence = 'thinking about python'\n",
    "\n",
    "result = Counter(my_list) #<-- Count the frequency of elements in my_list\n",
    "result"
   ]
  },
  {
   "cell_type": "code",
   "execution_count": 21,
   "metadata": {},
   "outputs": [
    {
     "data": {
      "text/plain": [
       "[('D', 3), ('A', 2)]"
      ]
     },
     "execution_count": 21,
     "metadata": {},
     "output_type": "execute_result"
    }
   ],
   "source": [
    "result.most_common(2) #<-- Return just the two most common occurence"
   ]
  },
  {
   "cell_type": "code",
   "execution_count": 29,
   "metadata": {},
   "outputs": [
    {
     "data": {
      "text/plain": [
       "Counter({'t': 3,\n",
       "         'n': 3,\n",
       "         'h': 2,\n",
       "         'i': 2,\n",
       "         ' ': 2,\n",
       "         'o': 2,\n",
       "         'k': 1,\n",
       "         'g': 1,\n",
       "         'a': 1,\n",
       "         'b': 1,\n",
       "         'u': 1,\n",
       "         'p': 1,\n",
       "         'y': 1})"
      ]
     },
     "execution_count": 29,
     "metadata": {},
     "output_type": "execute_result"
    }
   ],
   "source": [
    "Counter(my_sentence)"
   ]
  },
  {
   "cell_type": "code",
   "execution_count": 35,
   "metadata": {},
   "outputs": [],
   "source": [
    "my_dict = {'a': 'apple', 'b': 'boy', 'c': 'cup'}                   #<--- normal dictionary\n",
    "\n",
    "default_dict1 = defaultdict(int, my_dict)                           #<--- default dictionary\n",
    "default_dict2 = defaultdict(lambda: 'does not exist', my_dict)      #<--- default dictionary\n"
   ]
  },
  {
   "cell_type": "code",
   "execution_count": 37,
   "metadata": {},
   "outputs": [
    {
     "data": {
      "text/plain": [
       "defaultdict(int, {'a': 'apple', 'b': 'boy', 'c': 'cup'})"
      ]
     },
     "execution_count": 37,
     "metadata": {},
     "output_type": "execute_result"
    }
   ],
   "source": [
    "default_dict1"
   ]
  },
  {
   "cell_type": "code",
   "execution_count": 39,
   "metadata": {},
   "outputs": [
    {
     "data": {
      "text/plain": [
       "defaultdict(<function __main__.<lambda>()>,\n",
       "            {'a': 'apple', 'b': 'boy', 'c': 'cup'})"
      ]
     },
     "execution_count": 39,
     "metadata": {},
     "output_type": "execute_result"
    }
   ],
   "source": [
    "default_dict2"
   ]
  },
  {
   "cell_type": "code",
   "execution_count": 41,
   "metadata": {},
   "outputs": [
    {
     "name": "stdout",
     "output_type": "stream",
     "text": [
      "0\n",
      "does not exist\n",
      "apple\n",
      "cup\n"
     ]
    }
   ],
   "source": [
    "# Returns a default value if a key doesn't exist in the dictionary\n",
    "\n",
    "print(default_dict1['d'])\n",
    "print(default_dict2['d'])\n",
    "\n",
    "print(default_dict1['a'])\n",
    "print(default_dict2['c'])"
   ]
  },
  {
   "cell_type": "code",
   "execution_count": null,
   "metadata": {},
   "outputs": [],
   "source": []
  },
  {
   "cell_type": "markdown",
   "metadata": {
    "id": "iU8ylnxKWmMf"
   },
   "source": [
    "### D) Enumerate Function"
   ]
  },
  {
   "cell_type": "markdown",
   "metadata": {
    "id": "iSej80ASb_eb"
   },
   "source": [
    "Enumerate function convert iterable objects into enumerate object. It basically returns a tuple that also contain a counter. \n",
    "\n",
    "That's sounds hard, but with examples, you can see how powerful this function is... "
   ]
  },
  {
   "cell_type": "code",
   "execution_count": 109,
   "metadata": {
    "colab": {
     "base_uri": "https://localhost:8080/"
    },
    "id": "WibF3Munca0U",
    "outputId": "057678f1-9ae9-42a8-d61a-e17e96e6afe8"
   },
   "outputs": [
    {
     "data": {
      "text/plain": [
       "[(0, 'Spring'), (1, 'Summer'), (2, 'Fall'), (3, 'Winter')]"
      ]
     },
     "execution_count": 109,
     "metadata": {},
     "output_type": "execute_result"
    }
   ],
   "source": [
    "seasons = ['Spring', 'Summer', 'Fall', 'Winter']\n",
    "\n",
    "list(enumerate(seasons))"
   ]
  },
  {
   "cell_type": "markdown",
   "metadata": {
    "id": "a2ISSpE-c9YE"
   },
   "source": [
    "As you can see, each element came with index counter automatically. The counter initially start at 0, but we can change it. "
   ]
  },
  {
   "cell_type": "code",
   "execution_count": 111,
   "metadata": {
    "colab": {
     "base_uri": "https://localhost:8080/"
    },
    "id": "VTFXbLr_dc1i",
    "outputId": "572ef0a5-9807-49b7-cc0b-5e4b1c162b56"
   },
   "outputs": [
    {
     "data": {
      "text/plain": [
       "[(1, 'Spring'), (2, 'Summer'), (3, 'Fall'), (4, 'Winter')]"
      ]
     },
     "execution_count": 111,
     "metadata": {},
     "output_type": "execute_result"
    }
   ],
   "source": [
    "list(enumerate(seasons, start=1))"
   ]
  },
  {
   "cell_type": "markdown",
   "metadata": {
    "id": "T8Z522_3eIPX"
   },
   "source": [
    "Here is another example: "
   ]
  },
  {
   "cell_type": "code",
   "execution_count": 113,
   "metadata": {
    "colab": {
     "base_uri": "https://localhost:8080/"
    },
    "id": "fqeWYORBc8in",
    "outputId": "14dd00ee-4855-4c60-b497-7617d2fd1440"
   },
   "outputs": [
    {
     "name": "stdout",
     "output_type": "stream",
     "text": [
      "0 - Rack\n",
      "1 - Paper\n",
      "2 - Scissor\n"
     ]
    }
   ],
   "source": [
    "class_names = ['Rack', 'Paper', 'Scissor']\n",
    "\n",
    "for index, class_name in enumerate(class_names, start=0):\n",
    "    print(index,'-',class_name)"
   ]
  },
  {
   "cell_type": "markdown",
   "metadata": {
    "id": "4yCl-dG1eO2C"
   },
   "source": [
    "### E) Zip Function"
   ]
  },
  {
   "cell_type": "markdown",
   "metadata": {
    "id": "uXM_FqareiWw"
   },
   "source": [
    "Zip is an incredible function that takes two iterators and returns a pair of corresponsing elements as a tuple. "
   ]
  },
  {
   "cell_type": "code",
   "execution_count": 119,
   "metadata": {
    "colab": {
     "base_uri": "https://localhost:8080/"
    },
    "id": "VPUuYcJJe5Eu",
    "outputId": "d690b1c1-aa17-4d2f-9c73-4a16b3156832"
   },
   "outputs": [
    {
     "data": {
      "text/plain": [
       "<zip at 0x283757a8600>"
      ]
     },
     "execution_count": 119,
     "metadata": {},
     "output_type": "execute_result"
    }
   ],
   "source": [
    "# This code shows location in memory\n",
    "\n",
    "name = ['Jessy', 'Joe', 'Jeannette']\n",
    "role = ['Machine Learning Engineer', 'Web Developer', 'Data Engineer']\n",
    "\n",
    "zipped_name_role = zip(name, role)\n",
    "zipped_name_role"
   ]
  },
  {
   "cell_type": "markdown",
   "metadata": {
    "id": "FKvYS_glfjrs"
   },
   "source": [
    "The zip object return nothing. In order to show the zipped elements, we can use a list. It's also same thing for enumerate you saw above."
   ]
  },
  {
   "cell_type": "code",
   "execution_count": 121,
   "metadata": {
    "colab": {
     "base_uri": "https://localhost:8080/"
    },
    "id": "R2r_01K9fylb",
    "outputId": "79ce3437-2b07-4496-e5df-a225b54f113d",
    "scrolled": true
   },
   "outputs": [
    {
     "data": {
      "text/plain": [
       "[('Jessy', 'Machine Learning Engineer'),\n",
       " ('Joe', 'Web Developer'),\n",
       " ('Jeannette', 'Data Engineer')]"
      ]
     },
     "execution_count": 121,
     "metadata": {},
     "output_type": "execute_result"
    }
   ],
   "source": [
    "list(zipped_name_role)  # This code displays the actual text in the location memory"
   ]
  },
  {
   "cell_type": "markdown",
   "metadata": {
    "id": "WYX_BY1Tu7PJ"
   },
   "source": [
    "--- \n",
    "Let's learn two more useful built functions: they are `map` and `filter`. You can try to explore or use more built in functions on your own. "
   ]
  },
  {
   "cell_type": "markdown",
   "metadata": {
    "id": "8lOs84gi2ZMW"
   },
   "source": [
    "<a name='7-1'></a>\n",
    "\n",
    "### F) Map function \n",
    "\n",
    "Map gives you the ability to apply a function to an iterable structures such as list. When used with a list for example, you can apply the function to every element of the list. \n",
    "\n",
    "Let's see how it works. \n"
   ]
  },
  {
   "cell_type": "code",
   "execution_count": 123,
   "metadata": {},
   "outputs": [],
   "source": [
    "def cubic(number):\n",
    "    return number ** 3"
   ]
  },
  {
   "cell_type": "code",
   "execution_count": 125,
   "metadata": {},
   "outputs": [],
   "source": [
    "num_list = [0,1,2,3,4]"
   ]
  },
  {
   "cell_type": "code",
   "execution_count": 127,
   "metadata": {},
   "outputs": [
    {
     "data": {
      "text/plain": [
       "[0, 1, 8, 27, 64]"
      ]
     },
     "execution_count": 127,
     "metadata": {},
     "output_type": "execute_result"
    }
   ],
   "source": [
    "store = [ ]\n",
    "for x in num_list:\n",
    "    result = cubic(x)\n",
    "    store.append(result)\n",
    "\n",
    "store"
   ]
  },
  {
   "cell_type": "code",
   "execution_count": 129,
   "metadata": {
    "colab": {
     "base_uri": "https://localhost:8080/"
    },
    "id": "alUGYCrp3eh9",
    "outputId": "a46328b2-f18b-4a3c-a794-c8e298fc290b"
   },
   "outputs": [
    {
     "data": {
      "text/plain": [
       "[0, 1, 8, 27, 64]"
      ]
     },
     "execution_count": 129,
     "metadata": {},
     "output_type": "execute_result"
    }
   ],
   "source": [
    "# Applying 'map' to the num_list to just return the list where each element is cubed...(xxx3)\n",
    "\n",
    "list(map(cubic, num_list))"
   ]
  },
  {
   "cell_type": "markdown",
   "metadata": {},
   "source": [
    "The essence of using map is to make our work easier. Instead of typing various numbers we'd like to run within `cubic` function, we can use the map function to do that. Let's look at another example below"
   ]
  },
  {
   "cell_type": "code",
   "execution_count": 133,
   "metadata": {},
   "outputs": [],
   "source": [
    "def times2(var):\n",
    "    return var * 2"
   ]
  },
  {
   "cell_type": "code",
   "execution_count": 135,
   "metadata": {
    "scrolled": true
   },
   "outputs": [
    {
     "data": {
      "text/plain": [
       "10"
      ]
     },
     "execution_count": 135,
     "metadata": {},
     "output_type": "execute_result"
    }
   ],
   "source": [
    "times2(5)  #<-- calling the function we created"
   ]
  },
  {
   "cell_type": "code",
   "execution_count": 137,
   "metadata": {},
   "outputs": [
    {
     "data": {
      "text/plain": [
       "[2, 4, 6, 8, 10]"
      ]
     },
     "execution_count": 137,
     "metadata": {},
     "output_type": "execute_result"
    }
   ],
   "source": [
    "seq = [1,2,3,4,5]\n",
    "\n",
    "list(map(times2, seq))"
   ]
  },
  {
   "cell_type": "markdown",
   "metadata": {
    "id": "Lwoq1ore4gX8"
   },
   "source": [
    "<a name='7-2'></a>\n",
    "\n",
    "### G) Filter Function\n",
    "\n",
    "Instead of mapping every element to a function, the built-in `filter` function in python will filter out elements from a sequence; and only returns value where the function happens to be `True`<br><p>\n",
    "\n",
    "Let's say that you have a list of numbers and you want to filter the list and remain with odd numbers. Odd number is any number which is not divisible by 2. \n",
    "\n",
    "You can develop a function to calculate it but you would have to always pass single value or values but not entire list. \n",
    "    \n",
    "Using `filter`, you can return `true` for every element of list evaluated by the function. "
   ]
  },
  {
   "cell_type": "code",
   "execution_count": 139,
   "metadata": {
    "id": "WYPtPI8H5jt8"
   },
   "outputs": [],
   "source": [
    "def odd_check(number):\n",
    "\n",
    "    return number % 2 != 0\n",
    "\n",
    "# != is not equal to operation"
   ]
  },
  {
   "cell_type": "code",
   "execution_count": 141,
   "metadata": {},
   "outputs": [
    {
     "data": {
      "text/plain": [
       "True"
      ]
     },
     "execution_count": 141,
     "metadata": {},
     "output_type": "execute_result"
    }
   ],
   "source": [
    "odd_check(13)"
   ]
  },
  {
   "cell_type": "code",
   "execution_count": 145,
   "metadata": {
    "colab": {
     "base_uri": "https://localhost:8080/"
    },
    "id": "Yz06GwMG57tp",
    "outputId": "aa8eeebd-21cd-4a7d-b379-42b21cc0e7eb"
   },
   "outputs": [
    {
     "data": {
      "text/plain": [
       "[1, 5, 7, 9, 11]"
      ]
     },
     "execution_count": 145,
     "metadata": {},
     "output_type": "execute_result"
    }
   ],
   "source": [
    "num_list = [1,2,4,5,6,7,8,9,10,11]\n",
    "\n",
    "list(filter(odd_check, num_list))"
   ]
  },
  {
   "cell_type": "markdown",
   "metadata": {
    "id": "UdBoHK66wJIj"
   },
   "source": [
    "<a name='6'></a>\n",
    "\n",
    "## H) Lambda Functions<br>\n",
    "\n",
    "Lambda functions in Python are a game-changer for writing elegant & efficient code! There are times that you may want to create an anonymous function; that is, a function without a name. This type of functions will only need to have one expressions.\n",
    "\n",
    "- Lambda function is simply an annonymous function.\n",
    "- Lambda functions can have any number of arguments, but they can only have one expression.\n",
    "- The expression is executed and the result is returned.\n",
    "\n",
    "It follows this syntax below\n",
    "\n",
    "```py\n",
    "lambda argument(s): expression\n",
    "```\n",
    "Here,\n",
    "\n",
    "- **argument(s)** - any value passed to the lambda function\n",
    "- **expression** - expression is executed and returned\n",
    "\n",
    "---\n",
    "### Example<br><p>\n",
    "\n",
    "**1. Lambda Function With No Argument**"
   ]
  },
  {
   "cell_type": "code",
   "execution_count": 153,
   "metadata": {},
   "outputs": [],
   "source": [
    "great = lambda : print('Hello World')"
   ]
  },
  {
   "cell_type": "code",
   "execution_count": 155,
   "metadata": {},
   "outputs": [
    {
     "name": "stdout",
     "output_type": "stream",
     "text": [
      "Hello World\n"
     ]
    }
   ],
   "source": [
    "great()"
   ]
  },
  {
   "cell_type": "markdown",
   "metadata": {},
   "source": [
    "**2. Lambda Function With An Argument**"
   ]
  },
  {
   "cell_type": "code",
   "execution_count": 157,
   "metadata": {},
   "outputs": [],
   "source": [
    "godswill = lambda x,y,z: x + 10 - z * y"
   ]
  },
  {
   "cell_type": "code",
   "execution_count": 159,
   "metadata": {},
   "outputs": [
    {
     "data": {
      "text/plain": [
       "<function __main__.<lambda>(x, y, z)>"
      ]
     },
     "execution_count": 159,
     "metadata": {},
     "output_type": "execute_result"
    }
   ],
   "source": [
    "godswill"
   ]
  },
  {
   "cell_type": "code",
   "execution_count": 161,
   "metadata": {},
   "outputs": [
    {
     "data": {
      "text/plain": [
       "3"
      ]
     },
     "execution_count": 161,
     "metadata": {},
     "output_type": "execute_result"
    }
   ],
   "source": [
    "godswill(5, 6, 2)"
   ]
  },
  {
   "cell_type": "code",
   "execution_count": 163,
   "metadata": {},
   "outputs": [],
   "source": [
    "great_user = lambda name : print('Hey there,', name)"
   ]
  },
  {
   "cell_type": "code",
   "execution_count": 165,
   "metadata": {},
   "outputs": [
    {
     "name": "stdout",
     "output_type": "stream",
     "text": [
      "Hey there, Malachy\n"
     ]
    }
   ],
   "source": [
    "great_user ('Malachy')"
   ]
  },
  {
   "cell_type": "markdown",
   "metadata": {},
   "source": [
    "---\n",
    "**Let's create a function that can sum two values using a user-defined function and a lambda function respectively.**"
   ]
  },
  {
   "cell_type": "code",
   "execution_count": 169,
   "metadata": {
    "colab": {
     "base_uri": "https://localhost:8080/"
    },
    "id": "M7QssT3XyBUa",
    "outputId": "f3b4bf11-ed3a-4aef-9df2-966a869a0639"
   },
   "outputs": [
    {
     "data": {
      "text/plain": [
       "4"
      ]
     },
     "execution_count": 169,
     "metadata": {},
     "output_type": "execute_result"
    }
   ],
   "source": [
    "# Sum of two numbers\n",
    "\n",
    "def add_nums(a,b):\n",
    "\n",
    "    sums = a + b\n",
    "\n",
    "    return sums\n",
    "\n",
    "add_nums(1,3)"
   ]
  },
  {
   "cell_type": "markdown",
   "metadata": {
    "id": "QZEDAQ91yN2V"
   },
   "source": [
    "We can use lambda to make the same function in just one line of code! Let's do it!!"
   ]
  },
  {
   "cell_type": "code",
   "execution_count": 171,
   "metadata": {
    "colab": {
     "base_uri": "https://localhost:8080/"
    },
    "id": "3KuUmPLRyVMv",
    "outputId": "18f70243-45d5-42ef-eef3-8d08b8c0bbf3"
   },
   "outputs": [
    {
     "data": {
      "text/plain": [
       "9"
      ]
     },
     "execution_count": 171,
     "metadata": {},
     "output_type": "execute_result"
    }
   ],
   "source": [
    "sum_of_two_nums = lambda c, d: c + d\n",
    "\n",
    "sum_of_two_nums(4,5)"
   ]
  },
  {
   "cell_type": "markdown",
   "metadata": {},
   "source": [
    "---\n",
    "**Using Lambda and Filter Function together**"
   ]
  },
  {
   "cell_type": "code",
   "execution_count": 175,
   "metadata": {},
   "outputs": [
    {
     "name": "stdout",
     "output_type": "stream",
     "text": [
      "[65, 39, 221]\n"
     ]
    }
   ],
   "source": [
    "my_list = [12, 65, 54, 39, 102, 320, 221, 50, 70]\n",
    "\n",
    "# Use annoymous function to filter numbers divisible by 13\n",
    "\n",
    "result = list(filter(lambda x: (x % 13 == 0), my_list))\n",
    "\n",
    "# printing the result\n",
    "print(result)"
   ]
  },
  {
   "cell_type": "code",
   "execution_count": 183,
   "metadata": {},
   "outputs": [
    {
     "name": "stdout",
     "output_type": "stream",
     "text": [
      "['geeg', 'keek', 'aa']\n"
     ]
    }
   ],
   "source": [
    "my_list = [\"geeks\", \"geeg\", \"keek\", \"practice\", \"aa\"]\n",
    "\n",
    "# Use annoymous function to filter palindromes (words that when reversed, will still give same word. e.g. geeg = geeg)\n",
    "\n",
    "result = list(filter(lambda x: (x == \"\".join(reversed(x))), my_list))\n",
    "\n",
    "# printing the result\n",
    "print(result)"
   ]
  },
  {
   "cell_type": "code",
   "execution_count": 181,
   "metadata": {},
   "outputs": [
    {
     "data": {
      "text/plain": [
       "[4, 6, 8, 12]"
      ]
     },
     "execution_count": 181,
     "metadata": {},
     "output_type": "execute_result"
    }
   ],
   "source": [
    "my_list = [1,5,4,6,8,11,3,12]\n",
    "\n",
    "# Use annoymous function (a.k.a Lambda Function) to filter even numbers\n",
    "\n",
    "list(filter(lambda num: num % 2 == 0, my_list))"
   ]
  },
  {
   "cell_type": "markdown",
   "metadata": {},
   "source": [
    "---\n",
    "**Using Lambda and Map Function together**"
   ]
  },
  {
   "cell_type": "code",
   "execution_count": 185,
   "metadata": {},
   "outputs": [
    {
     "name": "stdout",
     "output_type": "stream",
     "text": [
      "[2, 10, 8, 12, 16, 22, 6, 24]\n"
     ]
    }
   ],
   "source": [
    "# Program to double each item in a list using map()\n",
    "\n",
    "my_list = [1, 5, 4, 6, 8, 11, 3, 12]\n",
    "\n",
    "new_list = list(map(lambda x: x * 2 , my_list))\n",
    "\n",
    "print(new_list)"
   ]
  },
  {
   "cell_type": "markdown",
   "metadata": {},
   "source": [
    "---\n",
    "\n",
    "### CLASS WORK\n",
    "\n",
    "Use Lambda and Filter functions to filter out words that start with `'s'` in the list given below: <br><p>\n",
    "['soup', 'cat', 'sneakers', 'dog', 'heavy', 'salad']"
   ]
  },
  {
   "cell_type": "markdown",
   "metadata": {},
   "source": [
    "### Solution"
   ]
  },
  {
   "cell_type": "code",
   "execution_count": 199,
   "metadata": {},
   "outputs": [
    {
     "name": "stdout",
     "output_type": "stream",
     "text": [
      "['soup', 'sneakers', 'salad']\n"
     ]
    }
   ],
   "source": [
    "my_list = ['soup', 'cat', 'sneakers', 'dog', 'heavy', 'salad']\n",
    "\n",
    "result = list(filter(lambda x: x.startswith('s'), my_list))\n",
    "\n",
    "# printing the result\n",
    "print(result)"
   ]
  },
  {
   "cell_type": "code",
   "execution_count": 201,
   "metadata": {},
   "outputs": [
    {
     "name": "stdout",
     "output_type": "stream",
     "text": [
      "['soup', 'sneakers', 'salad']\n"
     ]
    }
   ],
   "source": [
    "my_list = ['soup', 'cat', 'sneakers', 'dog', 'heavy', 'salad']\n",
    "print(list(filter(lambda word: word[0] == 's', my_list)))"
   ]
  },
  {
   "cell_type": "markdown",
   "metadata": {},
   "source": [
    "### H) Reduce Function"
   ]
  },
  {
   "cell_type": "markdown",
   "metadata": {},
   "source": [
    "`Reduce()` function is used in performing some computations on a list, and unlike `map()` and `filter()` function, it returns a single value as the result.<br> \n",
    "> The `reduce(func, seq)` function is used to apply a particular function passed in its argument to all of the list elements mentioned in the sequence passed along. This function is defined in the `functools` module.\n",
    "\n",
    "**Example**"
   ]
  },
  {
   "cell_type": "code",
   "execution_count": 216,
   "metadata": {},
   "outputs": [],
   "source": [
    "def gibberish(*args): # *args is flexible argument\n",
    "\n",
    "    \"\"\"\n",
    "    concatenate strings in args together\n",
    "    \"\"\"\n",
    "\n",
    "    answer = ''\n",
    "    for word in args:\n",
    "        #print(f'answer: {answer} + {word} = {answer + word}')\n",
    "        answer += word\n",
    "    return answer"
   ]
  },
  {
   "cell_type": "code",
   "execution_count": 218,
   "metadata": {},
   "outputs": [
    {
     "data": {
      "text/plain": [
       "'HelloDearGoodluck!'"
      ]
     },
     "execution_count": 218,
     "metadata": {},
     "output_type": "execute_result"
    }
   ],
   "source": [
    "gibberish('Hello', 'Dear', 'Goodluck!')"
   ]
  },
  {
   "cell_type": "markdown",
   "metadata": {},
   "source": [
    "Here `gibberish()` simply takes a list of strings as an argument and returns, as a single-value result, the concatenation of all the strings. Likewise, in this example, we'll try to replicate this functionality by using the `reduce()` function that concatenates strings together."
   ]
  },
  {
   "cell_type": "code",
   "execution_count": 220,
   "metadata": {},
   "outputs": [],
   "source": [
    "from functools import reduce"
   ]
  },
  {
   "cell_type": "code",
   "execution_count": 222,
   "metadata": {},
   "outputs": [],
   "source": [
    "stark = ['Robb', 'Sansa', 'Arya', 'Brandon', 'Rickon']"
   ]
  },
  {
   "cell_type": "code",
   "execution_count": 224,
   "metadata": {},
   "outputs": [
    {
     "name": "stdout",
     "output_type": "stream",
     "text": [
      "RobbSansaAryaBrandonRickon\n"
     ]
    }
   ],
   "source": [
    "result = reduce(lambda item1, item2 : item1 + item2, stark)\n",
    "print(result)"
   ]
  },
  {
   "cell_type": "markdown",
   "metadata": {
    "id": "Svoes7X-TzZ2"
   },
   "source": [
    "<a name='8'></a>\n",
    "\n",
    "## 8. More Useful Python Stuff"
   ]
  },
  {
   "cell_type": "markdown",
   "metadata": {
    "id": "KVoGtQLbUBtw"
   },
   "source": [
    "Python is an awesome programming language that has a lot of useful functions.\n",
    "\n",
    "Let's see more useful things you may need beyond what's we just saw already."
   ]
  },
  {
   "cell_type": "markdown",
   "metadata": {
    "id": "mL3B-qcKUT0V"
   },
   "source": [
    "### 8.1 List Comprehension"
   ]
  },
  {
   "cell_type": "markdown",
   "metadata": {
    "id": "6Fj2keTkUaLs"
   },
   "source": [
    "List comprehension makes it easy to make a new list from an existing list based on a given conditions. It's very concise and readable.\n",
    "\n",
    "Take an example for the following cases. "
   ]
  },
  {
   "cell_type": "code",
   "execution_count": 1,
   "metadata": {
    "colab": {
     "base_uri": "https://localhost:8080/"
    },
    "id": "koXKO-YBXg7h",
    "outputId": "df4e9239-6182-4528-9801-f9b07197e50d"
   },
   "outputs": [
    {
     "name": "stdout",
     "output_type": "stream",
     "text": [
      "[2, 4, 6, 8, 10, 12, 14, 16, 18]\n"
     ]
    }
   ],
   "source": [
    "# Given a list of numbers, can you make a new list of even numbers from the list name?\n",
    "# Even numbers are numbers divisible by 2, and they give the remainder of 0\n",
    "\n",
    "nums = range(1,20)\n",
    "even_nums = []\n",
    "\n",
    "# A traditional way to do it is:\n",
    "\n",
    "for num in nums:\n",
    "    if num % 2 == 0:\n",
    "        even_nums.append(num)\n",
    "\n",
    "print(even_nums)"
   ]
  },
  {
   "cell_type": "markdown",
   "metadata": {
    "id": "On4y8_jRY1pT"
   },
   "source": [
    "A more concise and easy way to do that is to use list comprehension. "
   ]
  },
  {
   "cell_type": "code",
   "execution_count": 59,
   "metadata": {
    "colab": {
     "base_uri": "https://localhost:8080/"
    },
    "id": "Qlmc7atXY_ZB",
    "outputId": "4eeda4bc-6a8c-4e4e-d88e-78863593e347"
   },
   "outputs": [
    {
     "name": "stdout",
     "output_type": "stream",
     "text": [
      "[2, 4, 6, 8, 10, 12, 14, 16, 18]\n"
     ]
    }
   ],
   "source": [
    "even_nums = [i for i in nums if i % 2 == 0]\n",
    "print(even_nums)"
   ]
  },
  {
   "cell_type": "markdown",
   "metadata": {
    "id": "usia15jeZTeu"
   },
   "source": [
    "You can see it's pretty simple. And more readable than the former. Let's take another example."
   ]
  },
  {
   "cell_type": "code",
   "execution_count": 63,
   "metadata": {
    "colab": {
     "base_uri": "https://localhost:8080/"
    },
    "id": "MOLI8nVrZYoW",
    "outputId": "80f606b8-f33c-41c9-aeea-efef6111cdd9"
   },
   "outputs": [
    {
     "name": "stdout",
     "output_type": "stream",
     "text": [
      "['Tuesday', 'Thursday']\n"
     ]
    }
   ],
   "source": [
    "days = ['Monday', 'Tuesday', 'Wednesday', 'Thursday', 'Friday', 'Saturday']\n",
    "day_T = []\n",
    "\n",
    "# Make a list of days that start with 'T'\n",
    "\n",
    "for day in days:\n",
    "\n",
    "   if day[0] == 'T':\n",
    "      day_T.append(day)\n",
    "\n",
    "print(day_T)"
   ]
  },
  {
   "cell_type": "markdown",
   "metadata": {
    "id": "fwm2skAJa5gn"
   },
   "source": [
    "A more concise way to do it would be: "
   ]
  },
  {
   "cell_type": "code",
   "execution_count": 67,
   "metadata": {
    "colab": {
     "base_uri": "https://localhost:8080/"
    },
    "id": "-m-9Aqjka9qU",
    "outputId": "19b9087d-f9ab-4e91-a762-1fdb8229d84b"
   },
   "outputs": [
    {
     "name": "stdout",
     "output_type": "stream",
     "text": [
      "['Tuesday', 'Thursday']\n"
     ]
    }
   ],
   "source": [
    "day_T = [day for day in days if day[0] == 'T']\n",
    "print(day_T)"
   ]
  },
  {
   "cell_type": "code",
   "execution_count": 69,
   "metadata": {},
   "outputs": [
    {
     "name": "stdout",
     "output_type": "stream",
     "text": [
      "[16, 324, 400]\n"
     ]
    }
   ],
   "source": [
    "# Creating a list with square values of only the even numbers\n",
    "\n",
    "inputList = [4,7,11,13,18,20]\n",
    "squareList = [var ** 2 for var in inputList if var % 2 == 0]\n",
    "print(squareList)"
   ]
  },
  {
   "cell_type": "markdown",
   "metadata": {},
   "source": [
    "**Nested IF Statement With List Comprehension**"
   ]
  },
  {
   "cell_type": "code",
   "execution_count": 71,
   "metadata": {},
   "outputs": [
    {
     "name": "stdout",
     "output_type": "stream",
     "text": [
      "[0, 10, 20, 30, 40, 50, 60, 70, 80, 90]\n"
     ]
    }
   ],
   "source": [
    "num_list = [y for y in range(100) if y % 2 == 0 if y % 5 == 0]\n",
    "print(num_list)"
   ]
  },
  {
   "cell_type": "markdown",
   "metadata": {},
   "source": [
    "**List Comprehensions with Conditionals**"
   ]
  },
  {
   "cell_type": "code",
   "execution_count": 73,
   "metadata": {},
   "outputs": [
    {
     "name": "stdout",
     "output_type": "stream",
     "text": [
      "['Even', 'Odd', 'Even', 'Odd', 'Even', 'Odd', 'Even', 'Odd', 'Even', 'Odd']\n"
     ]
    }
   ],
   "source": [
    "obj = [\"Even\" if i % 2 == 0 else  \"Odd\" for i in range (10)]\n",
    "print(obj)"
   ]
  },
  {
   "cell_type": "code",
   "execution_count": 75,
   "metadata": {},
   "outputs": [
    {
     "data": {
      "text/plain": [
       "['odd', 'even', 'number three', 'even', 'odd', 'even', 'odd', 'even', 'odd']"
      ]
     },
     "execution_count": 75,
     "metadata": {},
     "output_type": "execute_result"
    }
   ],
   "source": [
    "['even' if x % 2 == 0 else 'number three' if x == 3 else 'odd' for x in range(1,10)]"
   ]
  },
  {
   "cell_type": "code",
   "execution_count": 77,
   "metadata": {},
   "outputs": [
    {
     "name": "stdout",
     "output_type": "stream",
     "text": [
      "['1 It is odd', '4 is even', '7 It is odd', '12 is even', '19 It is odd', '22 is even', '23 It is odd', '26 is even']\n"
     ]
    }
   ],
   "source": [
    "some_list = [1,4,7,12,19,22,23,26]\n",
    "new_list = [\"{} is even\".format(i) if (i % 2 == 0) else \"{} It is odd\".format(i) for i in some_list]\n",
    "\n",
    "print(new_list)"
   ]
  },
  {
   "cell_type": "markdown",
   "metadata": {},
   "source": [
    "**Using List Comprehension In Place Of Nested For Loop**"
   ]
  },
  {
   "cell_type": "code",
   "execution_count": 87,
   "metadata": {},
   "outputs": [
    {
     "name": "stdout",
     "output_type": "stream",
     "text": [
      "[(0, 6), (0, 7), (1, 6), (1, 7)]\n"
     ]
    }
   ],
   "source": [
    "pairs_1 = []\n",
    "\n",
    "for num1 in range(0,2):\n",
    "    for num2 in range(6,8):\n",
    "        pairs_1.append((num1, num2))\n",
    "\n",
    "print(pairs_1)"
   ]
  },
  {
   "cell_type": "code",
   "execution_count": 89,
   "metadata": {},
   "outputs": [
    {
     "name": "stdout",
     "output_type": "stream",
     "text": [
      "[(0, 6), (0, 7), (1, 6), (1, 7)]\n"
     ]
    }
   ],
   "source": [
    "# Now using list comprehension to achieve this\n",
    "\n",
    "pairs_2 = [(num1, num2) for num1 in range(0,2) for num2 in range(6,8)]\n",
    "print(pairs_2)"
   ]
  },
  {
   "cell_type": "code",
   "execution_count": null,
   "metadata": {},
   "outputs": [],
   "source": []
  },
  {
   "cell_type": "markdown",
   "metadata": {},
   "source": [
    "---\n",
    "Suppose, we need to compute the transpose of a matrix that requires nested for loop. Let’s see how it is done using normal for loop first."
   ]
  },
  {
   "cell_type": "code",
   "execution_count": 3,
   "metadata": {},
   "outputs": [
    {
     "name": "stdout",
     "output_type": "stream",
     "text": [
      "[[1, 4], [2, 5], [3, 6], [4, 8]]\n"
     ]
    }
   ],
   "source": [
    "transposed = []\n",
    "matrix = [[1, 2, 3, 4],\n",
    "         [4, 5, 6, 8]]   #<-- A 2 x 4 matrix\n",
    "\n",
    "for i in range(len(matrix[0])):\n",
    "    transposed_row = []\n",
    "\n",
    "    for row in matrix:\n",
    "        transposed_row.append(row[i])\n",
    "    transposed.append(transposed_row)\n",
    "\n",
    "print(transposed)"
   ]
  },
  {
   "cell_type": "markdown",
   "metadata": {},
   "source": [
    "The above code use two for loops to find transpose of the matrix.\n",
    "\n",
    "We can also perform nested iteration inside a list comprehension. In this section, we will find transpose of a matrix using nested loop inside list comprehension."
   ]
  },
  {
   "cell_type": "code",
   "execution_count": 97,
   "metadata": {},
   "outputs": [
    {
     "name": "stdout",
     "output_type": "stream",
     "text": [
      "[[1, 2, 3, 4], [4, 5, 6, 8]]\n"
     ]
    }
   ],
   "source": [
    "matrix = [[1, 4], [2, 5], [3, 6], [4, 8]]     #<-- A 4 x 2 matrix\n",
    "\n",
    "transpose = [[row[i] for row in matrix] for i in range(2)]\n",
    "print(transpose)"
   ]
  },
  {
   "cell_type": "markdown",
   "metadata": {},
   "source": [
    "### 8.2 Dictionary Comprehension"
   ]
  },
  {
   "cell_type": "markdown",
   "metadata": {},
   "source": [
    "\n",
    "\n",
    "A dictionary comprehension allows us to run a `for` loop on a dictionary and do something on each item like transforming or filtering and returns a new dictionary.\n",
    "\n",
    "Unlike a for loop, a dictionary comprehension offers a more expressive and concise syntax when you used correctly.\n",
    "\n",
    "<br><p>\n",
    "\n",
    "<br>\n",
    "Here is the general syntax for dictionary comprehension:\n",
    "\n",
    "```py\n",
    "{key:value for (key,value) in dict.items() if condition}\n",
    "```"
   ]
  },
  {
   "cell_type": "markdown",
   "metadata": {},
   "source": [
    "**Example**"
   ]
  },
  {
   "cell_type": "code",
   "execution_count": 99,
   "metadata": {},
   "outputs": [
    {
     "name": "stdout",
     "output_type": "stream",
     "text": [
      "{2: 4, 8: 64}\n"
     ]
    }
   ],
   "source": [
    "# calculate the square of each even number from a list and store in dict\n",
    "\n",
    "numbers = [1, 3, 5, 2, 8]\n",
    "even_squares = {x : x ** 2 for x in numbers if x % 2 == 0}\n",
    "print(even_squares)"
   ]
  },
  {
   "cell_type": "code",
   "execution_count": 101,
   "metadata": {},
   "outputs": [
    {
     "data": {
      "text/plain": [
       "{'Mercury': 'M',\n",
       " 'Venus': 'V',\n",
       " 'Earth': 'E',\n",
       " 'Mars': 'M',\n",
       " 'Jupiter': 'J',\n",
       " 'Saturn': 'S',\n",
       " 'Uranus': 'U',\n",
       " 'Neptune': 'N'}"
      ]
     },
     "execution_count": 101,
     "metadata": {},
     "output_type": "execute_result"
    }
   ],
   "source": [
    "planets = ['Mercury', 'Venus', 'Earth', 'Mars', 'Jupiter', 'Saturn', 'Uranus', 'Neptune']\n",
    "planet_to_initial = {planet: planet[0] for planet in planets}\n",
    "planet_to_initial"
   ]
  },
  {
   "cell_type": "code",
   "execution_count": 103,
   "metadata": {},
   "outputs": [
    {
     "name": "stdout",
     "output_type": "stream",
     "text": [
      "{'Peak Milk': 1326.0, 'Nescafe': 3250.0, 'Jumbo-Size Bread': 1950.0}\n"
     ]
    }
   ],
   "source": [
    "# Item price in dollars\n",
    "old_price = {'Peak Milk': 1.02, 'Nescafe': 2.5, 'Jumbo-Size Bread': 1.5}\n",
    "\n",
    "naira_to_dollar = 1300\n",
    "\n",
    "new_price = {item: value * naira_to_dollar for (item, value) in old_price.items()}\n",
    "\n",
    "print(new_price)"
   ]
  },
  {
   "cell_type": "code",
   "execution_count": 105,
   "metadata": {},
   "outputs": [
    {
     "name": "stdout",
     "output_type": "stream",
     "text": [
      "{'Jessa': 1178, 'Emma': 4020, 'Kelly': 5786}\n"
     ]
    }
   ],
   "source": [
    "telephone_book = [1178, 4020, 5786]\n",
    "persons = ['Jessa', 'Emma', 'Kelly']\n",
    "\n",
    "telephone_Directory = {key: value for key, value in zip(persons, telephone_book)}\n",
    "print(telephone_Directory)"
   ]
  },
  {
   "cell_type": "markdown",
   "metadata": {},
   "source": [
    "---\n",
    "---\n",
    "**Reading Task**: Mutable vs. Immutable Data Types in Python [Here]('https://towardsdatascience.com/https-towardsdatascience-com-python-basics-mutable-vs-immutable-objects-829a0cb1530a')\n",
    "\n",
    "- Read this before our next class on Writing Functions In Python."
   ]
  },
  {
   "cell_type": "markdown",
   "metadata": {
    "id": "ipgT7Bcxp8Bm"
   },
   "source": [
    "----\n",
    "*This is the end of the lab. The basics of the programming are always good to have, and hopefully this single notebook provided all the necessary things to know about Python.*"
   ]
  },
  {
   "cell_type": "markdown",
   "metadata": {
    "id": "9kfdbcevQQ6T"
   },
   "source": [
    "## [BACK TO TOP](#0)"
   ]
  }
 ],
 "metadata": {
  "colab": {
   "collapsed_sections": [],
   "name": "0. Intro to Python for Machine Learning.ipynb",
   "provenance": []
  },
  "kernelspec": {
   "display_name": "Python 3 (ipykernel)",
   "language": "python",
   "name": "python3"
  },
  "language_info": {
   "codemirror_mode": {
    "name": "ipython",
    "version": 3
   },
   "file_extension": ".py",
   "mimetype": "text/x-python",
   "name": "python",
   "nbconvert_exporter": "python",
   "pygments_lexer": "ipython3",
   "version": "3.12.4"
  }
 },
 "nbformat": 4,
 "nbformat_minor": 4
}
